{
  "nbformat": 4,
  "nbformat_minor": 0,
  "metadata": {
    "colab": {
      "provenance": [],
      "gpuType": "T4"
    },
    "kernelspec": {
      "name": "python3",
      "display_name": "Python 3"
    },
    "language_info": {
      "name": "python"
    },
    "accelerator": "GPU",
    "widgets": {
      "application/vnd.jupyter.widget-state+json": {
        "8503a0c0ee6f4faa8350dd35e22b3275": {
          "model_module": "@jupyter-widgets/controls",
          "model_name": "FloatProgressModel",
          "model_module_version": "1.5.0",
          "state": {
            "_dom_classes": [],
            "_model_module": "@jupyter-widgets/controls",
            "_model_module_version": "1.5.0",
            "_model_name": "FloatProgressModel",
            "_view_count": null,
            "_view_module": "@jupyter-widgets/controls",
            "_view_module_version": "1.5.0",
            "_view_name": "ProgressView",
            "bar_style": "",
            "description": "",
            "description_tooltip": null,
            "layout": "IPY_MODEL_e6b8a7811241492caab6f9cbaab67152",
            "max": 100,
            "min": 0,
            "orientation": "horizontal",
            "style": "IPY_MODEL_c4eca0ddc36c4d409781217431a1744b",
            "value": 100
          }
        },
        "e6b8a7811241492caab6f9cbaab67152": {
          "model_module": "@jupyter-widgets/base",
          "model_name": "LayoutModel",
          "model_module_version": "1.2.0",
          "state": {
            "_model_module": "@jupyter-widgets/base",
            "_model_module_version": "1.2.0",
            "_model_name": "LayoutModel",
            "_view_count": null,
            "_view_module": "@jupyter-widgets/base",
            "_view_module_version": "1.2.0",
            "_view_name": "LayoutView",
            "align_content": null,
            "align_items": null,
            "align_self": null,
            "border": null,
            "bottom": null,
            "display": null,
            "flex": null,
            "flex_flow": null,
            "grid_area": null,
            "grid_auto_columns": null,
            "grid_auto_flow": null,
            "grid_auto_rows": null,
            "grid_column": null,
            "grid_gap": null,
            "grid_row": null,
            "grid_template_areas": null,
            "grid_template_columns": null,
            "grid_template_rows": null,
            "height": null,
            "justify_content": null,
            "justify_items": null,
            "left": null,
            "margin": null,
            "max_height": null,
            "max_width": null,
            "min_height": null,
            "min_width": null,
            "object_fit": null,
            "object_position": null,
            "order": null,
            "overflow": null,
            "overflow_x": null,
            "overflow_y": null,
            "padding": null,
            "right": null,
            "top": null,
            "visibility": null,
            "width": "auto"
          }
        },
        "c4eca0ddc36c4d409781217431a1744b": {
          "model_module": "@jupyter-widgets/controls",
          "model_name": "ProgressStyleModel",
          "model_module_version": "1.5.0",
          "state": {
            "_model_module": "@jupyter-widgets/controls",
            "_model_module_version": "1.5.0",
            "_model_name": "ProgressStyleModel",
            "_view_count": null,
            "_view_module": "@jupyter-widgets/base",
            "_view_module_version": "1.2.0",
            "_view_name": "StyleView",
            "bar_color": "black",
            "description_width": ""
          }
        },
        "e0640bea338d48bc874ce8340b9ff2c7": {
          "model_module": "@jupyter-widgets/controls",
          "model_name": "FloatProgressModel",
          "model_module_version": "1.5.0",
          "state": {
            "_dom_classes": [],
            "_model_module": "@jupyter-widgets/controls",
            "_model_module_version": "1.5.0",
            "_model_name": "FloatProgressModel",
            "_view_count": null,
            "_view_module": "@jupyter-widgets/controls",
            "_view_module_version": "1.5.0",
            "_view_name": "ProgressView",
            "bar_style": "",
            "description": "",
            "description_tooltip": null,
            "layout": "IPY_MODEL_f4ec561d273340db9e33bb940515316d",
            "max": 100,
            "min": 0,
            "orientation": "horizontal",
            "style": "IPY_MODEL_a7ec30c3cfc9499c9a3ceb5da495a4d4",
            "value": 100
          }
        },
        "f4ec561d273340db9e33bb940515316d": {
          "model_module": "@jupyter-widgets/base",
          "model_name": "LayoutModel",
          "model_module_version": "1.2.0",
          "state": {
            "_model_module": "@jupyter-widgets/base",
            "_model_module_version": "1.2.0",
            "_model_name": "LayoutModel",
            "_view_count": null,
            "_view_module": "@jupyter-widgets/base",
            "_view_module_version": "1.2.0",
            "_view_name": "LayoutView",
            "align_content": null,
            "align_items": null,
            "align_self": null,
            "border": null,
            "bottom": null,
            "display": null,
            "flex": null,
            "flex_flow": null,
            "grid_area": null,
            "grid_auto_columns": null,
            "grid_auto_flow": null,
            "grid_auto_rows": null,
            "grid_column": null,
            "grid_gap": null,
            "grid_row": null,
            "grid_template_areas": null,
            "grid_template_columns": null,
            "grid_template_rows": null,
            "height": null,
            "justify_content": null,
            "justify_items": null,
            "left": null,
            "margin": null,
            "max_height": null,
            "max_width": null,
            "min_height": null,
            "min_width": null,
            "object_fit": null,
            "object_position": null,
            "order": null,
            "overflow": null,
            "overflow_x": null,
            "overflow_y": null,
            "padding": null,
            "right": null,
            "top": null,
            "visibility": null,
            "width": "auto"
          }
        },
        "a7ec30c3cfc9499c9a3ceb5da495a4d4": {
          "model_module": "@jupyter-widgets/controls",
          "model_name": "ProgressStyleModel",
          "model_module_version": "1.5.0",
          "state": {
            "_model_module": "@jupyter-widgets/controls",
            "_model_module_version": "1.5.0",
            "_model_name": "ProgressStyleModel",
            "_view_count": null,
            "_view_module": "@jupyter-widgets/base",
            "_view_module_version": "1.2.0",
            "_view_name": "StyleView",
            "bar_color": "black",
            "description_width": ""
          }
        }
      }
    }
  },
  "cells": [
    {
      "cell_type": "code",
      "execution_count": 21,
      "metadata": {
        "colab": {
          "base_uri": "https://localhost:8080/"
        },
        "id": "dm0yIgOvxDYJ",
        "outputId": "75fa1b50-b48c-492e-9b64-d83bfc306841"
      },
      "outputs": [
        {
          "output_type": "stream",
          "name": "stdout",
          "text": [
            "Requirement already satisfied: langchain-ollama in /usr/local/lib/python3.12/dist-packages (1.0.0)\n",
            "Requirement already satisfied: langchain-openai in /usr/local/lib/python3.12/dist-packages (1.0.0)\n",
            "Requirement already satisfied: langchain-core<2.0.0,>=1.0.0 in /usr/local/lib/python3.12/dist-packages (from langchain-ollama) (1.0.0)\n",
            "Requirement already satisfied: ollama<1.0.0,>=0.6.0 in /usr/local/lib/python3.12/dist-packages (from langchain-ollama) (0.6.0)\n",
            "Requirement already satisfied: openai<3.0.0,>=1.109.1 in /usr/local/lib/python3.12/dist-packages (from langchain-openai) (1.109.1)\n",
            "Requirement already satisfied: tiktoken<1.0.0,>=0.7.0 in /usr/local/lib/python3.12/dist-packages (from langchain-openai) (0.12.0)\n",
            "Requirement already satisfied: jsonpatch<2.0.0,>=1.33.0 in /usr/local/lib/python3.12/dist-packages (from langchain-core<2.0.0,>=1.0.0->langchain-ollama) (1.33)\n",
            "Requirement already satisfied: langsmith<1.0.0,>=0.3.45 in /usr/local/lib/python3.12/dist-packages (from langchain-core<2.0.0,>=1.0.0->langchain-ollama) (0.4.35)\n",
            "Requirement already satisfied: packaging<26.0.0,>=23.2.0 in /usr/local/lib/python3.12/dist-packages (from langchain-core<2.0.0,>=1.0.0->langchain-ollama) (25.0)\n",
            "Requirement already satisfied: pydantic<3.0.0,>=2.7.4 in /usr/local/lib/python3.12/dist-packages (from langchain-core<2.0.0,>=1.0.0->langchain-ollama) (2.11.10)\n",
            "Requirement already satisfied: pyyaml<7.0.0,>=5.3.0 in /usr/local/lib/python3.12/dist-packages (from langchain-core<2.0.0,>=1.0.0->langchain-ollama) (6.0.3)\n",
            "Requirement already satisfied: tenacity!=8.4.0,<10.0.0,>=8.1.0 in /usr/local/lib/python3.12/dist-packages (from langchain-core<2.0.0,>=1.0.0->langchain-ollama) (8.5.0)\n",
            "Requirement already satisfied: typing-extensions<5.0.0,>=4.7.0 in /usr/local/lib/python3.12/dist-packages (from langchain-core<2.0.0,>=1.0.0->langchain-ollama) (4.15.0)\n",
            "Requirement already satisfied: httpx>=0.27 in /usr/local/lib/python3.12/dist-packages (from ollama<1.0.0,>=0.6.0->langchain-ollama) (0.28.1)\n",
            "Requirement already satisfied: anyio<5,>=3.5.0 in /usr/local/lib/python3.12/dist-packages (from openai<3.0.0,>=1.109.1->langchain-openai) (4.11.0)\n",
            "Requirement already satisfied: distro<2,>=1.7.0 in /usr/local/lib/python3.12/dist-packages (from openai<3.0.0,>=1.109.1->langchain-openai) (1.9.0)\n",
            "Requirement already satisfied: jiter<1,>=0.4.0 in /usr/local/lib/python3.12/dist-packages (from openai<3.0.0,>=1.109.1->langchain-openai) (0.11.0)\n",
            "Requirement already satisfied: sniffio in /usr/local/lib/python3.12/dist-packages (from openai<3.0.0,>=1.109.1->langchain-openai) (1.3.1)\n",
            "Requirement already satisfied: tqdm>4 in /usr/local/lib/python3.12/dist-packages (from openai<3.0.0,>=1.109.1->langchain-openai) (4.67.1)\n",
            "Requirement already satisfied: regex>=2022.1.18 in /usr/local/lib/python3.12/dist-packages (from tiktoken<1.0.0,>=0.7.0->langchain-openai) (2024.11.6)\n",
            "Requirement already satisfied: requests>=2.26.0 in /usr/local/lib/python3.12/dist-packages (from tiktoken<1.0.0,>=0.7.0->langchain-openai) (2.32.4)\n",
            "Requirement already satisfied: idna>=2.8 in /usr/local/lib/python3.12/dist-packages (from anyio<5,>=3.5.0->openai<3.0.0,>=1.109.1->langchain-openai) (3.11)\n",
            "Requirement already satisfied: certifi in /usr/local/lib/python3.12/dist-packages (from httpx>=0.27->ollama<1.0.0,>=0.6.0->langchain-ollama) (2025.10.5)\n",
            "Requirement already satisfied: httpcore==1.* in /usr/local/lib/python3.12/dist-packages (from httpx>=0.27->ollama<1.0.0,>=0.6.0->langchain-ollama) (1.0.9)\n",
            "Requirement already satisfied: h11>=0.16 in /usr/local/lib/python3.12/dist-packages (from httpcore==1.*->httpx>=0.27->ollama<1.0.0,>=0.6.0->langchain-ollama) (0.16.0)\n",
            "Requirement already satisfied: jsonpointer>=1.9 in /usr/local/lib/python3.12/dist-packages (from jsonpatch<2.0.0,>=1.33.0->langchain-core<2.0.0,>=1.0.0->langchain-ollama) (3.0.0)\n",
            "Requirement already satisfied: orjson>=3.9.14 in /usr/local/lib/python3.12/dist-packages (from langsmith<1.0.0,>=0.3.45->langchain-core<2.0.0,>=1.0.0->langchain-ollama) (3.11.3)\n",
            "Requirement already satisfied: requests-toolbelt>=1.0.0 in /usr/local/lib/python3.12/dist-packages (from langsmith<1.0.0,>=0.3.45->langchain-core<2.0.0,>=1.0.0->langchain-ollama) (1.0.0)\n",
            "Requirement already satisfied: zstandard>=0.23.0 in /usr/local/lib/python3.12/dist-packages (from langsmith<1.0.0,>=0.3.45->langchain-core<2.0.0,>=1.0.0->langchain-ollama) (0.25.0)\n",
            "Requirement already satisfied: annotated-types>=0.6.0 in /usr/local/lib/python3.12/dist-packages (from pydantic<3.0.0,>=2.7.4->langchain-core<2.0.0,>=1.0.0->langchain-ollama) (0.7.0)\n",
            "Requirement already satisfied: pydantic-core==2.33.2 in /usr/local/lib/python3.12/dist-packages (from pydantic<3.0.0,>=2.7.4->langchain-core<2.0.0,>=1.0.0->langchain-ollama) (2.33.2)\n",
            "Requirement already satisfied: typing-inspection>=0.4.0 in /usr/local/lib/python3.12/dist-packages (from pydantic<3.0.0,>=2.7.4->langchain-core<2.0.0,>=1.0.0->langchain-ollama) (0.4.2)\n",
            "Requirement already satisfied: charset_normalizer<4,>=2 in /usr/local/lib/python3.12/dist-packages (from requests>=2.26.0->tiktoken<1.0.0,>=0.7.0->langchain-openai) (3.4.4)\n",
            "Requirement already satisfied: urllib3<3,>=1.21.1 in /usr/local/lib/python3.12/dist-packages (from requests>=2.26.0->tiktoken<1.0.0,>=0.7.0->langchain-openai) (2.5.0)\n"
          ]
        }
      ],
      "source": [
        "!pip install -U langchain-ollama langchain-openai"
      ]
    },
    {
      "cell_type": "code",
      "source": [
        "from google.colab import drive\n",
        "drive.mount('/content/drive')"
      ],
      "metadata": {
        "colab": {
          "base_uri": "https://localhost:8080/"
        },
        "id": "N71N4XY-xGQn",
        "outputId": "9b3e5b4c-6639-444b-d07a-27c10ddd8638"
      },
      "execution_count": 22,
      "outputs": [
        {
          "output_type": "stream",
          "name": "stdout",
          "text": [
            "Drive already mounted at /content/drive; to attempt to forcibly remount, call drive.mount(\"/content/drive\", force_remount=True).\n"
          ]
        }
      ]
    },
    {
      "cell_type": "code",
      "source": [
        "!ls /content/drive/MyDrive/review_dataset"
      ],
      "metadata": {
        "colab": {
          "base_uri": "https://localhost:8080/"
        },
        "id": "JoyFlSRpxM-H",
        "outputId": "f901e059-73b8-4ec1-8c41-ac6abbc9a2aa"
      },
      "execution_count": 23,
      "outputs": [
        {
          "output_type": "stream",
          "name": "stdout",
          "text": [
            "sample_submission.csv  w_review_train.csv\n",
            "test_file.csv\t       w_review_train.parquet\n"
          ]
        }
      ]
    },
    {
      "cell_type": "code",
      "source": [
        "import duckdb\n",
        "\n",
        "con = duckdb.connect(database=':memory:', read_only=False)"
      ],
      "metadata": {
        "id": "vC-7j56GxVj1"
      },
      "execution_count": 24,
      "outputs": []
    },
    {
      "cell_type": "code",
      "source": [
        "df = con.execute(\"SELECT * FROM read_csv_auto('/content/drive/MyDrive/review_dataset/w_review_train.csv', parallel=false, encoding='UTF-8', ignore_errors=true)\").fetchdf()\n",
        "\n",
        "df.head()"
      ],
      "metadata": {
        "colab": {
          "base_uri": "https://localhost:8080/",
          "height": 206
        },
        "id": "RLNnK12AxYUg",
        "outputId": "5df56475-50ec-4444-89be-9bb0be8a5fe3"
      },
      "execution_count": 25,
      "outputs": [
        {
          "output_type": "execute_result",
          "data": {
            "text/plain": [
              "                                             column0  column1\n",
              "0  ร้านอาหารใหญ่มากกกกกกก \\nเลี้ยวเข้ามาเจอห้องน้...        3\n",
              "1  อาหารที่นี่เป็นอาหารจีนแคะที่หากินยากในบ้านเรา...        4\n",
              "2  ปอเปี๊ยะสด ทุกวันนี้รู้สึกว่าหากินยาก (ร้านที่...        3\n",
              "3  รัานคัพเค้กในเมืองไทยมีไม่มาก หลายๆคนอาจจะสงสั...        5\n",
              "4  อร่อย!!! เดินผ่านDigital gatewayทุกวัน ไม่ยักร...        5"
            ],
            "text/html": [
              "\n",
              "  <div id=\"df-49063140-f8df-48cd-9501-5048e11b4eb2\" class=\"colab-df-container\">\n",
              "    <div>\n",
              "<style scoped>\n",
              "    .dataframe tbody tr th:only-of-type {\n",
              "        vertical-align: middle;\n",
              "    }\n",
              "\n",
              "    .dataframe tbody tr th {\n",
              "        vertical-align: top;\n",
              "    }\n",
              "\n",
              "    .dataframe thead th {\n",
              "        text-align: right;\n",
              "    }\n",
              "</style>\n",
              "<table border=\"1\" class=\"dataframe\">\n",
              "  <thead>\n",
              "    <tr style=\"text-align: right;\">\n",
              "      <th></th>\n",
              "      <th>column0</th>\n",
              "      <th>column1</th>\n",
              "    </tr>\n",
              "  </thead>\n",
              "  <tbody>\n",
              "    <tr>\n",
              "      <th>0</th>\n",
              "      <td>ร้านอาหารใหญ่มากกกกกกก \\nเลี้ยวเข้ามาเจอห้องน้...</td>\n",
              "      <td>3</td>\n",
              "    </tr>\n",
              "    <tr>\n",
              "      <th>1</th>\n",
              "      <td>อาหารที่นี่เป็นอาหารจีนแคะที่หากินยากในบ้านเรา...</td>\n",
              "      <td>4</td>\n",
              "    </tr>\n",
              "    <tr>\n",
              "      <th>2</th>\n",
              "      <td>ปอเปี๊ยะสด ทุกวันนี้รู้สึกว่าหากินยาก (ร้านที่...</td>\n",
              "      <td>3</td>\n",
              "    </tr>\n",
              "    <tr>\n",
              "      <th>3</th>\n",
              "      <td>รัานคัพเค้กในเมืองไทยมีไม่มาก หลายๆคนอาจจะสงสั...</td>\n",
              "      <td>5</td>\n",
              "    </tr>\n",
              "    <tr>\n",
              "      <th>4</th>\n",
              "      <td>อร่อย!!! เดินผ่านDigital gatewayทุกวัน ไม่ยักร...</td>\n",
              "      <td>5</td>\n",
              "    </tr>\n",
              "  </tbody>\n",
              "</table>\n",
              "</div>\n",
              "    <div class=\"colab-df-buttons\">\n",
              "\n",
              "  <div class=\"colab-df-container\">\n",
              "    <button class=\"colab-df-convert\" onclick=\"convertToInteractive('df-49063140-f8df-48cd-9501-5048e11b4eb2')\"\n",
              "            title=\"Convert this dataframe to an interactive table.\"\n",
              "            style=\"display:none;\">\n",
              "\n",
              "  <svg xmlns=\"http://www.w3.org/2000/svg\" height=\"24px\" viewBox=\"0 -960 960 960\">\n",
              "    <path d=\"M120-120v-720h720v720H120Zm60-500h600v-160H180v160Zm220 220h160v-160H400v160Zm0 220h160v-160H400v160ZM180-400h160v-160H180v160Zm440 0h160v-160H620v160ZM180-180h160v-160H180v160Zm440 0h160v-160H620v160Z\"/>\n",
              "  </svg>\n",
              "    </button>\n",
              "\n",
              "  <style>\n",
              "    .colab-df-container {\n",
              "      display:flex;\n",
              "      gap: 12px;\n",
              "    }\n",
              "\n",
              "    .colab-df-convert {\n",
              "      background-color: #E8F0FE;\n",
              "      border: none;\n",
              "      border-radius: 50%;\n",
              "      cursor: pointer;\n",
              "      display: none;\n",
              "      fill: #1967D2;\n",
              "      height: 32px;\n",
              "      padding: 0 0 0 0;\n",
              "      width: 32px;\n",
              "    }\n",
              "\n",
              "    .colab-df-convert:hover {\n",
              "      background-color: #E2EBFA;\n",
              "      box-shadow: 0px 1px 2px rgba(60, 64, 67, 0.3), 0px 1px 3px 1px rgba(60, 64, 67, 0.15);\n",
              "      fill: #174EA6;\n",
              "    }\n",
              "\n",
              "    .colab-df-buttons div {\n",
              "      margin-bottom: 4px;\n",
              "    }\n",
              "\n",
              "    [theme=dark] .colab-df-convert {\n",
              "      background-color: #3B4455;\n",
              "      fill: #D2E3FC;\n",
              "    }\n",
              "\n",
              "    [theme=dark] .colab-df-convert:hover {\n",
              "      background-color: #434B5C;\n",
              "      box-shadow: 0px 1px 3px 1px rgba(0, 0, 0, 0.15);\n",
              "      filter: drop-shadow(0px 1px 2px rgba(0, 0, 0, 0.3));\n",
              "      fill: #FFFFFF;\n",
              "    }\n",
              "  </style>\n",
              "\n",
              "    <script>\n",
              "      const buttonEl =\n",
              "        document.querySelector('#df-49063140-f8df-48cd-9501-5048e11b4eb2 button.colab-df-convert');\n",
              "      buttonEl.style.display =\n",
              "        google.colab.kernel.accessAllowed ? 'block' : 'none';\n",
              "\n",
              "      async function convertToInteractive(key) {\n",
              "        const element = document.querySelector('#df-49063140-f8df-48cd-9501-5048e11b4eb2');\n",
              "        const dataTable =\n",
              "          await google.colab.kernel.invokeFunction('convertToInteractive',\n",
              "                                                    [key], {});\n",
              "        if (!dataTable) return;\n",
              "\n",
              "        const docLinkHtml = 'Like what you see? Visit the ' +\n",
              "          '<a target=\"_blank\" href=https://colab.research.google.com/notebooks/data_table.ipynb>data table notebook</a>'\n",
              "          + ' to learn more about interactive tables.';\n",
              "        element.innerHTML = '';\n",
              "        dataTable['output_type'] = 'display_data';\n",
              "        await google.colab.output.renderOutput(dataTable, element);\n",
              "        const docLink = document.createElement('div');\n",
              "        docLink.innerHTML = docLinkHtml;\n",
              "        element.appendChild(docLink);\n",
              "      }\n",
              "    </script>\n",
              "  </div>\n",
              "\n",
              "\n",
              "    <div id=\"df-c9427a14-559d-45bb-9f14-f15ff3b5c0f0\">\n",
              "      <button class=\"colab-df-quickchart\" onclick=\"quickchart('df-c9427a14-559d-45bb-9f14-f15ff3b5c0f0')\"\n",
              "                title=\"Suggest charts\"\n",
              "                style=\"display:none;\">\n",
              "\n",
              "<svg xmlns=\"http://www.w3.org/2000/svg\" height=\"24px\"viewBox=\"0 0 24 24\"\n",
              "     width=\"24px\">\n",
              "    <g>\n",
              "        <path d=\"M19 3H5c-1.1 0-2 .9-2 2v14c0 1.1.9 2 2 2h14c1.1 0 2-.9 2-2V5c0-1.1-.9-2-2-2zM9 17H7v-7h2v7zm4 0h-2V7h2v10zm4 0h-2v-4h2v4z\"/>\n",
              "    </g>\n",
              "</svg>\n",
              "      </button>\n",
              "\n",
              "<style>\n",
              "  .colab-df-quickchart {\n",
              "      --bg-color: #E8F0FE;\n",
              "      --fill-color: #1967D2;\n",
              "      --hover-bg-color: #E2EBFA;\n",
              "      --hover-fill-color: #174EA6;\n",
              "      --disabled-fill-color: #AAA;\n",
              "      --disabled-bg-color: #DDD;\n",
              "  }\n",
              "\n",
              "  [theme=dark] .colab-df-quickchart {\n",
              "      --bg-color: #3B4455;\n",
              "      --fill-color: #D2E3FC;\n",
              "      --hover-bg-color: #434B5C;\n",
              "      --hover-fill-color: #FFFFFF;\n",
              "      --disabled-bg-color: #3B4455;\n",
              "      --disabled-fill-color: #666;\n",
              "  }\n",
              "\n",
              "  .colab-df-quickchart {\n",
              "    background-color: var(--bg-color);\n",
              "    border: none;\n",
              "    border-radius: 50%;\n",
              "    cursor: pointer;\n",
              "    display: none;\n",
              "    fill: var(--fill-color);\n",
              "    height: 32px;\n",
              "    padding: 0;\n",
              "    width: 32px;\n",
              "  }\n",
              "\n",
              "  .colab-df-quickchart:hover {\n",
              "    background-color: var(--hover-bg-color);\n",
              "    box-shadow: 0 1px 2px rgba(60, 64, 67, 0.3), 0 1px 3px 1px rgba(60, 64, 67, 0.15);\n",
              "    fill: var(--button-hover-fill-color);\n",
              "  }\n",
              "\n",
              "  .colab-df-quickchart-complete:disabled,\n",
              "  .colab-df-quickchart-complete:disabled:hover {\n",
              "    background-color: var(--disabled-bg-color);\n",
              "    fill: var(--disabled-fill-color);\n",
              "    box-shadow: none;\n",
              "  }\n",
              "\n",
              "  .colab-df-spinner {\n",
              "    border: 2px solid var(--fill-color);\n",
              "    border-color: transparent;\n",
              "    border-bottom-color: var(--fill-color);\n",
              "    animation:\n",
              "      spin 1s steps(1) infinite;\n",
              "  }\n",
              "\n",
              "  @keyframes spin {\n",
              "    0% {\n",
              "      border-color: transparent;\n",
              "      border-bottom-color: var(--fill-color);\n",
              "      border-left-color: var(--fill-color);\n",
              "    }\n",
              "    20% {\n",
              "      border-color: transparent;\n",
              "      border-left-color: var(--fill-color);\n",
              "      border-top-color: var(--fill-color);\n",
              "    }\n",
              "    30% {\n",
              "      border-color: transparent;\n",
              "      border-left-color: var(--fill-color);\n",
              "      border-top-color: var(--fill-color);\n",
              "      border-right-color: var(--fill-color);\n",
              "    }\n",
              "    40% {\n",
              "      border-color: transparent;\n",
              "      border-right-color: var(--fill-color);\n",
              "      border-top-color: var(--fill-color);\n",
              "    }\n",
              "    60% {\n",
              "      border-color: transparent;\n",
              "      border-right-color: var(--fill-color);\n",
              "    }\n",
              "    80% {\n",
              "      border-color: transparent;\n",
              "      border-right-color: var(--fill-color);\n",
              "      border-bottom-color: var(--fill-color);\n",
              "    }\n",
              "    90% {\n",
              "      border-color: transparent;\n",
              "      border-bottom-color: var(--fill-color);\n",
              "    }\n",
              "  }\n",
              "</style>\n",
              "\n",
              "      <script>\n",
              "        async function quickchart(key) {\n",
              "          const quickchartButtonEl =\n",
              "            document.querySelector('#' + key + ' button');\n",
              "          quickchartButtonEl.disabled = true;  // To prevent multiple clicks.\n",
              "          quickchartButtonEl.classList.add('colab-df-spinner');\n",
              "          try {\n",
              "            const charts = await google.colab.kernel.invokeFunction(\n",
              "                'suggestCharts', [key], {});\n",
              "          } catch (error) {\n",
              "            console.error('Error during call to suggestCharts:', error);\n",
              "          }\n",
              "          quickchartButtonEl.classList.remove('colab-df-spinner');\n",
              "          quickchartButtonEl.classList.add('colab-df-quickchart-complete');\n",
              "        }\n",
              "        (() => {\n",
              "          let quickchartButtonEl =\n",
              "            document.querySelector('#df-c9427a14-559d-45bb-9f14-f15ff3b5c0f0 button');\n",
              "          quickchartButtonEl.style.display =\n",
              "            google.colab.kernel.accessAllowed ? 'block' : 'none';\n",
              "        })();\n",
              "      </script>\n",
              "    </div>\n",
              "\n",
              "    </div>\n",
              "  </div>\n"
            ],
            "application/vnd.google.colaboratory.intrinsic+json": {
              "type": "dataframe",
              "variable_name": "df",
              "summary": "{\n  \"name\": \"df\",\n  \"rows\": 40000,\n  \"fields\": [\n    {\n      \"column\": \"column0\",\n      \"properties\": {\n        \"dtype\": \"string\",\n        \"num_unique_values\": 39993,\n        \"samples\": [\n          \"\\u0e40\\u0e04\\u0e22\\u0e21\\u0e32\\u0e23\\u0e49\\u0e32\\u0e19\\u0e19\\u0e35\\u0e492\\u0e04\\u0e23\\u0e31\\u0e49\\u0e07\\u0e41\\u0e23\\u0e30 \\u0e23\\u0e49\\u0e32\\u0e19\\u0e2d\\u0e22\\u0e39\\u0e48\\u0e1b\\u0e32\\u0e01\\u0e17\\u0e32\\u0e07\\u0e25\\u0e32\\u0e14\\u0e1e\\u0e23\\u0e49\\u0e32\\u0e27 \\u0e16\\u0e19\\u0e19\\u0e27\\u0e34\\u0e20\\u0e32\\u0e27\\u0e14\\u0e35\\u0e23\\u0e31\\u0e07\\u0e2a\\u0e34\\u0e15 \\u0e15\\u0e34\\u0e14\\u0e43\\u0e08\\u0e23\\u0e2a\\u0e0a\\u0e32\\u0e15\\u0e34\\u0e2d\\u0e32\\u0e2b\\u0e32\\u0e23\\u0e1a\\u0e23\\u0e23\\u0e22\\u0e32\\u0e01\\u0e32\\u0e28\\u0e22\\u0e49\\u0e2d\\u0e19\\u0e22\\u0e38\\u0e04 60s \\u0e23\\u0e49\\u0e32\\u0e19\\u0e08\\u0e30\\u0e40\\u0e15\\u0e47\\u0e21\\u0e44\\u0e1b\\u0e14\\u0e49\\u0e27\\u0e22\\u0e41\\u0e1c\\u0e48\\u0e19\\u0e40\\u0e2a\\u0e35\\u0e22\\u0e07\\u0e41\\u0e1b\\u0e30\\u0e46\\u0e23\\u0e2d\\u0e1a\\u0e23\\u0e49\\u0e32\\u0e19\\u0e41\\u0e25\\u0e30\\u0e40\\u0e04\\u0e23\\u0e37\\u0e48\\u0e2d\\u0e07\\u0e40\\u0e2a\\u0e35\\u0e22\\u0e07 \\u0e02\\u0e2d\\u0e07\\u0e40\\u0e01\\u0e48\\u0e32 \\u0e23\\u0e49\\u0e32\\u0e19\\u0e21\\u0e35\\u0e42\\u0e15\\u0e4a\\u0e30\\u0e17\\u0e35\\u0e48\\u0e0a\\u0e31\\u0e49\\u0e19\\u0e25\\u0e2d\\u0e22\\u0e14\\u0e49\\u0e27\\u0e22 \\u0e04\\u0e19\\u0e41\\u0e19\\u0e48\\u0e19\\u0e23\\u0e49\\u0e32\\u0e19\\u0e15\\u0e25\\u0e2d\\u0e14 \\u0e21\\u0e35\\u0e0a\\u0e32\\u0e27\\u0e15\\u0e48\\u0e32\\u0e07\\u0e0a\\u0e32\\u0e15\\u0e34\\u0e14\\u0e49\\u0e27\\u0e22\",\n          \"\\u0e2a\\u0e32\\u0e02\\u0e32\\u0e19\\u0e35\\u0e49\\u0e40\\u0e1b\\u0e47\\u0e19\\u0e41\\u0e1a\\u0e1a\\u0e19\\u0e35\\u0e49\\u0e17\\u0e38\\u0e01\\u0e17\\u0e35\\u0e44\\u0e21\\u0e48\\u0e40\\u0e02\\u0e49\\u0e32\\u0e43\\u0e08\\u0e40\\u0e25\\u0e22\\n\\u0e23\\u0e31\\u0e01\\u0e41\\u0e1a\\u0e23\\u0e19\\u0e14\\u0e4c\\u0e08\\u0e36\\u0e07\\u0e2d\\u0e14\\u0e15\\u0e33\\u0e2b\\u0e19\\u0e34\\u0e44\\u0e21\\u0e48\\u0e44\\u0e14\\u0e49\\n\\n\\u0e21\\u0e32\\u0e01\\u0e34\\u0e19 Zen \\u0e17\\u0e35\\u0e48\\u0e40\\u0e0b\\u0e47\\u0e19\\u0e17\\u0e23\\u0e31\\u0e25\\u0e25\\u0e32\\u0e14\\u0e1e\\u0e23\\u0e49\\u0e32\\u0e27\\u0e17\\u0e35\\u0e44\\u0e23\\u0e23\\u0e39\\u0e49\\u0e2a\\u0e36\\u0e01\\u0e02\\u0e2d\\u0e07\\u0e44\\u0e21\\u0e48\\u0e2a\\u0e14\\n\\u0e01\\u0e34\\u0e19\\u0e17\\u0e35\\u0e48\\u0e1f\\u0e34\\u0e27\\u0e40\\u0e08\\u0e2d\\u0e23\\u0e4c\\u0e23\\u0e31\\u0e07\\u0e2a\\u0e34\\u0e15\\u0e2a\\u0e14\\u0e01\\u0e27\\u0e48\\u0e32\\u0e21\\u0e32\\u0e01\\u0e46\\n\\n\\u0e2a\\u0e31\\u0e48\\u0e07\\u0e44\\u0e1b\\u0e2b\\u0e25\\u0e32\\u0e22\\u0e2d\\u0e22\\u0e48\\u0e32\\u0e07\\u0e04\\u0e48\\u0e30\\n\\u0e42\\u0e0b\\u0e30\\u0e1a\\u0e30\\u0e40\\u0e17\\u0e21\\u0e1b\\u0e38\\u0e23\\u0e30 \\u0e01\\u0e38\\u0e49\\u0e07\\u0e2a\\u0e2d\\u0e07\\u0e15\\u0e31\\u0e27 \\u0e19\\u0e49\\u0e33\\u0e0b\\u0e38\\u0e1b\\u0e23\\u0e49\\u0e2d\\u0e19 \\u0e2d\\u0e2d\\u0e01\\u0e2b\\u0e27\\u0e32\\u0e19 \\u0e01\\u0e34\\u0e19\\u0e44\\u0e14\\u0e49\\n\\u0e2b\\u0e21\\u0e36\\u0e01\\u0e22\\u0e33 \\u0e17\\u0e35\\u0e48\\u0e40\\u0e1b\\u0e47\\u0e19\\u0e40\\u0e04\\u0e23\\u0e37\\u0e48\\u0e2d\\u0e07\\u0e40\\u0e04\\u0e35\\u0e22\\u0e07 \\u0e2b\\u0e21\\u0e36\\u0e01\\u0e01\\u0e23\\u0e38\\u0e1a\\u0e46 \\u0e2d\\u0e2d\\u0e01\\u0e2b\\u0e27\\u0e32\\u0e19\\u0e19\\u0e34\\u0e14\\u0e46 \\u0e23\\u0e2a\\u0e0a\\u0e32\\u0e15\\u0e34\\u0e1e\\u0e2d\\u0e43\\u0e0a\\u0e49\\n\\u0e22\\u0e33\\u0e2a\\u0e32\\u0e2b\\u0e23\\u0e48\\u0e32\\u0e22 \\u0e21\\u0e32\\u0e15\\u0e23\\u0e10\\u0e32\\u0e19\\u0e17\\u0e31\\u0e48\\u0e27\\u0e44\\u0e1b\\n\\u0e41\\u0e0b\\u0e25\\u0e21\\u0e2d\\u0e19\\u0e22\\u0e33\\u0e44\\u0e17\\u0e22 \\u0e17\\u0e35\\u0e48\\u0e19\\u0e35\\u0e48\\u0e43\\u0e2b\\u0e49\\u0e2b\\u0e19\\u0e31\\u0e07\\u0e40\\u0e22\\u0e2d\\u0e30 \\u0e40\\u0e19\\u0e37\\u0e49\\u0e2d\\u0e1b\\u0e25\\u0e32\\u0e2b\\u0e31\\u0e32\\u0e19\\u0e40\\u0e15\\u0e4b\\u0e32\\u0e41\\u0e15\\u0e48\\u0e44\\u0e21\\u0e48\\u0e04\\u0e48\\u0e2d\\u0e22\\u0e2a\\u0e14 \\u0e15\\u0e34\\u0e14\\u0e2a\\u0e48\\u0e27\\u0e19\\u0e2b\\u0e19\\u0e31\\u0e07\\u0e21\\u0e32 \\u0e1b\\u0e23\\u0e34\\u0e21\\u0e32\\u0e13\\u0e1e\\u0e2d\\u0e2a\\u0e21\\u0e04\\u0e27\\u0e23 \\n\\u0e0b\\u0e32\\u0e0b\\u0e34\\u0e21\\u0e34\\u0e44\\u0e14\\u0e49\\u0e1f\\u0e23\\u0e35\\u0e08\\u0e32\\u0e01 gift voucher \\u0e40\\u0e1e\\u0e23\\u0e32\\u0e30\\u0e40\\u0e1b\\u0e47\\u0e19\\u0e2a\\u0e21\\u0e32\\u0e0a\\u0e34\\u0e01 \\u0e1b\\u0e25\\u0e32\\u0e0a\\u0e34\\u0e49\\u0e19\\u0e1a\\u0e32\\u0e07 \\u0e44\\u0e21\\u0e48\\u0e2a\\u0e14 \\u0e22\\u0e34\\u0e48\\u0e07\\u0e1b\\u0e25\\u0e32\\u0e2a\\u0e35\\u0e02\\u0e32\\u0e27\\u0e44\\u0e21\\u0e48\\u0e41\\u0e19\\u0e48\\u0e43\\u0e08\\u0e01\\u0e30\\u0e1e\\u0e07\\u0e2b\\u0e23\\u0e37\\u0e2d\\u0e2d\\u0e30\\u0e44\\u0e23 \\u0e44\\u0e21\\u0e48\\u0e2a\\u0e14\\u0e40\\u0e2d\\u0e32\\u0e21\\u0e32\\u0e01\\u0e46 \\u0e40\\u0e2d\\u0e47\\u0e19\\u0e40\\u0e22\\u0e2d\\u0e30 \\u0e40\\u0e2b\\u0e19\\u0e35\\u0e22\\u0e27\\u0e40\\u0e04\\u0e35\\u0e49\\u0e22\\u0e27\\u0e22\\u0e32\\u0e01 \\n\\u0e0a\\u0e38\\u0e14\\u0e02\\u0e49\\u0e32\\u0e27\\u0e1b\\u0e31\\u0e49\\u0e19 \\u0e44\\u0e21\\u0e48\\u0e2d\\u0e23\\u0e48\\u0e2d\\u0e22\\u0e2d\\u0e48\\u0e30 \\u0e1b\\u0e31\\u0e49\\u0e19\\u0e44\\u0e21\\u0e48\\u0e2d\\u0e23\\u0e48\\u0e2d\\u0e22 \\n\\u0e44\\u0e02\\u0e48\\u0e2b\\u0e27\\u0e32\\u0e19\\u0e2a\\u0e25\\u0e31\\u0e14\\u0e1b\\u0e39\\u0e2d\\u0e31\\u0e14\\u0e01\\u0e47\\u0e44\\u0e21\\u0e48\\u0e2d\\u0e23\\u0e48\\u0e2d\\u0e22 \\u0e44\\u0e02\\u0e48\\u0e2b\\u0e27\\u0e32\\u0e19\\u0e15\\u0e23\\u0e07\\u0e01\\u0e25\\u0e32\\u0e07\\u0e21\\u0e35\\u0e40\\u0e2a\\u0e35\\u0e22\\u0e27\\u0e40\\u0e02\\u0e35\\u0e22\\u0e27\\u0e04\\u0e25\\u0e49\\u0e33\\u0e46\\u0e19\\u0e34\\u0e14\\u0e46 \\u0e40\\u0e22\\u0e47\\u0e19\\u0e0a\\u0e37\\u0e14\\n\\n4\\u0e40\\u0e21\\u0e19\\u0e39\\u0e2b\\u0e25\\u0e31\\u0e07\\u0e44\\u0e21\\u0e48\\u0e42\\u0e2d\\u0e40\\u0e04\\u0e04\\u0e48\\u0e30 \\u0e17\\u0e35\\u0e48\\u0e1f\\u0e34\\u0e27\\u0e2d\\u0e23\\u0e48\\u0e2d\\u0e22\\u0e01\\u0e27\\u0e48\\u0e32\\u0e40\\u0e22\\u0e2d\\u0e30 \\u0e2a\\u0e23\\u0e38\\u0e1b\\u0e27\\u0e48\\u0e32\\u0e1e\\u0e19\\u0e31\\u0e01\\u0e07\\u0e32\\u0e19\\u0e1a\\u0e23\\u0e34\\u0e01\\u0e32\\u0e23\\u0e14\\u0e35 \\u0e2d\\u0e32\\u0e2b\\u0e32\\u0e23\\u0e44\\u0e21\\u0e48\\u0e2a\\u0e14\\u0e40\\u0e17\\u0e48\\u0e32\\u0e17\\u0e35\\u0e48\\u0e04\\u0e27\\u0e23 \\u0e44\\u0e21\\u0e48\\u0e1b\\u0e23\\u0e30\\u0e17\\u0e31\\u0e1a\\u0e43\\u0e08 \\u0e40\\u0e2a\\u0e35\\u0e22\\u0e2b\\u0e32\\u0e22\\u0e44\\u0e1b1,110 \\u0e1a\\u0e32\\u0e17\",\n          \"\\u0e23\\u0e49\\u0e32\\u0e19\\u0e19\\u0e34\\u0e27\\u0e40\\u0e04\\u0e25\\u0e35\\u0e22\\u0e23\\u0e4c\\u0e23\\u0e32\\u0e14\\u0e2b\\u0e19\\u0e49\\u0e32\\u0e22\\u0e2d\\u0e14\\u0e1c\\u0e31\\u0e01\\u0e41\\u0e25\\u0e30\\u0e2d\\u0e32\\u0e2b\\u0e32\\u0e23\\u0e15\\u0e32\\u0e21\\u0e2a\\u0e31\\u0e48\\u0e07 \\u0e40\\u0e1b\\u0e47\\u0e19\\u0e2d\\u0e35\\u0e01 1 \\u0e23\\u0e49\\u0e32\\u0e19\\u0e2d\\u0e32\\u0e2b\\u0e32\\u0e23\\u0e17\\u0e35\\u0e48\\u0e40\\u0e2d\\u0e23\\u0e47\\u0e14\\u0e2d\\u0e23\\u0e48\\u0e2d\\u0e22\\u0e21\\u0e32\\u0e01 \\u0e43\\u0e19\\u0e40\\u0e21\\u0e37\\u0e2d\\u0e07\\u0e1a\\u0e49\\u0e32\\u0e19\\u0e09\\u0e32\\u0e07\\u0e17\\u0e08\\u0e31\\u0e07\\u0e2b\\u0e27\\u0e31\\u0e14\\u0e23\\u0e30\\u0e22\\u0e2d\\u0e07 \\u0e23\\u0e49\\u0e32\\u0e19\\u0e19\\u0e35\\u0e49\\u0e15\\u0e31\\u0e49\\u0e07\\u0e2d\\u0e22\\u0e39\\u0e48\\u0e1a\\u0e19\\u0e16\\u0e19\\u0e19\\u0e43\\u0e2b\\u0e0d\\u0e48\\u0e40\\u0e25\\u0e22\\u0e08\\u0e2d\\u0e14\\u0e23\\u0e16\\u0e02\\u0e49\\u0e32\\u0e07\\u0e17\\u0e32\\u0e07 \\u0e2a\\u0e48\\u0e27\\u0e19\\u0e21\\u0e32\\u0e01\\u0e02\\u0e32\\u0e22\\u0e2d\\u0e32\\u0e2b\\u0e32\\u0e23\\u0e15\\u0e32\\u0e21\\u0e2a\\u0e31\\u0e48\\u0e07\\u0e15\\u0e48\\u0e32\\u0e07\\u0e46 \\u0e23\\u0e32\\u0e14\\u0e2b\\u0e19\\u0e49\\u0e32\\u0e2b\\u0e21\\u0e39\\u0e2b\\u0e21\\u0e31\\u0e01 \\u0e23\\u0e32\\u0e14\\u0e2b\\u0e19\\u0e49\\u0e32\\u0e17\\u0e30\\u0e40\\u0e25 \\u0e41\\u0e25\\u0e30\\u0e1e\\u0e27\\u0e01\\u0e1c\\u0e31\\u0e14\\u0e0b\\u0e35\\u0e2d\\u0e34\\u0e49\\u0e27\\u0e15\\u0e48\\u0e32\\u0e07\\u0e46 \\u0e40\\u0e04\\u0e22\\u0e21\\u0e32\\u0e17\\u0e32\\u0e19\\u0e23\\u0e32\\u0e14\\u0e2b\\u0e19\\u0e49\\u0e32\\u0e2b\\u0e21\\u0e39\\u0e2b\\u0e21\\u0e31\\u0e01\\u0e41\\u0e25\\u0e49\\u0e27 1 \\u0e23\\u0e2d\\u0e1a\\u0e2d\\u0e23\\u0e48\\u0e2d\\u0e22\\u0e14\\u0e35 \\u0e04\\u0e23\\u0e32\\u0e27\\u0e19\\u0e35\\u0e49\\u0e40\\u0e25\\u0e22\\u0e25\\u0e2d\\u0e07\\u0e40\\u0e1b\\u0e25\\u0e35\\u0e48\\u0e22\\u0e19\\u0e21\\u0e32\\u0e17\\u0e32\\u0e07\\u0e40\\u0e1b\\u0e47\\u0e19\\u0e23\\u0e32\\u0e14\\u0e2b\\u0e19\\u0e49\\u0e32\\u0e17\\u0e30\\u0e40\\u0e25\\u0e14\\u0e39\\u0e27\\u0e48\\u0e32\\u0e08\\u0e30\\u0e2d\\u0e23\\u0e48\\u0e2d\\u0e22\\u0e2b\\u0e23\\u0e37\\u0e2d\\u0e40\\u0e1b\\u0e25\\u0e48\\u0e32 \\u0e41\\u0e25\\u0e30\\u0e40\\u0e04\\u0e49\\u0e32\\u0e01\\u0e47\\u0e44\\u0e21\\u0e48\\u0e17\\u0e33\\u0e43\\u0e2b\\u0e49\\u0e1c\\u0e34\\u0e14\\u0e2b\\u0e27\\u0e31\\u0e07\\u0e08\\u0e23\\u0e34\\u0e07\\u0e46 \\u0e44\\u0e14\\u0e49\\u0e40\\u0e22\\u0e2d\\u0e30\\u0e14\\u0e49\\u0e27\\u0e22\\u0e41\\u0e25\\u0e49\\u0e27\\u0e01\\u0e47\\u0e2d\\u0e23\\u0e48\\u0e2d\\u0e22\\u0e2d\\u0e22\\u0e48\\u0e32\\u0e07\\u0e17\\u0e35\\u0e48\\u0e04\\u0e32\\u0e14\\u0e2b\\u0e27\\u0e31\\u0e07\\u0e44\\u0e27\\u0e49\\u0e08\\u0e23\\u0e34\\u0e07\\u0e46 \\u0e40\\u0e04\\u0e23\\u0e37\\u0e48\\u0e2d\\u0e07\\u0e16\\u0e25\\u0e14\\u0e40\\u0e0a\\u0e48\\u0e19\\u0e01\\u0e38\\u0e49\\u0e07 \\u0e1b\\u0e25\\u0e32\\u0e2b\\u0e21\\u0e36\\u0e01 \\u0e2a\\u0e14\\u0e41\\u0e25\\u0e30\\u0e44\\u0e21\\u0e48\\u0e40\\u0e2b\\u0e21\\u0e47\\u0e19\\u0e04\\u0e32\\u0e27\\u0e40\\u0e25\\u0e22 \\u0e23\\u0e32\\u0e04\\u0e32\\u0e01\\u0e47\\u0e17\\u0e31\\u0e48\\u0e27\\u0e44\\u0e1b\\u0e44\\u0e21\\u0e48\\u0e41\\u0e1e\\u0e07\\u0e21\\u0e32\\u0e01 \\u0e04\\u0e19\\u0e40\\u0e22\\u0e2d\\u0e30\\u0e21\\u0e32\\u0e01\\u0e42\\u0e14\\u0e22\\u0e40\\u0e09\\u0e1e\\u0e32\\u0e30\\u0e0a\\u0e48\\u0e27\\u0e07\\u0e2b\\u0e31\\u0e27\\u0e04\\u0e48\\u0e33 \\u0e02\\u0e2d\\u0e07\\u0e40\\u0e04\\u0e49\\u0e32\\u0e14\\u0e35\\u0e02\\u0e2d\\u0e07\\u0e40\\u0e04\\u0e49\\u0e32\\u0e2d\\u0e23\\u0e48\\u0e2d\\u0e22\\u0e08\\u0e23\\u0e34\\u0e07\\u0e46\"\n        ],\n        \"semantic_type\": \"\",\n        \"description\": \"\"\n      }\n    },\n    {\n      \"column\": \"column1\",\n      \"properties\": {\n        \"dtype\": \"number\",\n        \"std\": 0,\n        \"min\": 1,\n        \"max\": 5,\n        \"num_unique_values\": 5,\n        \"samples\": [\n          4,\n          1,\n          5\n        ],\n        \"semantic_type\": \"\",\n        \"description\": \"\"\n      }\n    }\n  ]\n}"
            }
          },
          "metadata": {},
          "execution_count": 25
        }
      ]
    },
    {
      "cell_type": "code",
      "source": [
        "df.shape"
      ],
      "metadata": {
        "colab": {
          "base_uri": "https://localhost:8080/"
        },
        "id": "iyvOmbCXxahA",
        "outputId": "fc413fe2-a35f-4bb9-971d-7e2f55d85b2e"
      },
      "execution_count": 26,
      "outputs": [
        {
          "output_type": "execute_result",
          "data": {
            "text/plain": [
              "(40000, 2)"
            ]
          },
          "metadata": {},
          "execution_count": 26
        }
      ]
    },
    {
      "cell_type": "code",
      "source": [
        "con.execute(\"COPY df TO '/content/drive/MyDrive/review_dataset/w_review_train.parquet' (FORMAT PARQUET)\")"
      ],
      "metadata": {
        "colab": {
          "base_uri": "https://localhost:8080/"
        },
        "id": "6q3-AN3KxihX",
        "outputId": "501e7c95-cad6-48ec-8563-b13aa8934b22"
      },
      "execution_count": 27,
      "outputs": [
        {
          "output_type": "execute_result",
          "data": {
            "text/plain": [
              "<duckdb.duckdb.DuckDBPyConnection at 0x7a64099f9330>"
            ]
          },
          "metadata": {},
          "execution_count": 27
        }
      ]
    },
    {
      "cell_type": "code",
      "source": [
        "parquet_avg_rating_direct = con.execute(\"SELECT AVG(column1) FROM '/content/drive/MyDrive/review_dataset/w_review_train.parquet' WHERE column0 LIKE '%อร่อย%'\").fetchone()[0]\n",
        "parquet_avg_rating_direct"
      ],
      "metadata": {
        "colab": {
          "base_uri": "https://localhost:8080/"
        },
        "id": "6ZrM7sX4xj4b",
        "outputId": "fdc2d020-5077-4a65-a1ce-03e8470331f7"
      },
      "execution_count": 28,
      "outputs": [
        {
          "output_type": "execute_result",
          "data": {
            "text/plain": [
              "3.8313027179006562"
            ]
          },
          "metadata": {},
          "execution_count": 28
        }
      ]
    },
    {
      "cell_type": "code",
      "source": [
        "parquet_file_path = '/content/drive/MyDrive/review_dataset/w_review_train.parquet'"
      ],
      "metadata": {
        "id": "w_1IPeedxxqy"
      },
      "execution_count": 29,
      "outputs": []
    },
    {
      "cell_type": "code",
      "source": [
        "parquet_avg_rating_direct = con.execute(f\"SELECT AVG(column1) FROM '{parquet_file_path}' WHERE column0 LIKE '%อร่อย%'\").fetchone()[0]\n",
        "parquet_avg_rating_direct"
      ],
      "metadata": {
        "colab": {
          "base_uri": "https://localhost:8080/"
        },
        "id": "IZOOyQ7bxzwI",
        "outputId": "82da6804-5825-45d4-d680-ade6a4c7d505"
      },
      "execution_count": 30,
      "outputs": [
        {
          "output_type": "execute_result",
          "data": {
            "text/plain": [
              "3.8313027179006562"
            ]
          },
          "metadata": {},
          "execution_count": 30
        }
      ]
    },
    {
      "cell_type": "code",
      "source": [
        "coffee_keywords = [\n",
        "    'กาแฟ', 'คาเฟ่', 'coffee', 'cafe', 'เอสเปรสโซ่', 'ลาเต้',\n",
        "    'มอคค่า', 'คาปูชิโน่', 'เฟรนช์เพรส', 'cold brew', 'drip',\n",
        "    'espresso', 'latte', 'americano', 'macchiato', 'brew',\n",
        "    'specialty', 'slow bar', 'ร้านกาแฟ', 'ร้านคาเฟ่', 'กาแฟสด',\n",
        "    'เมนูกาแฟ', 'กาแฟนม', 'กาแฟดำ', 'ร้านบาริสต้า', 'barista', 'coffee shop'\n",
        "]\n",
        "\n",
        "where_clause = \" OR \".join([f\"column0 LIKE '%{keyword}%'\" for keyword in coffee_keywords])"
      ],
      "metadata": {
        "id": "M-B_pW6Zx5ks"
      },
      "execution_count": 31,
      "outputs": []
    },
    {
      "cell_type": "code",
      "source": [
        "%%time\n",
        "coffee_reviews_df = con.execute(f\"SELECT * FROM '{parquet_file_path}' WHERE {where_clause}\").fetchdf()"
      ],
      "metadata": {
        "colab": {
          "base_uri": "https://localhost:8080/",
          "height": 84,
          "referenced_widgets": [
            "8503a0c0ee6f4faa8350dd35e22b3275",
            "e6b8a7811241492caab6f9cbaab67152",
            "c4eca0ddc36c4d409781217431a1744b"
          ]
        },
        "id": "IOGo-tfMyApF",
        "outputId": "e1c2aac4-39af-49aa-9d72-144cfb492edf"
      },
      "execution_count": 32,
      "outputs": [
        {
          "output_type": "display_data",
          "data": {
            "text/plain": [
              "FloatProgress(value=0.0, layout=Layout(width='auto'), style=ProgressStyle(bar_color='black'))"
            ],
            "application/vnd.jupyter.widget-view+json": {
              "version_major": 2,
              "version_minor": 0,
              "model_id": "8503a0c0ee6f4faa8350dd35e22b3275"
            }
          },
          "metadata": {}
        },
        {
          "output_type": "stream",
          "name": "stdout",
          "text": [
            "CPU times: user 4.05 s, sys: 33.3 ms, total: 4.08 s\n",
            "Wall time: 3.72 s\n"
          ]
        }
      ]
    },
    {
      "cell_type": "code",
      "source": [
        "csv_file_path = '/content/drive/MyDrive/review_dataset/w_review_train.csv'"
      ],
      "metadata": {
        "id": "FcUmo8OxyDd3"
      },
      "execution_count": 33,
      "outputs": []
    },
    {
      "cell_type": "code",
      "source": [
        "%%time\n",
        "coffee_reviews_df_csv = con.execute(f\"SELECT * FROM read_csv_auto('/content/drive/MyDrive/review_dataset/w_review_train.csv', parallel=false, encoding='UTF-8', ignore_errors=true) WHERE {where_clause}\").fetchdf()"
      ],
      "metadata": {
        "colab": {
          "base_uri": "https://localhost:8080/",
          "height": 84,
          "referenced_widgets": [
            "e0640bea338d48bc874ce8340b9ff2c7",
            "f4ec561d273340db9e33bb940515316d",
            "a7ec30c3cfc9499c9a3ceb5da495a4d4"
          ]
        },
        "id": "4vdLjn44yFOF",
        "outputId": "abab1f32-e77f-4fca-b652-d2d474dc8365"
      },
      "execution_count": 34,
      "outputs": [
        {
          "output_type": "display_data",
          "data": {
            "text/plain": [
              "FloatProgress(value=0.0, layout=Layout(width='auto'), style=ProgressStyle(bar_color='black'))"
            ],
            "application/vnd.jupyter.widget-view+json": {
              "version_major": 2,
              "version_minor": 0,
              "model_id": "e0640bea338d48bc874ce8340b9ff2c7"
            }
          },
          "metadata": {}
        },
        {
          "output_type": "stream",
          "name": "stdout",
          "text": [
            "CPU times: user 2.37 s, sys: 70.7 ms, total: 2.44 s\n",
            "Wall time: 4.03 s\n"
          ]
        }
      ]
    },
    {
      "cell_type": "code",
      "source": [
        "coffee_reviews_df.head()"
      ],
      "metadata": {
        "colab": {
          "base_uri": "https://localhost:8080/",
          "height": 206
        },
        "id": "cRy4OBzOyGm8",
        "outputId": "55571643-377b-49b9-b732-1464dcb767a6"
      },
      "execution_count": 35,
      "outputs": [
        {
          "output_type": "execute_result",
          "data": {
            "text/plain": [
              "                                             column0  column1\n",
              "0  ร้านอาหารใหญ่มากกกกกกก \\nเลี้ยวเข้ามาเจอห้องน้...        3\n",
              "1  วันนี้ได้มีโอกาสไปนั่งซดกาแฟที่ร้านวาวี แถวๆอา...        4\n",
              "2  สารภาพว่าไม่เคยคิดจะไปต่อคิวซื้อมากินเองครับ บ...        3\n",
              "3  ร้านอาหารญี่ปุ่นร้านนี้ ใจจริงไม่อยากแนะนำเลยค...        5\n",
              "4  เดือนแรกที่เค้าต่อคิวกัน 2 - 3 ชั่วโมง เราก็ว่...        5"
            ],
            "text/html": [
              "\n",
              "  <div id=\"df-fe5525d1-1e6e-4a20-ac6a-57ef76beca80\" class=\"colab-df-container\">\n",
              "    <div>\n",
              "<style scoped>\n",
              "    .dataframe tbody tr th:only-of-type {\n",
              "        vertical-align: middle;\n",
              "    }\n",
              "\n",
              "    .dataframe tbody tr th {\n",
              "        vertical-align: top;\n",
              "    }\n",
              "\n",
              "    .dataframe thead th {\n",
              "        text-align: right;\n",
              "    }\n",
              "</style>\n",
              "<table border=\"1\" class=\"dataframe\">\n",
              "  <thead>\n",
              "    <tr style=\"text-align: right;\">\n",
              "      <th></th>\n",
              "      <th>column0</th>\n",
              "      <th>column1</th>\n",
              "    </tr>\n",
              "  </thead>\n",
              "  <tbody>\n",
              "    <tr>\n",
              "      <th>0</th>\n",
              "      <td>ร้านอาหารใหญ่มากกกกกกก \\nเลี้ยวเข้ามาเจอห้องน้...</td>\n",
              "      <td>3</td>\n",
              "    </tr>\n",
              "    <tr>\n",
              "      <th>1</th>\n",
              "      <td>วันนี้ได้มีโอกาสไปนั่งซดกาแฟที่ร้านวาวี แถวๆอา...</td>\n",
              "      <td>4</td>\n",
              "    </tr>\n",
              "    <tr>\n",
              "      <th>2</th>\n",
              "      <td>สารภาพว่าไม่เคยคิดจะไปต่อคิวซื้อมากินเองครับ บ...</td>\n",
              "      <td>3</td>\n",
              "    </tr>\n",
              "    <tr>\n",
              "      <th>3</th>\n",
              "      <td>ร้านอาหารญี่ปุ่นร้านนี้ ใจจริงไม่อยากแนะนำเลยค...</td>\n",
              "      <td>5</td>\n",
              "    </tr>\n",
              "    <tr>\n",
              "      <th>4</th>\n",
              "      <td>เดือนแรกที่เค้าต่อคิวกัน 2 - 3 ชั่วโมง เราก็ว่...</td>\n",
              "      <td>5</td>\n",
              "    </tr>\n",
              "  </tbody>\n",
              "</table>\n",
              "</div>\n",
              "    <div class=\"colab-df-buttons\">\n",
              "\n",
              "  <div class=\"colab-df-container\">\n",
              "    <button class=\"colab-df-convert\" onclick=\"convertToInteractive('df-fe5525d1-1e6e-4a20-ac6a-57ef76beca80')\"\n",
              "            title=\"Convert this dataframe to an interactive table.\"\n",
              "            style=\"display:none;\">\n",
              "\n",
              "  <svg xmlns=\"http://www.w3.org/2000/svg\" height=\"24px\" viewBox=\"0 -960 960 960\">\n",
              "    <path d=\"M120-120v-720h720v720H120Zm60-500h600v-160H180v160Zm220 220h160v-160H400v160Zm0 220h160v-160H400v160ZM180-400h160v-160H180v160Zm440 0h160v-160H620v160ZM180-180h160v-160H180v160Zm440 0h160v-160H620v160Z\"/>\n",
              "  </svg>\n",
              "    </button>\n",
              "\n",
              "  <style>\n",
              "    .colab-df-container {\n",
              "      display:flex;\n",
              "      gap: 12px;\n",
              "    }\n",
              "\n",
              "    .colab-df-convert {\n",
              "      background-color: #E8F0FE;\n",
              "      border: none;\n",
              "      border-radius: 50%;\n",
              "      cursor: pointer;\n",
              "      display: none;\n",
              "      fill: #1967D2;\n",
              "      height: 32px;\n",
              "      padding: 0 0 0 0;\n",
              "      width: 32px;\n",
              "    }\n",
              "\n",
              "    .colab-df-convert:hover {\n",
              "      background-color: #E2EBFA;\n",
              "      box-shadow: 0px 1px 2px rgba(60, 64, 67, 0.3), 0px 1px 3px 1px rgba(60, 64, 67, 0.15);\n",
              "      fill: #174EA6;\n",
              "    }\n",
              "\n",
              "    .colab-df-buttons div {\n",
              "      margin-bottom: 4px;\n",
              "    }\n",
              "\n",
              "    [theme=dark] .colab-df-convert {\n",
              "      background-color: #3B4455;\n",
              "      fill: #D2E3FC;\n",
              "    }\n",
              "\n",
              "    [theme=dark] .colab-df-convert:hover {\n",
              "      background-color: #434B5C;\n",
              "      box-shadow: 0px 1px 3px 1px rgba(0, 0, 0, 0.15);\n",
              "      filter: drop-shadow(0px 1px 2px rgba(0, 0, 0, 0.3));\n",
              "      fill: #FFFFFF;\n",
              "    }\n",
              "  </style>\n",
              "\n",
              "    <script>\n",
              "      const buttonEl =\n",
              "        document.querySelector('#df-fe5525d1-1e6e-4a20-ac6a-57ef76beca80 button.colab-df-convert');\n",
              "      buttonEl.style.display =\n",
              "        google.colab.kernel.accessAllowed ? 'block' : 'none';\n",
              "\n",
              "      async function convertToInteractive(key) {\n",
              "        const element = document.querySelector('#df-fe5525d1-1e6e-4a20-ac6a-57ef76beca80');\n",
              "        const dataTable =\n",
              "          await google.colab.kernel.invokeFunction('convertToInteractive',\n",
              "                                                    [key], {});\n",
              "        if (!dataTable) return;\n",
              "\n",
              "        const docLinkHtml = 'Like what you see? Visit the ' +\n",
              "          '<a target=\"_blank\" href=https://colab.research.google.com/notebooks/data_table.ipynb>data table notebook</a>'\n",
              "          + ' to learn more about interactive tables.';\n",
              "        element.innerHTML = '';\n",
              "        dataTable['output_type'] = 'display_data';\n",
              "        await google.colab.output.renderOutput(dataTable, element);\n",
              "        const docLink = document.createElement('div');\n",
              "        docLink.innerHTML = docLinkHtml;\n",
              "        element.appendChild(docLink);\n",
              "      }\n",
              "    </script>\n",
              "  </div>\n",
              "\n",
              "\n",
              "    <div id=\"df-5027b695-5048-4554-a01e-afa65515e823\">\n",
              "      <button class=\"colab-df-quickchart\" onclick=\"quickchart('df-5027b695-5048-4554-a01e-afa65515e823')\"\n",
              "                title=\"Suggest charts\"\n",
              "                style=\"display:none;\">\n",
              "\n",
              "<svg xmlns=\"http://www.w3.org/2000/svg\" height=\"24px\"viewBox=\"0 0 24 24\"\n",
              "     width=\"24px\">\n",
              "    <g>\n",
              "        <path d=\"M19 3H5c-1.1 0-2 .9-2 2v14c0 1.1.9 2 2 2h14c1.1 0 2-.9 2-2V5c0-1.1-.9-2-2-2zM9 17H7v-7h2v7zm4 0h-2V7h2v10zm4 0h-2v-4h2v4z\"/>\n",
              "    </g>\n",
              "</svg>\n",
              "      </button>\n",
              "\n",
              "<style>\n",
              "  .colab-df-quickchart {\n",
              "      --bg-color: #E8F0FE;\n",
              "      --fill-color: #1967D2;\n",
              "      --hover-bg-color: #E2EBFA;\n",
              "      --hover-fill-color: #174EA6;\n",
              "      --disabled-fill-color: #AAA;\n",
              "      --disabled-bg-color: #DDD;\n",
              "  }\n",
              "\n",
              "  [theme=dark] .colab-df-quickchart {\n",
              "      --bg-color: #3B4455;\n",
              "      --fill-color: #D2E3FC;\n",
              "      --hover-bg-color: #434B5C;\n",
              "      --hover-fill-color: #FFFFFF;\n",
              "      --disabled-bg-color: #3B4455;\n",
              "      --disabled-fill-color: #666;\n",
              "  }\n",
              "\n",
              "  .colab-df-quickchart {\n",
              "    background-color: var(--bg-color);\n",
              "    border: none;\n",
              "    border-radius: 50%;\n",
              "    cursor: pointer;\n",
              "    display: none;\n",
              "    fill: var(--fill-color);\n",
              "    height: 32px;\n",
              "    padding: 0;\n",
              "    width: 32px;\n",
              "  }\n",
              "\n",
              "  .colab-df-quickchart:hover {\n",
              "    background-color: var(--hover-bg-color);\n",
              "    box-shadow: 0 1px 2px rgba(60, 64, 67, 0.3), 0 1px 3px 1px rgba(60, 64, 67, 0.15);\n",
              "    fill: var(--button-hover-fill-color);\n",
              "  }\n",
              "\n",
              "  .colab-df-quickchart-complete:disabled,\n",
              "  .colab-df-quickchart-complete:disabled:hover {\n",
              "    background-color: var(--disabled-bg-color);\n",
              "    fill: var(--disabled-fill-color);\n",
              "    box-shadow: none;\n",
              "  }\n",
              "\n",
              "  .colab-df-spinner {\n",
              "    border: 2px solid var(--fill-color);\n",
              "    border-color: transparent;\n",
              "    border-bottom-color: var(--fill-color);\n",
              "    animation:\n",
              "      spin 1s steps(1) infinite;\n",
              "  }\n",
              "\n",
              "  @keyframes spin {\n",
              "    0% {\n",
              "      border-color: transparent;\n",
              "      border-bottom-color: var(--fill-color);\n",
              "      border-left-color: var(--fill-color);\n",
              "    }\n",
              "    20% {\n",
              "      border-color: transparent;\n",
              "      border-left-color: var(--fill-color);\n",
              "      border-top-color: var(--fill-color);\n",
              "    }\n",
              "    30% {\n",
              "      border-color: transparent;\n",
              "      border-left-color: var(--fill-color);\n",
              "      border-top-color: var(--fill-color);\n",
              "      border-right-color: var(--fill-color);\n",
              "    }\n",
              "    40% {\n",
              "      border-color: transparent;\n",
              "      border-right-color: var(--fill-color);\n",
              "      border-top-color: var(--fill-color);\n",
              "    }\n",
              "    60% {\n",
              "      border-color: transparent;\n",
              "      border-right-color: var(--fill-color);\n",
              "    }\n",
              "    80% {\n",
              "      border-color: transparent;\n",
              "      border-right-color: var(--fill-color);\n",
              "      border-bottom-color: var(--fill-color);\n",
              "    }\n",
              "    90% {\n",
              "      border-color: transparent;\n",
              "      border-bottom-color: var(--fill-color);\n",
              "    }\n",
              "  }\n",
              "</style>\n",
              "\n",
              "      <script>\n",
              "        async function quickchart(key) {\n",
              "          const quickchartButtonEl =\n",
              "            document.querySelector('#' + key + ' button');\n",
              "          quickchartButtonEl.disabled = true;  // To prevent multiple clicks.\n",
              "          quickchartButtonEl.classList.add('colab-df-spinner');\n",
              "          try {\n",
              "            const charts = await google.colab.kernel.invokeFunction(\n",
              "                'suggestCharts', [key], {});\n",
              "          } catch (error) {\n",
              "            console.error('Error during call to suggestCharts:', error);\n",
              "          }\n",
              "          quickchartButtonEl.classList.remove('colab-df-spinner');\n",
              "          quickchartButtonEl.classList.add('colab-df-quickchart-complete');\n",
              "        }\n",
              "        (() => {\n",
              "          let quickchartButtonEl =\n",
              "            document.querySelector('#df-5027b695-5048-4554-a01e-afa65515e823 button');\n",
              "          quickchartButtonEl.style.display =\n",
              "            google.colab.kernel.accessAllowed ? 'block' : 'none';\n",
              "        })();\n",
              "      </script>\n",
              "    </div>\n",
              "\n",
              "    </div>\n",
              "  </div>\n"
            ],
            "application/vnd.google.colaboratory.intrinsic+json": {
              "type": "dataframe",
              "variable_name": "coffee_reviews_df",
              "summary": "{\n  \"name\": \"coffee_reviews_df\",\n  \"rows\": 4981,\n  \"fields\": [\n    {\n      \"column\": \"column0\",\n      \"properties\": {\n        \"dtype\": \"string\",\n        \"num_unique_values\": 4981,\n        \"samples\": [\n          \"\\u0e23\\u0e49\\u0e32\\u0e19\\u0e2d\\u0e22\\u0e39\\u0e48\\u0e1a\\u0e19\\u0e0a\\u0e31\\u0e49\\u0e193\\u0e02\\u0e2d\\u0e07 seen space \\u0e17\\u0e2d\\u0e07\\u0e2b\\u0e25\\u0e48\\u0e2d \\u0e40\\u0e1b\\u0e47\\u0e19\\u0e2d\\u0e32\\u0e2b\\u0e32\\u0e23\\u0e41\\u0e19\\u0e27fusion mediteranion\\u0e40\\u0e1e\\u0e37\\u0e48\\u0e2d\\u0e2a\\u0e38\\u0e02\\u0e20\\u0e32\\u0e1e\\n\\u0e1a\\u0e23\\u0e23\\u0e22\\u0e32\\u0e01\\u0e32\\u0e28\\u0e23\\u0e49\\u0e32\\u0e19\\u0e14\\u0e35\\u0e21\\u0e32\\u0e01 \\u0e42\\u0e1b\\u0e23\\u0e48\\u0e07\\u0e42\\u0e25\\u0e48\\u0e07 \\u0e2a\\u0e30\\u0e2d\\u0e32\\u0e14 \\u0e2a\\u0e1a\\u0e32\\u0e22 \\u0e40\\u0e01\\u0e49\\u0e32\\u0e2d\\u0e35\\u0e49\\u0e1c\\u0e49\\u0e32\\u0e43\\u0e1a\\u0e2a\\u0e35\\u0e02\\u0e32\\u0e27\\u0e2d\\u0e32\\u0e08\\u0e19\\u0e31\\u0e48\\u0e07\\u0e44\\u0e21\\u0e48\\u0e2a\\u0e1a\\u0e32\\u0e22\\u0e40\\u0e25\\u0e47\\u0e01\\u0e19\\u0e49\\u0e2d\\u0e22\\n\\u0e1e\\u0e19\\u0e31\\u0e01\\u0e07\\u0e32\\u0e19\\u0e1a\\u0e23\\u0e34\\u0e01\\u0e32\\u0e23\\u0e14\\u0e35\\u0e04\\u0e48\\u0e30 \\u0e43\\u0e2a\\u0e48\\u0e43\\u0e08\\u0e23\\u0e32\\u0e22\\u0e25\\u0e30\\u0e40\\u0e2d\\u0e35\\u0e22\\u0e14\\u0e41\\u0e19\\u0e30\\u0e19\\u0e33\\u0e40\\u0e21\\u0e19\\u0e39\\u0e15\\u0e48\\u0e32\\u0e07\\u0e46\\u0e44\\u0e14\\u0e49\\u0e14\\u0e35\\n-\\u0e01\\u0e32\\u0e41\\u0e1f\\u0e2d\\u0e23\\u0e48\\u0e2d\\u0e22 \\u0e41\\u0e15\\u0e48\\u0e17\\u0e33\\u0e0a\\u0e49\\u0e32\\u0e21\\u0e32\\u0e01 \\u0e2b\\u0e32\\u0e01\\u0e2a\\u0e31\\u0e48\\u0e07\\u0e01\\u0e32\\u0e41\\u0e1f\\u0e15\\u0e49\\u0e2d\\u0e07\\u0e17\\u0e33\\u0e43\\u0e08\\u0e19\\u0e34\\u0e14\\u0e19\\u0e36\\u0e07 4/5\\n- smoothies \\u0e2d\\u0e23\\u0e48\\u0e2d\\u0e22\\u0e43\\u0e02\\u0e49\\u0e44\\u0e14\\u0e49 \\u0e23\\u0e2a\\u0e0a\\u0e32\\u0e15\\u0e34\\u0e2a\\u0e14\\u0e0a\\u0e37\\u0e48\\u0e19\\u0e01\\u0e33\\u0e25\\u0e31\\u0e07\\u0e14\\u0e35 4/5\\n- devil's egg with beetroot : \\u0e08\\u0e32\\u0e19\\u0e19\\u0e35\\u0e49\\u0e2d\\u0e23\\u0e48\\u0e2d\\u0e22 \\u0e08\\u0e30\\u0e1a\\u0e2d\\u0e01\\u0e27\\u0e48\\u0e32 devil's egg \\u0e01\\u0e31\\u0e1abeetroot \\u0e01\\u0e34\\u0e19\\u0e23\\u0e27\\u0e21\\u0e01\\u0e31\\u0e19\\u0e41\\u0e25\\u0e49\\u0e27\\u0e23\\u0e39\\u0e49\\u0e2a\\u0e36\\u0e01\\u0e44\\u0e21\\u0e48\\u0e04\\u0e48\\u0e2d\\u0e22\\u0e40\\u0e02\\u0e49\\u0e32\\u0e01\\u0e31\\u0e19 \\u0e41\\u0e15\\u0e48\\u0e01\\u0e34\\u0e19\\u0e41\\u0e22\\u0e01\\u0e01\\u0e31\\u0e19\\u0e41\\u0e25\\u0e49\\u0e27\\u0e2d\\u0e23\\u0e48\\u0e2d\\u0e22\\u0e21\\u0e32\\u0e01 4/5\\n- duck ragu pasta \\u0e08\\u0e32\\u0e19\\u0e19\\u0e35\\u0e49\\u0e2d\\u0e23\\u0e48\\u0e2d\\u0e22\\u0e14\\u0e35 \\u0e40\\u0e1b\\u0e47\\u0e19\\u0e1e\\u0e32\\u0e2a\\u0e15\\u0e49\\u0e32\\u0e40\\u0e2a\\u0e49\\u0e19\\u0e43\\u0e2b\\u0e0d\\u0e48\\u0e2b\\u0e19\\u0e48\\u0e2d\\u0e22 \\u0e0b\\u0e2d\\u0e2a\\u0e40\\u0e1b\\u0e47\\u0e14 4/5\\n- chicken nacho \\u0e41\\u0e1b\\u0e25\\u0e01\\u0e14\\u0e35 \\u0e19\\u0e32\\u0e42\\u0e0a\\u0e17\\u0e2d\\u0e14\\u0e43\\u0e2b\\u0e21\\u0e48\\u0e23\\u0e49\\u0e2d\\u0e19\\u0e46 \\u0e2b\\u0e2d\\u0e21\\u0e46 \\u0e41\\u0e15\\u0e48\\u0e41\\u0e2d\\u0e1a\\u0e40\\u0e25\\u0e35\\u0e48\\u0e22\\u0e19\\u0e44\\u0e1b\\u0e19\\u0e34\\u0e14 3/5\\n\\n\\u0e42\\u0e14\\u0e22\\u0e23\\u0e27\\u0e21\\u0e41\\u0e25\\u0e49\\u0e27\\u0e16\\u0e37\\u0e2d\\u0e27\\u0e48\\u0e32\\u0e14\\u0e35\\u0e17\\u0e35\\u0e40\\u0e14\\u0e35\\u0e22\\u0e27\\u0e04\\u0e48\\u0e30 \\u0e23\\u0e32\\u0e04\\u0e32\\u0e41\\u0e25\\u0e30\\u0e23\\u0e2a\\u0e0a\\u0e32\\u0e15\\u0e34\\u0e1e\\u0e2d\\u0e46\\u0e01\\u0e31\\u0e1aroast\\u0e17\\u0e35\\u0e48\\u0e2d\\u0e22\\u0e39\\u0e48\\u0e14\\u0e49\\u0e32\\u0e19\\u0e25\\u0e48\\u0e32\\u0e07 \\u0e43\\u0e04\\u0e23\\u0e02\\u0e35\\u0e49\\u0e40\\u0e01\\u0e35\\u0e22\\u0e08\\u0e15\\u0e48\\u0e2d\\u0e04\\u0e34\\u0e27 \\u0e2b\\u0e23\\u0e37\\u0e2d\\u0e2d\\u0e22\\u0e32\\u0e01\\u0e25\\u0e2d\\u0e07bruch\\u0e14\\u0e35\\u0e46\\u0e41\\u0e16\\u0e27\\u0e17\\u0e2d\\u0e07\\u0e2b\\u0e25\\u0e48\\u0e2d\\u0e41\\u0e19\\u0e30\\u0e19\\u0e33\\u0e23\\u0e49\\u0e32\\u0e19\\u0e19\\u0e35\\u0e49\\u0e2d\\u0e35\\u0e01\\u0e23\\u0e49\\u0e32\\u0e19\\u0e04\\u0e48\\u0e30\",\n          \"<<\\u0e40\\u0e2a\\u0e49\\u0e19\\u0e17\\u0e32\\u0e07\\u0e19\\u0e31\\u0e01\\u0e25\\u0e07\\u0e17\\u0e38\\u0e19>>\\n\\n     \\u0e2b\\u0e49\\u0e32\\u0e07 Union Mall \\u0e0a\\u0e31\\u0e49\\u0e19 3 \\u0e42\\u0e0b\\u0e19 B \\u0e43\\u0e01\\u0e25\\u0e49\\u0e1a\\u0e31\\u0e19\\u0e44\\u0e14\\u0e40\\u0e25\\u0e37\\u0e48\\u0e2d\\u0e19 \\n\\n<<\\u0e42\\u0e1a\\u0e23\\u0e01\\u0e40\\u0e01\\u0e2d\\u0e23\\u0e4c\\u0e08\\u0e2d\\u0e21\\u0e41\\u0e17\\u0e04\\u0e15\\u0e34\\u0e04\\u0e0a\\u0e35\\u0e49\\u0e19\\u0e33>>\\n\\n     \\u0e19\\u0e49\\u0e2d\\u0e07 GB \\u0e41\\u0e25\\u0e30\\u0e17\\u0e35\\u0e21\\u0e07\\u0e32\\u0e19\\u0e21\\u0e32\\u0e40\\u0e22\\u0e37\\u0e2d\\u0e19\\u0e2b\\u0e49\\u0e32\\u0e07\\u0e17\\u0e35\\u0e48\\u0e21\\u0e35\\u0e04\\u0e19\\u0e1e\\u0e25\\u0e38\\u0e01\\u0e1e\\u0e25\\u0e48\\u0e32\\u0e19\\u0e21\\u0e32\\u0e01\\u0e46\\u0e08\\u0e23\\u0e34\\u0e07\\u0e46 \\u0e2b\\u0e25\\u0e31\\u0e07\\u0e08\\u0e32\\u0e01\\u0e41\\u0e2d\\u0e1a\\u0e40\\u0e21\\u0e35\\u0e22\\u0e07\\u0e21\\u0e2d\\u0e07\\u0e23\\u0e49\\u0e32\\u0e19\\u0e19\\u0e35\\u0e49\\u0e21\\u0e32\\u0e19\\u0e32\\u0e19 \\u0e40\\u0e1e\\u0e23\\u0e32\\u0e30\\u0e14\\u0e49\\u0e27\\u0e22\\u0e41\\u0e23\\u0e07\\u0e42\\u0e06\\u0e29\\u0e13\\u0e32\\u0e17\\u0e35\\u0e48\\u0e16\\u0e32\\u0e42\\u0e16\\u0e21\\u0e43\\u0e19\\u0e27\\u0e07\\u0e43\\u0e19\\u0e0b\\u0e30\\u0e19\\u0e48\\u0e32\\u0e17\\u0e32\\u0e19 \\u0e40\\u0e23\\u0e32\\u0e01\\u0e47\\u0e40\\u0e1d\\u0e49\\u0e32\\u0e27\\u0e48\\u0e32\\u0e2d\\u0e22\\u0e32\\u0e01\\u0e44\\u0e1b\\u0e1e\\u0e1a\\u0e1e\\u0e32\\u0e19\\u0e43\\u0e19\\u0e40\\u0e23\\u0e47\\u0e27\\u0e27\\u0e31\\u0e19 \\u0e40\\u0e23\\u0e32\\u0e40\\u0e14\\u0e34\\u0e19\\u0e2b\\u0e32\\u0e2d\\u0e22\\u0e39\\u0e48\\u0e1e\\u0e31\\u0e01\\u0e19\\u0e36\\u0e07 \\u0e17\\u0e35\\u0e21\\u0e07\\u0e32\\u0e19\\u0e27\\u0e48\\u0e32 \\u0e44\\u0e2b\\u0e07\\u0e1a\\u0e2d\\u0e01\\u0e40\\u0e08\\u0e49\\u0e32\\u0e16\\u0e34\\u0e48\\u0e19 \\u0e42\\u0e14\\u0e19\\u0e17\\u0e49\\u0e27\\u0e07\\u0e15\\u0e34\\u0e07\\u0e2d\\u0e22\\u0e48\\u0e32\\u0e07\\u0e23\\u0e38\\u0e19\\u0e41\\u0e23\\u0e07 \\u0e0a\\u0e48\\u0e32\\u0e07\\u0e19\\u0e48\\u0e32\\u0e02\\u0e32\\u0e22\\u0e2b\\u0e19\\u0e49\\u0e32\\u0e08\\u0e23\\u0e34\\u0e07\\u0e46 555+ \\u0e23\\u0e49\\u0e32\\u0e19\\u0e41\\u0e2d\\u0e1a\\u0e46\\u0e21\\u0e32\\u0e2d\\u0e22\\u0e39\\u0e48\\u0e43\\u0e19\\u0e42\\u0e0b\\u0e19\\u0e08\\u0e38\\u0e14\\u0e08\\u0e33\\u0e2b\\u0e19\\u0e48\\u0e32\\u0e22\\u0e40\\u0e2a\\u0e37\\u0e49\\u0e2d\\u0e1c\\u0e49\\u0e32\\u0e41\\u0e25\\u0e30\\u0e23\\u0e2d\\u0e07\\u0e40\\u0e17\\u0e49\\u0e32 \\u0e0b\\u0e36\\u0e48\\u0e07\\u0e40\\u0e22\\u0e37\\u0e49\\u0e2d\\u0e07\\u0e15\\u0e23\\u0e07\\u0e2b\\u0e19\\u0e49\\u0e32\\u0e23\\u0e49\\u0e32\\u0e19\\u0e17\\u0e35\\u0e48\\u0e43\\u0e2b\\u0e49\\u0e40\\u0e0a\\u0e48\\u0e32\\u0e0a\\u0e38\\u0e14\\u0e44\\u0e1b\\u0e07\\u0e32\\u0e19\\u0e41\\u0e15\\u0e48\\u0e07\\u0e07\\u0e32\\u0e19\\u0e19\\u0e34\\u0e14\\u0e46 \\u0e2d\\u0e31\\u0e19\\u0e08\\u0e31\\u0e14\\u0e27\\u0e48\\u0e32 \\u0e40\\u0e08\\u0e49\\u0e32\\u0e02\\u0e2d\\u0e07\\u0e23\\u0e49\\u0e32\\u0e19\\u0e40\\u0e14\\u0e47\\u0e14\\u0e14\\u0e27\\u0e07\\u0e22\\u0e32\\u0e01\\u0e25\\u0e37\\u0e21\\u0e40\\u0e25\\u0e37\\u0e2d\\u0e19 ???????????? (\\u0e19\\u0e2d\\u0e01\\u0e40\\u0e23\\u0e37\\u0e48\\u0e2d\\u0e07\\u0e15\\u0e25\\u0e2d\\u0e14 555+ )\\n\\n     Bon Bon \\u0e40\\u0e1b\\u0e47\\u0e19\\u0e20\\u0e32\\u0e29\\u0e32\\u0e1d\\u0e23\\u0e31\\u0e48\\u0e07\\u0e40\\u0e28\\u0e29 \\u0e2d\\u0e48\\u0e32\\u0e19\\u0e27\\u0e48\\u0e32 \\u0e1a\\u0e07\\u0e1a\\u0e07 \\u0e0b\\u0e36\\u0e48\\u0e07\\u0e41\\u0e1b\\u0e25\\u0e27\\u0e48\\u0e32 \\u0e14\\u0e35\\u0e4a..\\u0e14\\u0e35 (\\u0e01\\u0e23\\u0e38\\u0e13\\u0e32\\u0e17\\u0e33\\u0e40\\u0e2a\\u0e35\\u0e22\\u0e07\\u0e2a\\u0e39\\u0e07\\u0e15\\u0e32\\u0e21\\u0e41\\u0e1a\\u0e1a\\u0e19\\u0e49\\u0e2d\\u0e07\\u0e44\\u0e2d\\u0e0b\\u0e4c 555+)\\u0e2a\\u0e48\\u0e27\\u0e19\\u0e16\\u0e49\\u0e32\\u0e40\\u0e1b\\u0e47\\u0e19 \\u0e40\\u0e1b\\u0e47\\u0e19\\u0e20\\u0e32\\u0e29\\u0e32\\u0e2d\\u0e31\\u0e07\\u0e01\\u0e24\\u0e29 \\u0e2d\\u0e48\\u0e32\\u0e19\\u0e27\\u0e48\\u0e32 \\u0e1a\\u0e2d\\u0e19\\u0e1a\\u0e47\\u0e2d\\u0e19 \\u0e41\\u0e1b\\u0e25\\u0e27\\u0e48\\u0e32 \\u0e02\\u0e19\\u0e21\\u0e2b\\u0e27\\u0e32\\u0e19 \\u0e0b\\u0e36\\u0e48\\u0e07\\u0e14\\u0e39\\u0e41\\u0e25\\u0e49\\u0e27\\u0e40\\u0e08\\u0e49\\u0e32\\u0e02\\u0e2d\\u0e07\\u0e23\\u0e49\\u0e32\\u0e19\\u0e01\\u0e47\\u0e40\\u0e25\\u0e37\\u0e2d\\u0e01\\u0e04\\u0e33\\u0e44\\u0e14\\u0e49\\u0e14\\u0e35\\u0e04\\u0e23\\u0e31\\u0e1a \\u0e40\\u0e1e\\u0e23\\u0e32\\u0e30\\u0e2a\\u0e37\\u0e48\\u0e2d\\u0e04\\u0e27\\u0e32\\u0e21\\u0e2b\\u0e21\\u0e32\\u0e22\\u0e44\\u0e14\\u0e49\\u0e14\\u0e35\\u0e17\\u0e31\\u0e49\\u0e07 2 \\u0e2d\\u0e22\\u0e48\\u0e32\\u0e07 (\\u0e17\\u0e38\\u0e01\\u0e27\\u0e31\\u0e19\\u0e19\\u0e35\\u0e49\\u0e22\\u0e31\\u0e07\\u0e44\\u0e21\\u0e48\\u0e23\\u0e39\\u0e49\\u0e40\\u0e25\\u0e22 \\u0e15\\u0e01\\u0e25\\u0e07\\u0e2d\\u0e48\\u0e32\\u0e19\\u0e27\\u0e48\\u0e32\\u0e2d\\u0e30\\u0e44\\u0e23\\u0e01\\u0e31\\u0e19\\u0e41\\u0e19\\u0e48 555+) \\u0e41\\u0e15\\u0e48\\u0e16\\u0e49\\u0e32\\u0e21\\u0e2d\\u0e07\\u0e14\\u0e49\\u0e27\\u0e22\\u0e23\\u0e39\\u0e1b\\u0e41\\u0e1a\\u0e1a\\u0e41\\u0e25\\u0e30\\u0e25\\u0e27\\u0e14\\u0e25\\u0e32\\u0e22\\u0e07\\u0e32\\u0e21\\u0e46\\u0e41\\u0e25\\u0e49\\u0e27 \\u0e04\\u0e07\\u0e1e\\u0e2d\\u0e17\\u0e23\\u0e32\\u0e1a\\u0e01\\u0e31\\u0e19\\u0e44\\u0e14\\u0e49\\u0e27\\u0e48\\u0e32 \\u0e40\\u0e0a\\u0e1f\\u0e02\\u0e19\\u0e21\\u0e04\\u0e07\\u0e44\\u0e1b\\u0e08\\u0e31\\u0e14 \\u0e04\\u0e2d\\u0e23\\u0e4c\\u0e2a Le Cordon Bleu \\u0e21\\u0e32\\u0e2d\\u0e22\\u0e48\\u0e32\\u0e07\\u0e41\\u0e19\\u0e48\\u0e19\\u0e2d\\u0e19 555+ \\u0e40\\u0e21\\u0e19\\u0e39\\u0e43\\u0e19\\u0e23\\u0e49\\u0e32\\u0e19\\u0e17\\u0e35\\u0e48\\u0e14\\u0e39\\u0e25\\u0e07\\u0e15\\u0e31\\u0e27\\u0e14\\u0e35\\u0e44\\u0e21\\u0e48\\u0e40\\u0e1a\\u0e32 \\u0e14\\u0e49\\u0e27\\u0e22\\u0e40\\u0e04\\u0e23\\u0e37\\u0e48\\u0e2d\\u0e07\\u0e14\\u0e37\\u0e48\\u0e21\\u0e1b\\u0e23\\u0e30\\u0e40\\u0e20\\u0e17\\u0e01\\u0e32\\u0e41\\u0e1f, \\u0e0a\\u0e32, Freppe, Smoothies \\u0e41\\u0e25\\u0e30 Soda \\u0e17\\u0e35\\u0e48\\u0e14\\u0e39\\u0e08\\u0e32\\u0e01\\u0e04\\u0e48\\u0e32\\u0e40\\u0e2a\\u0e35\\u0e22\\u0e2b\\u0e32\\u0e22\\u0e40\\u0e23\\u0e34\\u0e48\\u0e21\\u0e15\\u0e49\\u0e19 \\u0e40\\u0e1e\\u0e35\\u0e22\\u0e07 40 \\u0e01\\u0e27\\u0e48\\u0e32\\u0e1a\\u0e32\\u0e17\\u0e41\\u0e25\\u0e49\\u0e27 \\u0e25\\u0e48\\u0e2d\\u0e15\\u0e32\\u0e25\\u0e48\\u0e2d\\u0e43\\u0e08\\u0e44\\u0e21\\u0e48\\u0e18\\u0e23\\u0e23\\u0e21\\u0e14\\u0e32 \\u0e2b\\u0e31\\u0e19\\u0e2b\\u0e19\\u0e49\\u0e32\\u0e21\\u0e32\\u0e21\\u0e2d\\u0e07\\u0e02\\u0e19\\u0e21\\u0e2b\\u0e27\\u0e32\\u0e19\\u0e01\\u0e31\\u0e19\\u0e1a\\u0e49\\u0e32\\u0e07 \\u0e17\\u0e31\\u0e49\\u0e07 Crepe cake, Cheese cake  \\u0e40\\u0e1b\\u0e47\\u0e19\\u0e15\\u0e49\\u0e19 \\u0e2a\\u0e44\\u0e15\\u0e25\\u0e4c\\u0e1d\\u0e23\\u0e31\\u0e48\\u0e07\\u0e40\\u0e28\\u0e29 \\u0e17\\u0e35\\u0e48\\u0e14\\u0e39\\u0e19\\u0e48\\u0e32\\u0e17\\u0e32\\u0e19\\u0e15\\u0e32\\u0e21\\u0e41\\u0e1a\\u0e1a\\u0e09\\u0e1a\\u0e31\\u0e1a \\u0e1e\\u0e23\\u0e49\\u0e2d\\u0e21\\u0e44\\u0e21\\u0e48\\u0e19\\u0e48\\u0e32\\u0e1e\\u0e25\\u0e32\\u0e14\\u0e01\\u0e31\\u0e1a Set toast, Moose cake \\u0e41\\u0e25\\u0e30 Lava \\u0e17\\u0e35\\u0e48\\u0e19\\u0e48\\u0e32\\u0e15\\u0e32\\u0e19\\u0e48\\u0e32\\u0e17\\u0e32\\u0e19 \\u0e08\\u0e32\\u0e01\\u0e17\\u0e35\\u0e48\\u0e17\\u0e35\\u0e21\\u0e07\\u0e32\\u0e19\\u0e27\\u0e34\\u0e40\\u0e04\\u0e23\\u0e32\\u0e30\\u0e2b\\u0e4c\\u0e40\\u0e21\\u0e48\\u0e32\\u0e1b\\u0e35\\u0e01\\u0e40\\u0e2b\\u0e25\\u0e47\\u0e01\\u0e02\\u0e2d\\u0e07\\u0e40\\u0e23\\u0e32 \\u0e1a\\u0e2d\\u0e01\\u0e23\\u0e32\\u0e04\\u0e32\\u0e40\\u0e1b\\u0e34\\u0e14\\u0e15\\u0e31\\u0e27\\u0e19\\u0e48\\u0e32\\u0e23\\u0e31\\u0e01\\u0e19\\u0e48\\u0e32\\u0e25\\u0e38\\u0e49\\u0e19 \\u0e08\\u0e31\\u0e14\\u0e21\\u0e32\\u0e27\\u0e31\\u0e14\\u0e43\\u0e08\\u0e01\\u0e31\\u0e19\\u0e14\\u0e39\\u0e1e\\u0e2d\\u0e2b\\u0e2d\\u0e21\\u0e1b\\u0e32\\u0e01\\u0e2b\\u0e2d\\u0e21\\u0e04\\u0e2d\\u0e01\\u0e31\\u0e19\\u0e08\\u0e4a\\u0e30...\\n\\n<<\\u0e15\\u0e31\\u0e27\\u0e40\\u0e01\\u0e47\\u0e07\\u0e08\\u0e32\\u0e01\\u0e42\\u0e1e\\u0e22\\u0e40\\u0e17\\u0e1e \\u0e40\\u0e1e\\u0e37\\u0e48\\u0e2d\\u0e2b\\u0e19\\u0e35\\u0e15\\u0e34\\u0e14\\u0e14\\u0e2d\\u0e22 555+>>\\n\\n     - Bon Bon signature ( 65 \\u0e1a\\u0e32\\u0e17 ) ????????????????: \\u0e01\\u0e32\\u0e41\\u0e1f\\u0e2a\\u0e14\\u0e15\\u0e32\\u0e21\\u0e2a\\u0e44\\u0e15\\u0e25\\u0e4c\\u0e02\\u0e2d\\u0e07\\u0e23\\u0e49\\u0e32\\u0e19 \\u0e17\\u0e35\\u0e48\\u0e01\\u0e25\\u0e34\\u0e48\\u0e19\\u0e04\\u0e48\\u0e2d\\u0e19\\u0e02\\u0e49\\u0e32\\u0e07\\u0e19\\u0e48\\u0e32\\u0e23\\u0e31\\u0e01 \\u0e41\\u0e21\\u0e49\\u0e08\\u0e30\\u0e40\\u0e1b\\u0e47\\u0e19\\u0e41\\u0e1a\\u0e1a\\u0e40\\u0e22\\u0e47\\u0e19 \\u0e01\\u0e32\\u0e41\\u0e1f\\u0e17\\u0e35\\u0e48\\u0e1b\\u0e23\\u0e38\\u0e07\\u0e41\\u0e15\\u0e48\\u0e07\\u0e08\\u0e32\\u0e01\\u0e2a\\u0e39\\u0e15\\u0e23\\u0e40\\u0e14\\u0e47\\u0e14\\u0e02\\u0e2d\\u0e07\\u0e23\\u0e49\\u0e32\\u0e19\\u0e19\\u0e33\\u0e21\\u0e32 Shake \\u0e01\\u0e31\\u0e1a\\u0e19\\u0e49\\u0e33\\u0e41\\u0e02\\u0e47\\u0e07 \\u0e41\\u0e25\\u0e30\\u0e1b\\u0e34\\u0e14\\u0e17\\u0e49\\u0e32\\u0e22\\u0e14\\u0e49\\u0e27\\u0e22\\u0e01\\u0e32\\u0e23\\u0e43\\u0e2a\\u0e48\\u0e1f\\u0e2d\\u0e07\\u0e2d\\u0e32\\u0e01\\u0e32\\u0e28\\u0e41\\u0e17\\u0e23\\u0e01\\u0e40\\u0e02\\u0e49\\u0e32\\u0e44\\u0e1b\\u0e43\\u0e19\\u0e1a\\u0e2d\\u0e14\\u0e35\\u0e49 \\u0e40\\u0e1e\\u0e37\\u0e48\\u0e2d\\u0e40\\u0e1e\\u0e34\\u0e48\\u0e21\\u0e23\\u0e2a\\u0e2a\\u0e31\\u0e21\\u0e1c\\u0e31\\u0e2a\\u0e43\\u0e2b\\u0e49\\u0e21\\u0e35\\u0e04\\u0e27\\u0e32\\u0e21\\u0e25\\u0e37\\u0e48\\u0e19\\u0e25\\u0e30\\u0e21\\u0e38\\u0e19 \\u0e08\\u0e32\\u0e01\\u0e1d\\u0e35\\u0e21\\u0e37\\u0e2d Barista \\u0e2a\\u0e38\\u0e14\\u0e2b\\u0e25\\u0e48\\u0e2d \\u0e17\\u0e33\\u0e43\\u0e2b\\u0e49 After test \\u0e02\\u0e2d\\u0e07\\u0e01\\u0e32\\u0e41\\u0e1f\\u0e41\\u0e01\\u0e49\\u0e27\\u0e19\\u0e35\\u0e49 \\u0e14\\u0e39\\u0e21\\u0e35\\u0e2d\\u0e30\\u0e44\\u0e23\\u0e0b\\u0e48\\u0e2d\\u0e19\\u0e2d\\u0e22\\u0e39\\u0e48\\u0e2d\\u0e22\\u0e48\\u0e32\\u0e07\\u0e19\\u0e48\\u0e32\\u0e2a\\u0e19\\u0e43\\u0e08 \\u0e41\\u0e21\\u0e49\\u0e04\\u0e48\\u0e32\\u0e15\\u0e31\\u0e27\\u0e08\\u0e30\\u0e14\\u0e39\\u0e15\\u0e48\\u0e33\\u0e15\\u0e49\\u0e2d\\u0e22 \\u0e41\\u0e15\\u0e48\\u0e14\\u0e35\\u0e07\\u0e32\\u0e21\\u0e44\\u0e21\\u0e48\\u0e19\\u0e49\\u0e2d\\u0e22 \\u0e19\\u0e48\\u0e32\\u0e1b\\u0e23\\u0e30\\u0e17\\u0e31\\u0e1a\\u0e43\\u0e08\\u0e04\\u0e23\\u0e31\\u0e1a....\\n\\n     - Banoffee chocco freappe ( 85 \\u0e1a\\u0e32\\u0e17 ) ????????????: \\u0e0a\\u0e47\\u0e2d\\u0e01\\u0e42\\u0e01\\u0e41\\u0e25\\u0e15\\u0e17\\u0e35\\u0e48\\u0e1c\\u0e2a\\u0e21\\u0e01\\u0e31\\u0e1a\\u0e44\\u0e0b\\u0e23\\u0e31\\u0e1b\\u0e04\\u0e32\\u0e23\\u0e40\\u0e21\\u0e25\\u0e19\\u0e33\\u0e44\\u0e1b\\u0e1b\\u0e31\\u0e48\\u0e19\\u0e08\\u0e19\\u0e40\\u0e19\\u0e37\\u0e49\\u0e2d\\u0e40\\u0e19\\u0e35\\u0e22\\u0e19\\u0e40\\u0e02\\u0e49\\u0e32\\u0e01\\u0e31\\u0e19\\u0e14\\u0e35 \\u0e44\\u0e21\\u0e48\\u0e21\\u0e35\\u0e40\\u0e01\\u0e23\\u0e47\\u0e14 \\u0e40\\u0e19\\u0e37\\u0e49\\u0e2d\\u0e2d\\u0e2d\\u0e01\\u0e40\\u0e02\\u0e49\\u0e21\\u0e02\\u0e49\\u0e19 \\u0e40\\u0e2b\\u0e19\\u0e35\\u0e22\\u0e21\\u0e2b\\u0e19\\u0e36\\u0e1a\\u0e14\\u0e35\\u0e43\\u0e0a\\u0e49\\u0e44\\u0e14\\u0e49 \\u0e43\\u0e2b\\u0e49\\u0e23\\u0e2a\\u0e2b\\u0e27\\u0e32\\u0e19 \\u0e21\\u0e31\\u0e19\\u0e46 \\u0e44\\u0e14\\u0e49\\u0e43\\u0e08\\u0e1e\\u0e2d\\u0e04\\u0e27\\u0e23 \\u0e1b\\u0e23\\u0e30\\u0e14\\u0e31\\u0e1a\\u0e14\\u0e49\\u0e27\\u0e22\\u0e01\\u0e25\\u0e49\\u0e27\\u0e22\\u0e2b\\u0e2d\\u0e21\\u0e2b\\u0e31\\u0e48\\u0e19 \\u0e41\\u0e25\\u0e30\\u0e0a\\u0e47\\u0e2d\\u0e01\\u0e42\\u0e01\\u0e41\\u0e25\\u0e15\\u0e0a\\u0e34\\u0e1e\\u0e14\\u0e49\\u0e32\\u0e19\\u0e1a\\u0e19 \\u0e1b\\u0e34\\u0e14\\u0e17\\u0e49\\u0e32\\u0e22\\u0e14\\u0e49\\u0e32\\u0e19\\u0e1a\\u0e19\\u0e23\\u0e32\\u0e14\\u0e44\\u0e0b\\u0e23\\u0e31\\u0e1b \\u0e40\\u0e1e\\u0e34\\u0e48\\u0e21\\u0e04\\u0e27\\u0e32\\u0e21\\u0e2b\\u0e27\\u0e32\\u0e19\\u0e21\\u0e31\\u0e19 \\u0e40\\u0e02\\u0e49\\u0e21\\u0e02\\u0e49\\u0e19 \\u0e14\\u0e35\\u0e43\\u0e0a\\u0e49\\u0e44\\u0e14\\u0e49\\u0e40\\u0e25\\u0e22\\u0e04\\u0e23\\u0e31\\u0e1a\\n\\n     - Santa cat set ( 139 \\u0e1a\\u0e32\\u0e17 ) ????????????: \\u0e41\\u0e21\\u0e27\\u0e40\\u0e2b\\u0e21\\u0e35\\u0e22\\u0e27\\u0e08\\u0e21\\u0e39\\u0e01\\u0e1f\\u0e49\\u0e32\\u0e2a\\u0e38\\u0e14\\u0e19\\u0e48\\u0e32\\u0e23\\u0e31\\u0e01\\u0e15\\u0e49\\u0e2d\\u0e19\\u0e23\\u0e31\\u0e1a\\u0e40\\u0e17\\u0e28\\u0e01\\u0e32\\u0e25\\u0e04\\u0e23\\u0e34\\u0e2a\\u0e21\\u0e32\\u0e2a\\u0e17\\u0e4c (\\u0e04\\u0e19\\u0e2d\\u0e48\\u0e32\\u0e19\\u0e16\\u0e32\\u0e21 : \\u0e14\\u0e2d\\u0e07\\u0e23\\u0e35\\u0e27\\u0e34\\u0e27\\u0e2d\\u0e35\\u0e01\\u0e41\\u0e25\\u0e49\\u0e27\\u0e43\\u0e0a\\u0e48\\u0e44\\u0e2b\\u0e21\\u0e04\\u0e48\\u0e30 ...555+) \\u0e0a\\u0e47\\u0e2d\\u0e01\\u0e42\\u0e01\\u0e41\\u0e25\\u0e15\\u0e21\\u0e39\\u0e2a\\u0e40\\u0e19\\u0e37\\u0e49\\u0e2d\\u0e1a\\u0e32\\u0e07\\u0e40\\u0e1a\\u0e32 \\u0e2d\\u0e2d\\u0e01\\u0e2b\\u0e27\\u0e32\\u0e19 \\u0e02\\u0e21 \\u0e40\\u0e02\\u0e49\\u0e21\\u0e14\\u0e35\\u0e43\\u0e0a\\u0e49\\u0e44\\u0e14\\u0e49 \\u0e40\\u0e19\\u0e37\\u0e49\\u0e2d\\u0e25\\u0e30\\u0e21\\u0e38\\u0e19\\u0e46\\u0e25\\u0e30\\u0e40\\u0e2d\\u0e35\\u0e22\\u0e14\\u0e1e\\u0e2d\\u0e04\\u0e27\\u0e23 \\u0e2b\\u0e48\\u0e2d\\u0e2b\\u0e38\\u0e49\\u0e21\\u0e04\\u0e38\\u0e49\\u0e21\\u0e01\\u0e31\\u0e19\\u0e0a\\u0e47\\u0e2d\\u0e01\\u0e42\\u0e01\\u0e41\\u0e25\\u0e15\\u0e17\\u0e35\\u0e48\\u0e2b\\u0e27\\u0e32\\u0e19 \\u0e40\\u0e02\\u0e49\\u0e21\\u0e40\\u0e1b\\u0e47\\u0e19\\u0e01\\u0e49\\u0e2d\\u0e19\\u0e43\\u0e2b\\u0e0d\\u0e48\\u0e2d\\u0e22\\u0e39\\u0e48\\u0e14\\u0e49\\u0e32\\u0e19\\u0e43\\u0e19 \\u0e43\\u0e2b\\u0e49\\u0e44\\u0e14\\u0e49 Surprise \\u0e01\\u0e31\\u0e1a\\u0e15\\u0e31\\u0e1a\\u0e44\\u0e15\\u0e02\\u0e2d\\u0e07\\u0e19\\u0e49\\u0e2d\\u0e07\\u0e40\\u0e2b\\u0e21\\u0e35\\u0e22\\u0e27 555+ \\u0e21\\u0e35\\u0e2b\\u0e21\\u0e27\\u0e01\\u0e27\\u0e34\\u0e1b\\u0e04\\u0e23\\u0e35\\u0e21\\u0e41\\u0e25\\u0e30\\u0e2a\\u0e15\\u0e23\\u0e2d\\u0e40\\u0e1a\\u0e2d\\u0e23\\u0e4c\\u0e23\\u0e35\\u0e48\\u0e2a\\u0e14\\u0e1b\\u0e23\\u0e30\\u0e14\\u0e31\\u0e1a\\u0e44\\u0e27\\u0e49\\u0e14\\u0e49\\u0e32\\u0e19\\u0e1a\\u0e19\\u0e46 \\u0e17\\u0e32\\u0e19\\u0e04\\u0e39\\u0e48\\u0e01\\u0e31\\u0e1a\\u0e04\\u0e31\\u0e2a\\u0e15\\u0e32\\u0e23\\u0e4c\\u0e14\\u0e17\\u0e35\\u0e48\\u0e21\\u0e35\\u0e41\\u0e22\\u0e21\\u0e2a\\u0e15\\u0e23\\u0e2d\\u0e40\\u0e1a\\u0e2d\\u0e23\\u0e4c\\u0e23\\u0e35\\u0e48\\u0e2a\\u0e35\\u0e2a\\u0e27\\u0e22\\u0e19\\u0e2d\\u0e19\\u0e17\\u0e31\\u0e1a\\u0e2d\\u0e22\\u0e39\\u0e48\\u0e14\\u0e49\\u0e32\\u0e19\\u0e1a\\u0e19 \\u0e43\\u0e2b\\u0e49\\u0e23\\u0e2a\\u0e40\\u0e1b\\u0e23\\u0e35\\u0e49\\u0e22\\u0e27\\u0e41\\u0e25\\u0e30\\u0e2b\\u0e27\\u0e32\\u0e19\\u0e15\\u0e31\\u0e14\\u0e01\\u0e31\\u0e19 \\u0e19\\u0e38\\u0e48\\u0e21\\u0e46\\u0e25\\u0e37\\u0e48\\u0e19\\u0e46\\u0e2b\\u0e22\\u0e38\\u0e48\\u0e19\\u0e46\\u0e1e\\u0e2d\\u0e14\\u0e34\\u0e1a\\u0e1e\\u0e2d\\u0e14\\u0e35 \\u0e41\\u0e25\\u0e30\\u0e21\\u0e35\\u0e40\\u0e1e\\u0e37\\u0e48\\u0e2d\\u0e19\\u0e44\\u0e2d\\u0e28\\u0e04\\u0e23\\u0e35\\u0e21\\u0e27\\u0e32\\u0e19\\u0e34\\u0e25\\u0e25\\u0e32\\u0e01\\u0e49\\u0e2d\\u0e19\\u0e42\\u0e15 \\u0e40\\u0e19\\u0e37\\u0e49\\u0e2d\\u0e40\\u0e2b\\u0e25\\u0e37\\u0e2d\\u0e07\\u0e02\\u0e32\\u0e27\\u0e2a\\u0e27\\u0e22 \\u0e40\\u0e19\\u0e35\\u0e22\\u0e19\\u0e1e\\u0e2d\\u0e44\\u0e14\\u0e49 \\u0e23\\u0e2a\\u0e2b\\u0e27\\u0e32\\u0e19 \\u0e2b\\u0e2d\\u0e21\\u0e18\\u0e23\\u0e23\\u0e21\\u0e14\\u0e32\\u0e04\\u0e23\\u0e31\\u0e1a\\n\\n<<\\u0e1b\\u0e34\\u0e14\\u0e15\\u0e25\\u0e32\\u0e14\\u0e0b\\u0e37\\u0e49\\u0e2d\\u0e02\\u0e32\\u0e22 \\u0e40\\u0e02\\u0e35\\u0e22\\u0e27\\u0e2b\\u0e23\\u0e37\\u0e2d\\u0e41\\u0e14\\u0e07\\u0e21\\u0e32\\u0e25\\u0e38\\u0e49\\u0e19>>\\n\\n     >\\u0e23\\u0e2a\\u0e0a\\u0e32\\u0e15\\u0e34 \\u2013 3.5/5 : \\u0e01\\u0e32\\u0e41\\u0e1f\\u0e17\\u0e33\\u0e44\\u0e14\\u0e49\\u0e14\\u0e35\\u0e41\\u0e25\\u0e49\\u0e27\\u0e04\\u0e23\\u0e31\\u0e1a \\u0e21\\u0e35\\u0e04\\u0e27\\u0e32\\u0e21\\u0e40\\u0e1b\\u0e47\\u0e19\\u0e40\\u0e2d\\u0e01\\u0e25\\u0e31\\u0e01\\u0e29\\u0e13\\u0e4c\\u0e14\\u0e35\\u0e43\\u0e0a\\u0e49\\u0e44\\u0e14\\u0e49 \\u0e23\\u0e2a \\u0e01\\u0e25\\u0e34\\u0e48\\u0e19 \\u0e1a\\u0e2d\\u0e14\\u0e35\\u0e49 after test \\u0e21\\u0e32\\u0e43\\u0e19\\u0e40\\u0e01\\u0e13\\u0e11\\u0e4c\\u0e14\\u0e35\\u0e40\\u0e25\\u0e22 \\u0e2d\\u0e35\\u0e01\\u0e41\\u0e01\\u0e49\\u0e27\\u0e22\\u0e31\\u0e07\\u0e44\\u0e21\\u0e48\\u0e1b\\u0e23\\u0e30\\u0e17\\u0e31\\u0e1a\\u0e43\\u0e08\\u0e21\\u0e32\\u0e01\\u0e19\\u0e31\\u0e01 \\u0e23\\u0e39\\u0e49\\u0e2a\\u0e36\\u0e01\\u0e22\\u0e31\\u0e07\\u0e18\\u0e23\\u0e23\\u0e21\\u0e14\\u0e32\\u0e44\\u0e1b\\u0e2b\\u0e19\\u0e48\\u0e2d\\u0e22 \\u0e44\\u0e2d\\u0e40\\u0e14\\u0e35\\u0e22\\u0e14\\u0e35\\u0e41\\u0e25\\u0e49\\u0e27 \\u0e40\\u0e02\\u0e49\\u0e21\\u0e02\\u0e49\\u0e19\\u0e1b\\u0e32\\u0e19\\u0e01\\u0e25\\u0e32\\u0e07 \\u0e41\\u0e15\\u0e48\\u0e01\\u0e25\\u0e34\\u0e48\\u0e19\\u0e44\\u0e21\\u0e48\\u0e21\\u0e32 \\u0e41\\u0e25\\u0e30\\u0e22\\u0e31\\u0e07\\u0e2a\\u0e37\\u0e48\\u0e2d\\u0e44\\u0e21\\u0e48\\u0e16\\u0e36\\u0e07\\u0e23\\u0e2a\\u0e02\\u0e2d\\u0e07\\u0e1b\\u0e25\\u0e32\\u0e22\\u0e17\\u0e32\\u0e07\\u0e04\\u0e23\\u0e31\\u0e1a \\u0e2a\\u0e48\\u0e27\\u0e19\\u0e02\\u0e19\\u0e21\\u0e22\\u0e31\\u0e07\\u0e44\\u0e21\\u0e48\\u0e2a\\u0e38\\u0e14\\u0e40\\u0e0a\\u0e48\\u0e19\\u0e01\\u0e31\\u0e19\\u0e04\\u0e23\\u0e31\\u0e1a \\u0e22\\u0e31\\u0e07\\u0e44\\u0e21\\u0e48\\u0e40\\u0e02\\u0e49\\u0e21\\u0e02\\u0e49\\u0e19 \\u0e2b\\u0e27\\u0e32\\u0e19\\u0e21\\u0e31\\u0e19\\u0e14\\u0e31\\u0e48\\u0e07\\u0e04\\u0e27\\u0e32\\u0e21\\u0e1e\\u0e36\\u0e07\\u0e1e\\u0e2d\\u0e43\\u0e08 \\u0e23\\u0e2a\\u0e0a\\u0e32\\u0e15\\u0e34\\u0e14\\u0e35\\u0e43\\u0e0a\\u0e49\\u0e44\\u0e14\\u0e49 \\u0e27\\u0e31\\u0e15\\u0e16\\u0e38\\u0e14\\u0e35\\u0e08\\u0e31\\u0e14\\u0e40\\u0e15\\u0e47\\u0e21\\u0e1e\\u0e2d\\u0e2a\\u0e21\\u0e04\\u0e27\\u0e23  \\u0e04\\u0e27\\u0e32\\u0e21\\u0e2b\\u0e2d\\u0e21\\u0e22\\u0e31\\u0e07\\u0e44\\u0e21\\u0e48\\u0e0a\\u0e31\\u0e14\\u0e40\\u0e14\\u0e48\\u0e19 \\u0e2a\\u0e35\\u0e2a\\u0e35\\u0e19\\u0e19\\u0e48\\u0e32\\u0e17\\u0e32\\u0e19\\u0e14\\u0e35\\u0e43\\u0e0a\\u0e49\\u0e44\\u0e14\\u0e49\\u0e04\\u0e23\\u0e31\\u0e1a \\u0e14\\u0e49\\u0e27\\u0e22\\u0e04\\u0e27\\u0e32\\u0e21\\u0e40\\u0e04\\u0e32\\u0e23\\u0e1e...\\n\\n     >\\u0e23\\u0e32\\u0e04\\u0e32 \\u2013 4/5 : \\u0e04\\u0e1a\\u0e2b\\u0e32\\u0e44\\u0e14\\u0e49 \\u0e09\\u0e31\\u0e19\\u0e21\\u0e34\\u0e15\\u0e23\\u0e2a\\u0e19\\u0e34\\u0e17 \\u0e23\\u0e32\\u0e04\\u0e32\\u0e19\\u0e38\\u0e48\\u0e19\\u0e08\\u0e19\\u0e19\\u0e48\\u0e32\\u0e2a\\u0e19\\u0e43\\u0e08\\u0e44\\u0e21\\u0e48\\u0e19\\u0e49\\u0e2d\\u0e22\\u0e40\\u0e25\\u0e22 (\\u0e43\\u0e19\\u0e1a\\u0e32\\u0e07\\u0e40\\u0e21\\u0e19\\u0e39 555+) \\u0e04\\u0e38\\u0e13\\u0e20\\u0e32\\u0e1e\\u0e2d\\u0e22\\u0e39\\u0e48\\u0e43\\u0e19\\u0e40\\u0e01\\u0e13\\u0e11\\u0e4c\\u0e14\\u0e35 \\u0e19\\u0e48\\u0e32\\u0e1e\\u0e36\\u0e07\\u0e1e\\u0e2d\\u0e43\\u0e08\\u0e17\\u0e31\\u0e49\\u0e07\\u0e27\\u0e31\\u0e15\\u0e16\\u0e38\\u0e14\\u0e34\\u0e1a\\u0e41\\u0e25\\u0e30\\u0e1b\\u0e23\\u0e34\\u0e21\\u0e32\\u0e13 \\u0e02\\u0e19\\u0e21\\u0e1b\\u0e23\\u0e34\\u0e21\\u0e32\\u0e13\\u0e14\\u0e39\\u0e40\\u0e2b\\u0e21\\u0e32\\u0e30\\u0e2a\\u0e21\\u0e42\\u0e2d\\u0e40\\u0e04 \\u0e04\\u0e38\\u0e13\\u0e20\\u0e32\\u0e1e\\u0e14\\u0e39\\u0e14\\u0e35\\u0e43\\u0e0a\\u0e49\\u0e44\\u0e14\\u0e49 \\u0e41\\u0e21\\u0e49\\u0e22\\u0e31\\u0e07\\u0e44\\u0e21\\u0e48\\u0e27\\u0e49\\u0e32\\u0e27\\u0e41\\u0e1a\\u0e1a\\u0e1b\\u0e32\\u0e01\\u0e01\\u0e27\\u0e49\\u0e32\\u0e07\\u0e01\\u0e47\\u0e15\\u0e32\\u0e21 \\u0e19\\u0e49\\u0e33\\u0e14\\u0e37\\u0e48\\u0e21\\u0e1f\\u0e23\\u0e35\\u0e21\\u0e35\\u0e43\\u0e2b\\u0e49\\u0e1a\\u0e23\\u0e34\\u0e01\\u0e32\\u0e23\\u0e15\\u0e31\\u0e27\\u0e40\\u0e2d\\u0e07 \\u0e40\\u0e08\\u0e2d\\u0e44\\u0e1b\\u0e41\\u0e04\\u0e48\\u0e19\\u0e35\\u0e49 \\u0e19\\u0e49\\u0e2d\\u0e07 GB \\u0e01\\u0e47 Happy \\u0e14\\u0e35\\u0e4a\\u0e14\\u0e35\\u0e41\\u0e25\\u0e49\\u0e27\\u0e08\\u0e4a\\u0e30\\n\\n     >\\u0e1a\\u0e23\\u0e23\\u0e22\\u0e32\\u0e01\\u0e32\\u0e28 \\u2013 3.5/5 : \\u0e23\\u0e49\\u0e32\\u0e19\\u0e02\\u0e19\\u0e32\\u0e14\\u0e1e\\u0e2d\\u0e14\\u0e35\\u0e46\\u0e04\\u0e23\\u0e31\\u0e1a \\u0e44\\u0e21\\u0e48\\u0e44\\u0e14\\u0e49\\u0e01\\u0e27\\u0e49\\u0e32\\u0e07\\u0e02\\u0e27\\u0e32\\u0e07\\u0e43\\u0e2b\\u0e0d\\u0e48\\u0e42\\u0e15\\u0e21\\u0e32\\u0e01\\u0e21\\u0e32\\u0e22\\u0e41\\u0e15\\u0e48\\u0e01\\u0e47\\u0e19\\u0e31\\u0e48\\u0e07\\u0e2a\\u0e1a\\u0e32\\u0e22\\u0e46\\u0e1e\\u0e2d\\u0e2a\\u0e21\\u0e04\\u0e27\\u0e23 \\u0e14\\u0e49\\u0e27\\u0e22\\u0e40\\u0e01\\u0e49\\u0e32\\u0e2d\\u0e35\\u0e49\\u0e2a\\u0e35\\u0e41\\u0e14\\u0e07\\u0e41\\u0e1b\\u0e23\\u0e4a\\u0e14\\u0e41\\u0e15\\u0e48\\u0e19\\u0e31\\u0e48\\u0e07\\u0e19\\u0e34\\u0e48\\u0e21\\u0e46\\u0e19\\u0e38\\u0e48\\u0e21\\u0e46\\u0e14\\u0e35 \\u0e17\\u0e32\\u0e19\\u0e01\\u0e31\\u0e1a\\u0e42\\u0e15\\u0e4a\\u0e30\\u0e41\\u0e1a\\u0e1a\\u0e01\\u0e25\\u0e21 5-6 \\u0e17\\u0e35\\u0e48 \\u0e17\\u0e35\\u0e48\\u0e04\\u0e48\\u0e2d\\u0e19\\u0e02\\u0e49\\u0e32\\u0e07\\u0e40\\u0e25\\u0e47\\u0e01\\u0e44\\u0e1b\\u0e19\\u0e34\\u0e14 \\u0e27\\u0e32\\u0e07\\u0e02\\u0e19\\u0e21\\u0e19\\u0e49\\u0e33\\u0e17\\u0e35\\u0e19\\u0e35\\u0e48\\u0e40\\u0e15\\u0e47\\u0e21\\u0e42\\u0e15\\u0e4a\\u0e30\\u0e44\\u0e21\\u0e48\\u0e40\\u0e1a\\u0e32 555+ \\u0e41\\u0e2d\\u0e23\\u0e4c\\u0e40\\u0e22\\u0e47\\u0e19\\u0e2a\\u0e1a\\u0e32\\u0e22\\u0e46 \\u0e40\\u0e1b\\u0e47\\u0e19\\u0e23\\u0e30\\u0e40\\u0e1a\\u0e35\\u0e22\\u0e1a\\u0e41\\u0e25\\u0e30\\u0e2a\\u0e30\\u0e2d\\u0e32\\u0e14\\u0e2a\\u0e30\\u0e2d\\u0e49\\u0e32\\u0e19\\u0e14\\u0e35\\u0e04\\u0e23\\u0e31\\u0e1a\\n\\n     >\\u0e1a\\u0e23\\u0e34\\u0e01\\u0e32\\u0e23 \\u2013 4.5/5 : \\u0e19\\u0e49\\u0e2d\\u0e07\\u0e17\\u0e35\\u0e48\\u0e15\\u0e49\\u0e2d\\u0e19\\u0e23\\u0e31\\u0e1a\\u0e40\\u0e23\\u0e32\\u0e41\\u0e25\\u0e30 Barista \\u0e17\\u0e35\\u0e48\\u0e04\\u0e32\\u0e14\\u0e27\\u0e48\\u0e32\\u0e08\\u0e30\\u0e40\\u0e1b\\u0e47\\u0e19\\u0e40\\u0e08\\u0e49\\u0e32\\u0e02\\u0e2d\\u0e07\\u0e23\\u0e49\\u0e32\\u0e19 \\u0e14\\u0e39\\u0e41\\u0e25\\u0e40\\u0e23\\u0e32\\u0e40\\u0e1b\\u0e47\\u0e19\\u0e2d\\u0e22\\u0e48\\u0e32\\u0e07\\u0e14\\u0e35\\u0e04\\u0e23\\u0e31\\u0e1a \\u0e22\\u0e34\\u0e49\\u0e21\\u0e41\\u0e22\\u0e49\\u0e21\\u0e41\\u0e08\\u0e48\\u0e21\\u0e43\\u0e2a\\u0e41\\u0e25\\u0e30\\u0e1e\\u0e39\\u0e14\\u0e08\\u0e32\\u0e2a\\u0e38\\u0e20\\u0e32\\u0e1e\\u0e40\\u0e23\\u0e35\\u0e22\\u0e1a\\u0e23\\u0e49\\u0e2d\\u0e22 \\u0e41\\u0e21\\u0e49\\u0e08\\u0e30\\u0e2d\\u0e2d\\u0e01\\u0e40\\u0e1a\\u0e32\\u0e46\\u0e44\\u0e1b\\u0e2b\\u0e19\\u0e48\\u0e2d\\u0e22 555+ \\u0e43\\u0e2b\\u0e49\\u0e04\\u0e33\\u0e41\\u0e19\\u0e30\\u0e19\\u0e33\\u0e14\\u0e35 \\u0e19\\u0e33\\u0e40\\u0e2a\\u0e34\\u0e23\\u0e4c\\u0e1f\\u0e16\\u0e36\\u0e07\\u0e42\\u0e15\\u0e4a\\u0e30 \\u0e17\\u0e48\\u0e32\\u0e17\\u0e32\\u0e07\\u0e14\\u0e35\\u0e07\\u0e32\\u0e21 \\u0e1b\\u0e23\\u0e30\\u0e19\\u0e1a\\u0e19\\u0e49\\u0e2d\\u0e21 \\u0e02\\u0e2d\\u0e1a\\u0e04\\u0e38\\u0e13\\u0e17\\u0e38\\u0e01\\u0e01\\u0e23\\u0e30\\u0e1a\\u0e27\\u0e19\\u0e17\\u0e48\\u0e32\\u0e02\\u0e2d\\u0e07\\u0e40\\u0e23\\u0e32 555+ \\u0e40\\u0e0a\\u0e35\\u0e22\\u0e23\\u0e4c\\u0e41\\u0e02\\u0e01\\u0e14\\u0e35\\u0e43\\u0e0a\\u0e49\\u0e44\\u0e14\\u0e49 \\u0e19\\u0e48\\u0e32\\u0e40\\u0e2a\\u0e35\\u0e22\\u0e14\\u0e32\\u0e22\\u0e44\\u0e1b\\u0e2b\\u0e19\\u0e48\\u0e2d\\u0e22 \\u0e16\\u0e49\\u0e32\\u0e1a\\u0e2d\\u0e01\\u0e40\\u0e23\\u0e37\\u0e48\\u0e2d\\u0e07\\u0e19\\u0e49\\u0e33\\u0e14\\u0e37\\u0e48\\u0e21\\u0e1f\\u0e23\\u0e35\\u0e17\\u0e35\\u0e48\\u0e2b\\u0e31\\u0e27\\u0e21\\u0e38\\u0e21\\u0e40\\u0e1e\\u0e34\\u0e48\\u0e21 \\u0e2a\\u0e33\\u0e2b\\u0e23\\u0e31\\u0e1a\\u0e25\\u0e39\\u0e01\\u0e04\\u0e49\\u0e32\\u0e17\\u0e35\\u0e48\\u0e40\\u0e02\\u0e49\\u0e32\\u0e21\\u0e32\\u0e41\\u0e25\\u0e49\\u0e27 \\u0e08\\u0e30\\u0e14\\u0e35\\u0e07\\u0e32\\u0e21\\u0e44\\u0e21\\u0e48\\u0e19\\u0e49\\u0e2d\\u0e22\\u0e04\\u0e23\\u0e31\\u0e1a \\u0e01\\u0e32\\u0e23\\u0e40\\u0e15\\u0e23\\u0e35\\u0e22\\u0e21\\u0e2d\\u0e32\\u0e2b\\u0e32\\u0e23\\u0e23\\u0e27\\u0e14\\u0e40\\u0e23\\u0e47\\u0e27\\u0e14\\u0e35\\u0e43\\u0e0a\\u0e49\\u0e44\\u0e14\\u0e49 \\u0e2a\\u0e16\\u0e32\\u0e19\\u0e17\\u0e35\\u0e48\\u0e08\\u0e2d\\u0e14\\u0e23\\u0e16\\u0e1e\\u0e2d\\u0e1e\\u0e36\\u0e48\\u0e07\\u0e1e\\u0e32\\u0e44\\u0e14\\u0e49\\u0e43\\u0e19\\u0e23\\u0e30\\u0e14\\u0e31\\u0e1a\\u0e19\\u0e36\\u0e07\\u0e04\\u0e23\\u0e31\\u0e1a\\n\\n<< \\u0e1b\\u0e23\\u0e30\\u0e01\\u0e32\\u0e28\\u0e1c\\u0e25\\u0e1b\\u0e23\\u0e30\\u0e01\\u0e2d\\u0e1a\\u0e01\\u0e32\\u0e23 >>\\n\\n     \\u0e25\\u0e07\\u0e17\\u0e38\\u0e19\\u0e41\\u0e25\\u0e49\\u0e27 \\u0e14\\u0e39\\u0e41\\u0e25\\u0e14\\u0e35 \\u0e21\\u0e35\\u0e01\\u0e33\\u0e44\\u0e23\\u0e41\\u0e1a\\u0e1a\\u0e19\\u0e35\\u0e49 \\u0e1e\\u0e35\\u0e48\\u0e15\\u0e49\\u0e2d\\u0e07\\u0e15\\u0e32\\u0e21\\u0e15\\u0e34\\u0e14\\u0e1c\\u0e25\\u0e01\\u0e31\\u0e19\\u0e22\\u0e32\\u0e27\\u0e46\\u0e41\\u0e19\\u0e48\\u0e08\\u0e4a\\u0e30\\n\\n ===================================\\n\\n     \\u201c \\u0e23\\u0e35\\u0e27\\u0e34\\u0e27\\u0e17\\u0e38\\u0e01\\u0e09\\u0e1a\\u0e31\\u0e1a \\u0e44\\u0e21\\u0e48\\u0e40\\u0e2b\\u0e21\\u0e32\\u0e30\\u0e2a\\u0e33\\u0e2b\\u0e23\\u0e31\\u0e1a\\u0e40\\u0e08\\u0e49\\u0e32\\u0e02\\u0e2d\\u0e07\\u0e23\\u0e49\\u0e32\\u0e19\\u0e43\\u0e08\\u0e41\\u0e04\\u0e1a \\u0e2b\\u0e25\\u0e07\\u0e43\\u0e2b\\u0e25 \\u0e2b\\u0e21\\u0e01\\u0e21\\u0e38\\u0e48\\u0e19 \\u0e41\\u0e25\\u0e30\\u0e1c\\u0e39\\u0e49\\u0e17\\u0e35\\u0e48\\u0e44\\u0e21\\u0e48\\u0e23\\u0e39\\u0e49\\u0e08\\u0e31\\u0e01\\u0e1c\\u0e34\\u0e14\\u0e0a\\u0e2d\\u0e1a\\u0e0a\\u0e31\\u0e48\\u0e27\\u0e14\\u0e35\\u0e02\\u0e2d\\u0e07\\u0e15\\u0e19\\u0e40\\u0e2d\\u0e07 \\u0e42\\u0e1b\\u0e23\\u0e14\\u0e2d\\u0e22\\u0e48\\u0e32\\u0e17\\u0e33\\u0e15\\u0e31\\u0e27\\u0e42\\u0e25\\u0e01\\u0e41\\u0e04\\u0e1a \\u0e04\\u0e27\\u0e23\\u0e2b\\u0e31\\u0e14\\u0e40\\u0e1b\\u0e34\\u0e14\\u0e2b\\u0e39\\u0e40\\u0e1b\\u0e34\\u0e14\\u0e15\\u0e32\\u0e40\\u0e1b\\u0e34\\u0e14\\u0e01\\u0e30\\u0e25\\u0e32\\u0e40\\u0e1b\\u0e34\\u0e14\\u0e43\\u0e08\\u0e01\\u0e31\\u0e19\\u0e1a\\u0e49\\u0e32\\u0e07 \\u0e40\\u0e1e\\u0e37\\u0e48\\u0e2d\\u0e01\\u0e32\\u0e23\\u0e1b\\u0e23\\u0e31\\u0e1a\\u0e1b\\u0e23\\u0e38\\u0e07\\u0e43\\u0e19\\u0e17\\u0e38\\u0e01\\u0e46\\u0e14\\u0e49\\u0e32\\u0e19 \\u0e25\\u0e39\\u0e01\\u0e04\\u0e49\\u0e32\\u0e04\\u0e37\\u0e2d\\u0e1e\\u0e23\\u0e30\\u0e40\\u0e08\\u0e49\\u0e32 \\u0e1e\\u0e23\\u0e30\\u0e40\\u0e08\\u0e49\\u0e32\\u0e21\\u0e35\\u0e14\\u0e35 \\u0e21\\u0e35\\u0e07\\u0e35\\u0e48\\u0e40\\u0e07\\u0e48\\u0e32\\u0e1a\\u0e49\\u0e32\\u0e07 \\u0e21\\u0e31\\u0e19\\u0e40\\u0e1b\\u0e47\\u0e19\\u0e40\\u0e23\\u0e37\\u0e48\\u0e2d\\u0e07\\u0e1b\\u0e01\\u0e15\\u0e34 \\u0e41\\u0e15\\u0e48...\\u0e1e\\u0e23\\u0e30\\u0e40\\u0e08\\u0e49\\u0e32\\u0e40\\u0e2d\\u0e32\\u0e15\\u0e31\\u0e07\\u0e21\\u0e32\\u0e43\\u0e2b\\u0e49\\u0e04\\u0e38\\u0e13\\u0e43\\u0e0a\\u0e49 \\u0e44\\u0e21\\u0e48\\u0e44\\u0e14\\u0e49\\u0e02\\u0e2d\\u0e17\\u0e32\\u0e19\\u0e1f\\u0e23\\u0e35\\u0e19\\u0e30\\u0e04\\u0e23\\u0e31\\u0e1a \\u201d\\n\\nJust enjoy it\\u2026!!!  Flamboyant and frank review by GB.\\n\\n\",\n          \"\\u0e23\\u0e49\\u0e32\\u0e19 Buttercup \\u0e23\\u0e49\\u0e32\\u0e19\\u0e01\\u0e32\\u0e41\\u0e1f\\u0e1a\\u0e23\\u0e23\\u0e22\\u0e32\\u0e01\\u0e32\\u0e28\\u0e14\\u0e35\\u0e21\\u0e32\\u0e01\\u0e46 \\u0e2d\\u0e22\\u0e39\\u0e48\\u0e43\\u0e19\\u0e0b\\u0e2d\\u0e22\\u0e28\\u0e39\\u0e19\\u0e22\\u0e4c\\u0e27\\u0e34\\u0e08\\u0e31\\u0e22 \\u0e0a\\u0e31\\u0e49\\u0e19\\u0e25\\u0e48\\u0e32\\u0e07\\u0e02\\u0e2d\\u0e07\\u0e42\\u0e23\\u0e07\\u0e41\\u0e23\\u0e21 Amari Residence \\u0e2a\\u0e32\\u0e21\\u0e32\\u0e23\\u0e16\\u0e08\\u0e2d\\u0e14\\u0e23\\u0e16\\u0e44\\u0e14\\u0e49\\u0e17\\u0e35\\u0e48\\u0e14\\u0e49\\u0e32\\u0e19\\u0e2b\\u0e19\\u0e49\\u0e32\\u0e2b\\u0e23\\u0e37\\u0e2d\\u0e40\\u0e02\\u0e49\\u0e32\\u0e21\\u0e32\\u0e08\\u0e2d\\u0e14\\u0e0a\\u0e31\\u0e49\\u0e19\\u0e08\\u0e2d\\u0e14\\u0e23\\u0e16\\u0e02\\u0e2d\\u0e07\\u0e42\\u0e23\\u0e07\\u0e41\\u0e23\\u0e21\\u0e01\\u0e47\\u0e44\\u0e14\\u0e49\\u0e40\\u0e25\\u0e22\\u0e04\\u0e48\\u0e30 \\u0e23\\u0e49\\u0e32\\u0e19\\u0e15\\u0e01\\u0e41\\u0e15\\u0e48\\u0e07\\u0e2a\\u0e27\\u0e22\\u0e21\\u0e32\\u0e01\\u0e2d\\u0e1a\\u0e2d\\u0e38\\u0e48\\u0e19\\u0e14\\u0e49\\u0e27\\u0e22\\u0e42\\u0e17\\u0e19\\u0e2a\\u0e35\\u0e40\\u0e2b\\u0e25\\u0e37\\u0e2d\\u0e07 \\u0e40\\u0e14\\u0e34\\u0e19\\u0e40\\u0e02\\u0e49\\u0e32\\u0e21\\u0e32\\u0e08\\u0e30\\u0e1e\\u0e1a\\u0e01\\u0e31\\u0e1a\\u0e40\\u0e04\\u0e32\\u0e17\\u0e4c\\u0e40\\u0e15\\u0e2d\\u0e23\\u0e4c\\u0e44\\u0e21\\u0e49\\u0e02\\u0e19\\u0e32\\u0e14\\u0e43\\u0e2b\\u0e0d\\u0e48 \\u0e21\\u0e35\\u0e15\\u0e39\\u0e49\\u0e40\\u0e04\\u0e49\\u0e01\\u0e08\\u0e23\\u0e07\\u0e40\\u0e04\\u0e32\\u0e23\\u0e4c\\u0e40\\u0e15\\u0e2d\\u0e23\\u0e4c\\u0e43\\u0e2b\\u0e49\\u0e40\\u0e25\\u0e37\\u0e2d\\u0e01\\u0e02\\u0e19\\u0e21\\u0e1b\\u0e31\\u0e07\\u0e41\\u0e25\\u0e30\\u0e40\\u0e04\\u0e49\\u0e01 \\u0e42\\u0e15\\u0e4a\\u0e30\\u0e17\\u0e35\\u0e48\\u0e19\\u0e31\\u0e48\\u0e07\\u0e20\\u0e32\\u0e22\\u0e43\\u0e19\\u0e23\\u0e49\\u0e32\\u0e19\\u0e08\\u0e30\\u0e40\\u0e1b\\u0e47\\u0e19\\u0e40\\u0e2b\\u0e21\\u0e37\\u0e2d\\u0e19\\u0e0a\\u0e38\\u0e14\\u0e42\\u0e0b\\u0e1f\\u0e32\\u0e23\\u0e31\\u0e1a\\u0e41\\u0e02\\u0e01\\u0e44\\u0e21\\u0e49\\u0e01\\u0e31\\u0e1a\\u0e1c\\u0e49\\u0e32\\u0e2a\\u0e35\\u0e40\\u0e2b\\u0e25\\u0e37\\u0e2d\\u0e07\\u0e2a\\u0e14\\u0e43\\u0e2a \\u0e01\\u0e32\\u0e23\\u0e08\\u0e31\\u0e14\\u0e27\\u0e32\\u0e07\\u0e42\\u0e15\\u0e4a\\u0e30\\u0e20\\u0e32\\u0e22\\u0e43\\u0e19\\u0e23\\u0e49\\u0e32\\u0e19\\u0e44\\u0e21\\u0e48\\u0e0a\\u0e34\\u0e14\\u0e01\\u0e31\\u0e19\\u0e21\\u0e32\\u0e01 \\u0e17\\u0e33\\u0e43\\u0e2b\\u0e49\\u0e44\\u0e21\\u0e48\\u0e23\\u0e39\\u0e49\\u0e2a\\u0e36\\u0e01\\u0e2d\\u0e36\\u0e14\\u0e2d\\u0e31\\u0e14 \\u0e2b\\u0e23\\u0e37\\u0e2d\\u0e08\\u0e30\\u0e40\\u0e25\\u0e37\\u0e2d\\u0e01\\u0e19\\u0e31\\u0e48\\u0e07\\u0e42\\u0e0b\\u0e19 outdoor \\u0e19\\u0e2d\\u0e01\\u0e23\\u0e49\\u0e32\\u0e19\\u0e0a\\u0e21\\u0e27\\u0e34\\u0e27\\u0e2a\\u0e27\\u0e19\\u0e01\\u0e47\\u0e44\\u0e14\\u0e49\\u0e1a\\u0e23\\u0e23\\u0e22\\u0e32\\u0e01\\u0e32\\u0e28\\u0e44\\u0e1b\\u0e2d\\u0e35\\u0e01\\u0e41\\u0e1a\\u0e1a\\u0e19\\u0e30\\u0e04\\u0e30 \\u0e1e\\u0e19\\u0e31\\u0e01\\u0e07\\u0e32\\u0e19\\u0e1a\\u0e1a\\u0e23\\u0e34\\u0e01\\u0e32\\u0e23\\u0e14\\u0e35\\u0e04\\u0e48\\u0e30\\u0e41\\u0e15\\u0e48\\u0e41\\u0e2d\\u0e23\\u0e4c\\u0e44\\u0e1b\\u0e2b\\u0e19\\u0e48\\u0e2d\\u0e22\"\n        ],\n        \"semantic_type\": \"\",\n        \"description\": \"\"\n      }\n    },\n    {\n      \"column\": \"column1\",\n      \"properties\": {\n        \"dtype\": \"number\",\n        \"std\": 0,\n        \"min\": 1,\n        \"max\": 5,\n        \"num_unique_values\": 5,\n        \"samples\": [\n          4,\n          2,\n          5\n        ],\n        \"semantic_type\": \"\",\n        \"description\": \"\"\n      }\n    }\n  ]\n}"
            }
          },
          "metadata": {},
          "execution_count": 35
        }
      ]
    },
    {
      "cell_type": "code",
      "source": [
        "coffee_reviews_df.shape"
      ],
      "metadata": {
        "colab": {
          "base_uri": "https://localhost:8080/"
        },
        "id": "Hz_819DlyP5C",
        "outputId": "eaeb1d2c-e7d8-48f1-ef14-81e7446575fe"
      },
      "execution_count": 36,
      "outputs": [
        {
          "output_type": "execute_result",
          "data": {
            "text/plain": [
              "(4981, 2)"
            ]
          },
          "metadata": {},
          "execution_count": 36
        }
      ]
    },
    {
      "cell_type": "code",
      "source": [
        "!curl -fsSL https://ollama.com/install.sh | sh"
      ],
      "metadata": {
        "colab": {
          "base_uri": "https://localhost:8080/"
        },
        "id": "FUBGksqjySU2",
        "outputId": "e3f630c3-8c52-4dc7-80bc-d9b64d2cb785"
      },
      "execution_count": 37,
      "outputs": [
        {
          "output_type": "stream",
          "name": "stdout",
          "text": [
            ">>> Cleaning up old version at /usr/local/lib/ollama\n",
            ">>> Installing ollama to /usr/local\n",
            ">>> Downloading Linux amd64 bundle\n",
            "######################################################################## 100.0%\n",
            ">>> Adding ollama user to video group...\n",
            ">>> Adding current user to ollama group...\n",
            ">>> Creating ollama systemd service...\n",
            "\u001b[1m\u001b[31mWARNING:\u001b[m systemd is not running\n",
            "\u001b[1m\u001b[31mWARNING:\u001b[m Unable to detect NVIDIA/AMD GPU. Install lspci or lshw to automatically detect and install GPU dependencies.\n",
            ">>> The Ollama API is now available at 127.0.0.1:11434.\n",
            ">>> Install complete. Run \"ollama\" from the command line.\n"
          ]
        }
      ]
    },
    {
      "cell_type": "code",
      "source": [
        "!nohup ollama serve &"
      ],
      "metadata": {
        "colab": {
          "base_uri": "https://localhost:8080/"
        },
        "id": "SflHC9icyT1Z",
        "outputId": "0cce7623-43c5-4bee-e4d3-d2958b3d0b53"
      },
      "execution_count": 38,
      "outputs": [
        {
          "output_type": "stream",
          "name": "stdout",
          "text": [
            "nohup: appending output to 'nohup.out'\n"
          ]
        }
      ]
    },
    {
      "cell_type": "code",
      "source": [
        "!ollama pull gemma3:270m"
      ],
      "metadata": {
        "colab": {
          "base_uri": "https://localhost:8080/"
        },
        "id": "7gEhS7V4ygIS",
        "outputId": "02ceca51-5cbf-45df-d16b-391d35dc2172"
      },
      "execution_count": 39,
      "outputs": [
        {
          "output_type": "stream",
          "name": "stdout",
          "text": [
            "\u001b[?2026h\u001b[?25l\u001b[1G\u001b[?25h\u001b[?2026l\u001b[?2026h\u001b[?25l\u001b[1G\u001b[?25h\u001b[?2026l\u001b[?2026h\u001b[?25l\u001b[1G\u001b[?25h\u001b[?2026l\u001b[?2026h\u001b[?25l\u001b[1G\u001b[?25h\u001b[?2026l\u001b[?2026h\u001b[?25l\u001b[1G\u001b[?25h\u001b[?2026l\u001b[?2026h\u001b[?25l\u001b[1G\u001b[?25h\u001b[?2026l\u001b[?2026h\u001b[?25l\u001b[1G\u001b[?25h\u001b[?2026l\u001b[?2026h\u001b[?25l\u001b[1G\u001b[?25h\u001b[?2026l\u001b[?2026h\u001b[?25l\u001b[1G\u001b[?25h\u001b[?2026l\u001b[?2026h\u001b[?25l\u001b[1G\u001b[?25h\u001b[?2026l\u001b[?2026h\u001b[?25l\u001b[A\u001b[1G\u001b[?25h\u001b[?2026l\u001b[?2026h\u001b[?25l\u001b[A\u001b[1G\u001b[?25h\u001b[?2026l\u001b[?2026h\u001b[?25l\u001b[A\u001b[1G\u001b[?25h\u001b[?2026l\u001b[?2026h\u001b[?25l\u001b[A\u001b[1G\u001b[?25h\u001b[?2026l\u001b[?2026h\u001b[?25l\u001b[A\u001b[1G\u001b[?25h\u001b[?2026l\u001b[?2026h\u001b[?25l\u001b[A\u001b[1G\u001b[?25h\u001b[?2026l\u001b[?2026h\u001b[?25l\u001b[A\u001b[1G\u001b[?25h\u001b[?2026l\u001b[?2026h\u001b[?25l\u001b[A\u001b[1G\u001b[?25h\u001b[?2026l\u001b[?2026h\u001b[?25l\u001b[A\u001b[1G\u001b[?25h\u001b[?2026l\u001b[?2026h\u001b[?25l\u001b[A\u001b[1G\u001b[?25h\u001b[?2026l\u001b[?2026h\u001b[?25l\u001b[A\u001b[1G\u001b[?25h\u001b[?2026l\u001b[?2026h\u001b[?25l\u001b[A\u001b[1G\u001b[?25h\u001b[?2026l\u001b[?2026h\u001b[?25l\u001b[A\u001b[1G\u001b[?25h\u001b[?2026l\u001b[?2026h\u001b[?25l\u001b[A\u001b[1G\u001b[?25h\u001b[?2026l\u001b[?2026h\u001b[?25l\u001b[A\u001b[1G\u001b[?25h\u001b[?2026l\u001b[?2026h\u001b[?25l\u001b[A\u001b[1G\u001b[?25h\u001b[?2026l\u001b[?2026h\u001b[?25l\u001b[A\u001b[1G\u001b[?25h\u001b[?2026l\u001b[?2026h\u001b[?25l\u001b[A\u001b[1G\u001b[?25h\u001b[?2026l\u001b[?2026h\u001b[?25l\u001b[A\u001b[1G\u001b[?25h\u001b[?2026l\u001b[?2026h\u001b[?25l\u001b[A\u001b[1G\u001b[?25h\u001b[?2026l\u001b[?2026h\u001b[?25l\u001b[A\u001b[1G\u001b[?25h\u001b[?2026l\u001b[?2026h\u001b[?25l\u001b[A\u001b[A\u001b[1G\u001b[?25h\u001b[?2026l\u001b[?2026h\u001b[?25l\u001b[A\u001b[A\u001b[1G\u001b[?25h\u001b[?2026l\u001b[?2026h\u001b[?25l\u001b[A\u001b[A\u001b[1G\u001b[?25h\u001b[?2026l\u001b[?2026h\u001b[?25l\u001b[A\u001b[A\u001b[1G\u001b[?25h\u001b[?2026l\u001b[?2026h\u001b[?25l\u001b[A\u001b[A\u001b[1G\u001b[?25h\u001b[?2026l\u001b[?2026h\u001b[?25l\u001b[A\u001b[A\u001b[1G\u001b[?25h\u001b[?2026l\u001b[?2026h\u001b[?25l\u001b[A\u001b[A\u001b[1G\u001b[?25h\u001b[?2026l\u001b[?2026h\u001b[?25l\u001b[A\u001b[A\u001b[1G\u001b[?25h\u001b[?2026l\u001b[?2026h\u001b[?25l\u001b[A\u001b[A\u001b[1G\u001b[?25h\u001b[?2026l\u001b[?2026h\u001b[?25l\u001b[A\u001b[A\u001b[1G\u001b[?25h\u001b[?2026l\u001b[?2026h\u001b[?25l\u001b[A\u001b[A\u001b[1G\u001b[?25h\u001b[?2026l\u001b[?2026h\u001b[?25l\u001b[A\u001b[A\u001b[1G\u001b[?25h\u001b[?2026l\u001b[?2026h\u001b[?25l\u001b[A\u001b[A\u001b[A\u001b[1G\u001b[?25h\u001b[?2026l\u001b[?2026h\u001b[?25l\u001b[A\u001b[A\u001b[A\u001b[1G\u001b[?25h\u001b[?2026l\u001b[?2026h\u001b[?25l\u001b[A\u001b[A\u001b[A\u001b[1G\u001b[?25h\u001b[?2026l\u001b[?2026h\u001b[?25l\u001b[A\u001b[A\u001b[A\u001b[1G\u001b[?25h\u001b[?2026l\u001b[?2026h\u001b[?25l\u001b[A\u001b[A\u001b[A\u001b[1G\u001b[?25h\u001b[?2026l\u001b[?2026h\u001b[?25l\u001b[A\u001b[A\u001b[A\u001b[1G\u001b[?25h\u001b[?2026l\u001b[?2026h\u001b[?25l\u001b[A\u001b[A\u001b[A\u001b[1G\u001b[?25h\u001b[?2026l\u001b[?2026h\u001b[?25l\u001b[A\u001b[A\u001b[A\u001b[1G\u001b[?25h\u001b[?2026l\u001b[?2026h\u001b[?25l\u001b[A\u001b[A\u001b[A\u001b[1G\u001b[?25h\u001b[?2026l\u001b[?2026h\u001b[?25l\u001b[A\u001b[A\u001b[A\u001b[1G\u001b[?25h\u001b[?2026l\u001b[?2026h\u001b[?25l\u001b[A\u001b[A\u001b[A\u001b[1G\u001b[?25h\u001b[?2026l\u001b[?2026h\u001b[?25l\u001b[A\u001b[A\u001b[A\u001b[1G\u001b[?25h\u001b[?2026l\u001b[?2026h\u001b[?25l\u001b[A\u001b[A\u001b[A\u001b[1G\u001b[?25h\u001b[?2026l\u001b[?2026h\u001b[?25l\u001b[A\u001b[A\u001b[A\u001b[A\u001b[1G\u001b[?25h\u001b[?2026l\u001b[?2026h\u001b[?25l\u001b[A\u001b[A\u001b[A\u001b[A\u001b[1G\u001b[?25h\u001b[?2026l\u001b[?2026h\u001b[?25l\u001b[A\u001b[A\u001b[A\u001b[A\u001b[1G\u001b[?25h\u001b[?2026l\u001b[?2026h\u001b[?25l\u001b[A\u001b[A\u001b[A\u001b[A\u001b[1G\u001b[?25h\u001b[?2026l\u001b[?2026h\u001b[?25l\u001b[A\u001b[A\u001b[A\u001b[A\u001b[1G\u001b[?25h\u001b[?2026l\u001b[?2026h\u001b[?25l\u001b[A\u001b[A\u001b[A\u001b[A\u001b[1G\u001b[?25h\u001b[?2026l\u001b[?2026h\u001b[?25l\u001b[A\u001b[A\u001b[A\u001b[A\u001b[1G\u001b[?25h\u001b[?2026l\u001b[?2026h\u001b[?25l\u001b[A\u001b[A\u001b[A\u001b[A\u001b[1G\u001b[?25h\u001b[?2026l\u001b[?2026h\u001b[?25l\u001b[A\u001b[A\u001b[A\u001b[A\u001b[1G\u001b[?25h\u001b[?2026l\u001b[?2026h\u001b[?25l\u001b[A\u001b[A\u001b[A\u001b[A\u001b[1G\u001b[?25h\u001b[?2026l\u001b[?2026h\u001b[?25l\u001b[A\u001b[A\u001b[A\u001b[A\u001b[1G\u001b[?25h\u001b[?2026l\u001b[?2026h\u001b[?25l\u001b[A\u001b[A\u001b[A\u001b[A\u001b[1G\u001b[?25h\u001b[?2026l\u001b[?2026h\u001b[?25l\u001b[A\u001b[A\u001b[A\u001b[A\u001b[A\u001b[1G\u001b[?25h\u001b[?2026l\u001b[?2026h\u001b[?25l\u001b[A\u001b[A\u001b[A\u001b[A\u001b[A\u001b[1G\u001b[?25h\u001b[?2026l\u001b[?2026h\u001b[?25l\u001b[A\u001b[A\u001b[A\u001b[A\u001b[A\u001b[1G\u001b[?25h\u001b[?2026l\u001b[?2026h\u001b[?25l\u001b[A\u001b[A\u001b[A\u001b[A\u001b[A\u001b[1G\u001b[?25h\u001b[?2026l\u001b[?2026h\u001b[?25l\u001b[A\u001b[A\u001b[A\u001b[A\u001b[A\u001b[1G\u001b[?25h\u001b[?2026l\u001b[?2026h\u001b[?25l\u001b[A\u001b[A\u001b[A\u001b[A\u001b[A\u001b[1G\u001b[?25h\u001b[?2026l\u001b[?2026h\u001b[?25l\u001b[A\u001b[A\u001b[A\u001b[A\u001b[A\u001b[1G\u001b[?25h\u001b[?2026l\u001b[?2026h\u001b[?25l\u001b[A\u001b[A\u001b[A\u001b[A\u001b[A\u001b[1G\u001b[?25h\u001b[?2026l\u001b[?2026h\u001b[?25l\u001b[A\u001b[A\u001b[A\u001b[A\u001b[A\u001b[1G\u001b[?25h\u001b[?2026l\u001b[?2026h\u001b[?25l\u001b[A\u001b[A\u001b[A\u001b[A\u001b[A\u001b[A\u001b[1G\u001b[?25h\u001b[?2026l\u001b[?2026h\u001b[?25l\u001b[A\u001b[A\u001b[A\u001b[A\u001b[A\u001b[A\u001b[1G\u001b[?25h\u001b[?2026l\u001b[?2026h\u001b[?25l\u001b[A\u001b[A\u001b[A\u001b[A\u001b[A\u001b[A\u001b[1G\u001b[?25h\u001b[?2026l\u001b[?2026h\u001b[?25l\u001b[A\u001b[A\u001b[A\u001b[A\u001b[A\u001b[A\u001b[1G\u001b[?25h\u001b[?2026l\u001b[?2026h\u001b[?25l\u001b[A\u001b[A\u001b[A\u001b[A\u001b[A\u001b[A\u001b[1G\u001b[?25h\u001b[?2026l\u001b[?2026h\u001b[?25l\u001b[A\u001b[A\u001b[A\u001b[A\u001b[A\u001b[A\u001b[1G\u001b[?25h\u001b[?2026l\u001b[?2026h\u001b[?25l\u001b[A\u001b[A\u001b[A\u001b[A\u001b[A\u001b[A\u001b[1G\u001b[?25h\u001b[?2026l\u001b[?2026h\u001b[?25l\u001b[A\u001b[A\u001b[A\u001b[A\u001b[A\u001b[A\u001b[1G\u001b[?25h\u001b[?2026l\u001b[?2026h\u001b[?25l\u001b[A\u001b[A\u001b[A\u001b[A\u001b[A\u001b[A\u001b[1G\u001b[?25h\u001b[?2026l\u001b[?2026h\u001b[?25l\u001b[A\u001b[A\u001b[A\u001b[A\u001b[A\u001b[A\u001b[1G\u001b[?25h\u001b[?2026l\u001b[?2026h\u001b[?25l\u001b[A\u001b[A\u001b[A\u001b[A\u001b[A\u001b[A\u001b[1G\u001b[?25h\u001b[?2026l\u001b[?2026h\u001b[?25l\u001b[A\u001b[A\u001b[A\u001b[A\u001b[A\u001b[A\u001b[1G\u001b[?25h\u001b[?2026l\u001b[?2026h\u001b[?25l\u001b[A\u001b[A\u001b[A\u001b[A\u001b[A\u001b[A\u001b[1G\u001b[?25h\u001b[?2026l\u001b[?2026h\u001b[?25l\u001b[A\u001b[A\u001b[A\u001b[A\u001b[A\u001b[A\u001b[1G\u001b[?25h\u001b[?2026l\u001b[?2026h\u001b[?25l\u001b[A\u001b[A\u001b[A\u001b[A\u001b[A\u001b[A\u001b[1G\u001b[?25h\u001b[?2026l\n"
          ]
        }
      ]
    },
    {
      "cell_type": "code",
      "source": [
        "!ollama list"
      ],
      "metadata": {
        "colab": {
          "base_uri": "https://localhost:8080/"
        },
        "id": "DS48m9usyly2",
        "outputId": "45548f42-6177-49a4-e15a-77d5dbdd2224"
      },
      "execution_count": 40,
      "outputs": [
        {
          "output_type": "stream",
          "name": "stdout",
          "text": [
            "NAME           ID              SIZE      MODIFIED               \n",
            "gemma3:270m    e7d36fb2c3b3    291 MB    Less than a second ago    \n"
          ]
        }
      ]
    },
    {
      "cell_type": "code",
      "source": [
        "!ollama run gemma3:270m \"สวัสดี\""
      ],
      "metadata": {
        "colab": {
          "base_uri": "https://localhost:8080/"
        },
        "id": "D2SHt9Xxypya",
        "outputId": "7b43ccca-b3a9-4c7a-83c5-f263eca3eb93"
      },
      "execution_count": 41,
      "outputs": [
        {
          "output_type": "stream",
          "name": "stdout",
          "text": [
            "\u001b[?2026h\u001b[?25l\u001b[1G\u001b[?25h\u001b[?2026l\u001b[?2026h\u001b[?25l\u001b[1G\u001b[?25h\u001b[?2026l\u001b[?2026h\u001b[?25l\u001b[1G\u001b[?25h\u001b[?2026l\u001b[?2026h\u001b[?25l\u001b[1G\u001b[?25h\u001b[?2026l\u001b[?2026h\u001b[?25l\u001b[1G\u001b[?25h\u001b[?2026l\u001b[?2026h\u001b[?25l\u001b[1G\u001b[?25h\u001b[?2026l\u001b[?2026h\u001b[?25l\u001b[1G\u001b[?25h\u001b[?2026l\u001b[?2026h\u001b[?25l\u001b[1G\u001b[?25h\u001b[?2026l\u001b[?2026h\u001b[?25l\u001b[1G\u001b[?25h\u001b[?2026l\u001b[?2026h\u001b[?25l\u001b[1G\u001b[?25h\u001b[?2026l\u001b[?2026h\u001b[?25l\u001b[1G\u001b[?25h\u001b[?2026l\u001b[?2026h\u001b[?25l\u001b[1G\u001b[?25h\u001b[?2026l\u001b[?25l\u001b[?2026h\u001b[?25l\u001b[1G\u001b[?25h\u001b[?2026l\u001b[2K\u001b[1G\u001b[?25hสวัสดี\u001b[?25l\u001b[?25hค่ะ\u001b[?25l\u001b[?25h ย\u001b[?25l\u001b[?25hิน\u001b[?25l\u001b[?25hดี\u001b[?25l\u001b[?25hที่\u001b[?25l\u001b[?25hได้\u001b[?25l\u001b[?25hรู้จัก\u001b[?25l\u001b[?25hนะคะ\u001b[?25l\u001b[?25h 😊\u001b[?25l\u001b[?25h\n",
            "\u001b[?25l\u001b[?25h\n",
            "\n",
            "\u001b[?25l\u001b[?25h"
          ]
        }
      ]
    },
    {
      "cell_type": "code",
      "source": [
        "!curl -s http://127.0.0.1:11434/api/tags"
      ],
      "metadata": {
        "colab": {
          "base_uri": "https://localhost:8080/"
        },
        "id": "KB4ArqC3ys7B",
        "outputId": "55fa9ab7-2455-43df-840f-8bc0b8d08388"
      },
      "execution_count": 42,
      "outputs": [
        {
          "output_type": "stream",
          "name": "stdout",
          "text": [
            "{\"models\":[{\"name\":\"gemma3:270m\",\"model\":\"gemma3:270m\",\"modified_at\":\"2025-10-20T08:13:26.201635481Z\",\"size\":291554930,\"digest\":\"e7d36fb2c3b3293cfe56d55889867a064b3a2b22e98335f2e6e8a387e081d6be\",\"details\":{\"parent_model\":\"\",\"format\":\"gguf\",\"family\":\"gemma3\",\"families\":[\"gemma3\"],\"parameter_size\":\"268.10M\",\"quantization_level\":\"Q8_0\"}}]}"
          ]
        }
      ]
    },
    {
      "cell_type": "code",
      "source": [
        "from langchain_ollama import OllamaLLM\n",
        "from langchain_core.prompts import PromptTemplate\n",
        "from langchain_core.output_parsers import StrOutputParser"
      ],
      "metadata": {
        "id": "YxoyAOOjyxIW"
      },
      "execution_count": 43,
      "outputs": []
    },
    {
      "cell_type": "code",
      "source": [
        "llm = OllamaLLM(model=\"gemma3:270m\")"
      ],
      "metadata": {
        "id": "ovbU2Fg2yyzO"
      },
      "execution_count": 44,
      "outputs": []
    },
    {
      "cell_type": "code",
      "source": [
        "response = llm.invoke(\"สวัสดี\")\n",
        "print(response)"
      ],
      "metadata": {
        "colab": {
          "base_uri": "https://localhost:8080/"
        },
        "id": "JwzdbekIy2g7",
        "outputId": "429246ec-3568-4356-abb5-7606b97304e6"
      },
      "execution_count": 45,
      "outputs": [
        {
          "output_type": "stream",
          "name": "stdout",
          "text": [
            "สวัสดีค่ะ ยินดีที่ได้รู้จักนะคะ 😊\n",
            "\n"
          ]
        }
      ]
    },
    {
      "cell_type": "code",
      "source": [
        "template = \"\"\"\n",
        "คุณเป็นครูสอน Python\n",
        "คำถาม : {question}\n",
        "\"\"\""
      ],
      "metadata": {
        "id": "nsdFq6xQy3B7"
      },
      "execution_count": 46,
      "outputs": []
    },
    {
      "cell_type": "code",
      "source": [
        "prompt = PromptTemplate(\n",
        "    input_variables=[\"question\"],\n",
        "    template=template\n",
        ")"
      ],
      "metadata": {
        "id": "353XdKd0y6mP"
      },
      "execution_count": 47,
      "outputs": []
    },
    {
      "cell_type": "code",
      "source": [
        "formatted_prompt = prompt.format(question=\"เขียนโค้ดหาผลรวมของตัวเลข 1 ถึง 10\")\n",
        "print(formatted_prompt)"
      ],
      "metadata": {
        "colab": {
          "base_uri": "https://localhost:8080/"
        },
        "id": "Mmi-uoxAy8JT",
        "outputId": "b719e9de-eca3-467a-be8f-7c860ef8641e"
      },
      "execution_count": 48,
      "outputs": [
        {
          "output_type": "stream",
          "name": "stdout",
          "text": [
            "\n",
            "คุณเป็นครูสอน Python\n",
            "คำถาม : เขียนโค้ดหาผลรวมของตัวเลข 1 ถึง 10\n",
            "\n"
          ]
        }
      ]
    },
    {
      "cell_type": "code",
      "source": [
        "chain = prompt | llm"
      ],
      "metadata": {
        "id": "11ob9UX2y9n2"
      },
      "execution_count": 49,
      "outputs": []
    },
    {
      "cell_type": "code",
      "source": [
        "response = chain.invoke({\"question\": \"เขียนโค้ดหาผลรวมของตัวเลข 1 ถึง 10\"})"
      ],
      "metadata": {
        "id": "wMn_JqXuy_aT"
      },
      "execution_count": 50,
      "outputs": []
    },
    {
      "cell_type": "code",
      "source": [
        "response"
      ],
      "metadata": {
        "colab": {
          "base_uri": "https://localhost:8080/",
          "height": 123
        },
        "id": "-ApFVa9HzA6q",
        "outputId": "3cc6ae73-2b17-416c-bbd0-3d2b3fe1225f"
      },
      "execution_count": 51,
      "outputs": [
        {
          "output_type": "execute_result",
          "data": {
            "text/plain": [
              "'```python\\ndef find_sum(numbers):\\n    \"\"\"\\n    หาผลรวมของตัวเลข 1 ถึง 10\\n    \"\"\"\\n    total = 0\\n    for number in numbers:\\n        total += number\\n    return total\\n\\n# ตัวอย่างการใช้งาน\\nnumbers = [1, 2, 3, 4, 5, 6, 7, 8, 9, 10]\\nsum_of_numbers = find_sum(numbers)\\nprint(sum_of_numbers)\\n```\\n\\n**คำอธิบายโค้ด:**\\n\\n1.  **`def find_sum(numbers):`**:  กำหนดชื่อฟังก์ชัน `find_sum` ที่จะทำงาน ซึ่งจะ return value จะเป็นค่าที่เก็บผลรวมของตัวเลข 1 ถึง 10\\n2.  **`total = 0`**: Initialize counter `total` to 0. This variable will store the sum of the numbers we\\'re looking for.\\n3.  **`for number in numbers:`**:  Iterate through each number in the `numbers` list.\\n4.  **`total += number`**:  Add the current `number` to the `total` variable. This is equivalent to `total = total + number`.\\n5.  **`return total`**:  After iterating through all the numbers, return the final `total`, which represents the sum of all the numbers.\\n\\n**การใช้งานโค้ด:**\\n\\n1.  **`numbers = [1, 2, 3, 4, 5, 6, 7, 8, 9, 10]`**:  สร้าง list ของตัวเลขที่ต้องการหาผลรวม\\n2.  **`sum_of_numbers = find_sum(numbers)`**:  เรียกใช้ฟังก์ชัน `find_sum` เพื่อหาผลรวมของตัวเลขใน list\\n3.  **`print(sum_of_numbers)`**:  แสดงผลลัพธ์ของฟังก์ชัน\\n\\n**ข้อดีของโค้ดนี้:**\\n\\n*   **อ่านง่าย:**  โค้ดนี้เป็นภาษา Python ที่เข้าใจง่าย ทำให้ง่ายต่อการอ่านและใช้งาน\\n*   **ใช้ `for` loop:**  ใช้ loop `for` ที่เป็นมาตรฐานใน Python ทำให้การคำนวณเป็นไปอย่างมีประสิทธิภาพ\\n*   **มีประสิทธิภาพ:**  การคำนวณผลรวมของตัวเลขเป็นไปอย่างมีประสิทธิภาพ\\n*   **สามารถปรับแต่งได้:**  คุณสามารถปรับแต่งฟังก์ชัน `find_sum` ได้โดยการเพิ่มหรือลดค่า `total`  เพื่อให้ได้ผลลัพธ์ที่ตรงกับความต้องการ\\n\\n**ตัวอย่างการปรับแก้:**\\n\\n*   **เพิ่มค่า `total`:**  ถ้าคุณต้องการหาผลรวมของตัวเลขที่ 1 ถึง 10  โดยประมาณ  `total = 10 + 3`  จะทำให้ได้ผลลัพธ์ที่ถูกต้อง\\n*   **เพิ่มค่า `total`:**  ถ้าคุณต้องการหาผลรวมของตัวเลข 1 ถึง 10  โดยประมาณ  `total = 10 + 3`  จะทำให้ได้ผลลัพธ์ที่ถูกต้อง\\n*   **เพิ่มค่า `total`:**  ถ้าคุณต้องการหาผลรวมของตัวเลข 1 ถึง 10  โดยประมาณ  `total = 10 + 3`  จะทำให้ได้ผลลัพธ์ที่ถูกต้อง\\n'"
            ],
            "application/vnd.google.colaboratory.intrinsic+json": {
              "type": "string"
            }
          },
          "metadata": {},
          "execution_count": 51
        }
      ]
    },
    {
      "cell_type": "code",
      "source": [
        "from IPython.display import display, Markdown"
      ],
      "metadata": {
        "id": "Pg9dBpyQzChL"
      },
      "execution_count": 52,
      "outputs": []
    },
    {
      "cell_type": "code",
      "source": [
        "display(Markdown(response))"
      ],
      "metadata": {
        "colab": {
          "base_uri": "https://localhost:8080/",
          "height": 658
        },
        "id": "gOe6Hw24zE5U",
        "outputId": "fac67349-d80e-4f7a-c2e6-341362589c2a"
      },
      "execution_count": 53,
      "outputs": [
        {
          "output_type": "display_data",
          "data": {
            "text/plain": [
              "<IPython.core.display.Markdown object>"
            ],
            "text/markdown": "```python\ndef find_sum(numbers):\n    \"\"\"\n    หาผลรวมของตัวเลข 1 ถึง 10\n    \"\"\"\n    total = 0\n    for number in numbers:\n        total += number\n    return total\n\n# ตัวอย่างการใช้งาน\nnumbers = [1, 2, 3, 4, 5, 6, 7, 8, 9, 10]\nsum_of_numbers = find_sum(numbers)\nprint(sum_of_numbers)\n```\n\n**คำอธิบายโค้ด:**\n\n1.  **`def find_sum(numbers):`**:  กำหนดชื่อฟังก์ชัน `find_sum` ที่จะทำงาน ซึ่งจะ return value จะเป็นค่าที่เก็บผลรวมของตัวเลข 1 ถึง 10\n2.  **`total = 0`**: Initialize counter `total` to 0. This variable will store the sum of the numbers we're looking for.\n3.  **`for number in numbers:`**:  Iterate through each number in the `numbers` list.\n4.  **`total += number`**:  Add the current `number` to the `total` variable. This is equivalent to `total = total + number`.\n5.  **`return total`**:  After iterating through all the numbers, return the final `total`, which represents the sum of all the numbers.\n\n**การใช้งานโค้ด:**\n\n1.  **`numbers = [1, 2, 3, 4, 5, 6, 7, 8, 9, 10]`**:  สร้าง list ของตัวเลขที่ต้องการหาผลรวม\n2.  **`sum_of_numbers = find_sum(numbers)`**:  เรียกใช้ฟังก์ชัน `find_sum` เพื่อหาผลรวมของตัวเลขใน list\n3.  **`print(sum_of_numbers)`**:  แสดงผลลัพธ์ของฟังก์ชัน\n\n**ข้อดีของโค้ดนี้:**\n\n*   **อ่านง่าย:**  โค้ดนี้เป็นภาษา Python ที่เข้าใจง่าย ทำให้ง่ายต่อการอ่านและใช้งาน\n*   **ใช้ `for` loop:**  ใช้ loop `for` ที่เป็นมาตรฐานใน Python ทำให้การคำนวณเป็นไปอย่างมีประสิทธิภาพ\n*   **มีประสิทธิภาพ:**  การคำนวณผลรวมของตัวเลขเป็นไปอย่างมีประสิทธิภาพ\n*   **สามารถปรับแต่งได้:**  คุณสามารถปรับแต่งฟังก์ชัน `find_sum` ได้โดยการเพิ่มหรือลดค่า `total`  เพื่อให้ได้ผลลัพธ์ที่ตรงกับความต้องการ\n\n**ตัวอย่างการปรับแก้:**\n\n*   **เพิ่มค่า `total`:**  ถ้าคุณต้องการหาผลรวมของตัวเลขที่ 1 ถึง 10  โดยประมาณ  `total = 10 + 3`  จะทำให้ได้ผลลัพธ์ที่ถูกต้อง\n*   **เพิ่มค่า `total`:**  ถ้าคุณต้องการหาผลรวมของตัวเลข 1 ถึง 10  โดยประมาณ  `total = 10 + 3`  จะทำให้ได้ผลลัพธ์ที่ถูกต้อง\n*   **เพิ่มค่า `total`:**  ถ้าคุณต้องการหาผลรวมของตัวเลข 1 ถึง 10  โดยประมาณ  `total = 10 + 3`  จะทำให้ได้ผลลัพธ์ที่ถูกต้อง\n"
          },
          "metadata": {}
        }
      ]
    },
    {
      "cell_type": "code",
      "source": [
        "prompt1 = PromptTemplate(\n",
        "    template=\"แปลโจทย์เกี่ยวกับ {question}\"\n",
        ")\n",
        "\n",
        "chain1 = prompt1 | llm"
      ],
      "metadata": {
        "id": "65mzZEVdzGHn"
      },
      "execution_count": 54,
      "outputs": []
    },
    {
      "cell_type": "code",
      "source": [
        "prompt2 = PromptTemplate(\n",
        "    template=\"ทำความเข้าใจโจทย์ที่แปลแล้วต่อไปนี้ {translate}\"\n",
        ")\n",
        "\n",
        "chain2 = prompt2 | llm"
      ],
      "metadata": {
        "id": "wNN3HHpkzIJt"
      },
      "execution_count": 55,
      "outputs": []
    },
    {
      "cell_type": "code",
      "source": [
        "prompt3 = PromptTemplate(\n",
        "    template=\"แก้โจทย์ตามที่เข้าใจต่อไปนี้ {understand}\"\n",
        ")\n",
        "\n",
        "chain3 = prompt3 | llm"
      ],
      "metadata": {
        "id": "uSAFo362zOYy"
      },
      "execution_count": 56,
      "outputs": []
    },
    {
      "cell_type": "code",
      "source": [
        "prompt4 = PromptTemplate(\n",
        "    template=\"อธิบายวิธิีทำจากผลลัทธ์ต่อไปนี้ {solve}\"\n",
        ")\n",
        "\n",
        "chain4 = prompt4 | llm"
      ],
      "metadata": {
        "id": "tGHfEHUvzPtI"
      },
      "execution_count": 57,
      "outputs": []
    },
    {
      "cell_type": "code",
      "source": [
        "parser_chain = StrOutputParser()"
      ],
      "metadata": {
        "id": "esyX17S5zQ4W"
      },
      "execution_count": 58,
      "outputs": []
    },
    {
      "cell_type": "code",
      "source": [
        "full_chain = chain1 | chain2 | chain3 | chain4 | parser_chain"
      ],
      "metadata": {
        "id": "2-7xHj6EzSyg"
      },
      "execution_count": 59,
      "outputs": []
    },
    {
      "cell_type": "code",
      "source": [
        "result = full_chain.invoke({\"question\":\"2x + 5 = 15\"})"
      ],
      "metadata": {
        "id": "BenA-lDZzUC0"
      },
      "execution_count": 60,
      "outputs": []
    },
    {
      "cell_type": "code",
      "source": [
        "result"
      ],
      "metadata": {
        "colab": {
          "base_uri": "https://localhost:8080/",
          "height": 36
        },
        "id": "cqZzzjj4zVUG",
        "outputId": "efc4b084-b945-41a7-fc51-4735bc407644"
      },
      "execution_count": 61,
      "outputs": [
        {
          "output_type": "execute_result",
          "data": {
            "text/plain": [
              "'แน่นอนครับ! ผมเข้าใจโจทย์ได้ถูกต้องแล้วครับ โดยเฉพาะอย่างยิ่งในบริบทของผลลัทธ์ครับ'"
            ],
            "application/vnd.google.colaboratory.intrinsic+json": {
              "type": "string"
            }
          },
          "metadata": {},
          "execution_count": 61
        }
      ]
    },
    {
      "cell_type": "code",
      "source": [
        "prompt_template = \"\"\"\n",
        "[1. Role/Context บอก LLM ว่าควรทำตัวเป็นอะไร]\n",
        "คุณเป็น AI ที่เชี่ยวชาญในการวิเคราะห์รีวิวภาษาไทย\n",
        "\n",
        "[2. Task Description บอกงานที่ต้องทำ]\n",
        "จาก Review ต่อไปนี้ ให้ Extract 3 keywords\n",
        "ที่เป็นตัวแทนของ Review นี้ได้ดีที่สุด\n",
        "\n",
        "[3. Input Data ข้อมูลที่ต้องประมวลผล]\n",
        "Review: {review}\n",
        "\n",
        "[4. Output Format บอกรูปแบบของคำตอบ]\n",
        "ตอบในรูปแบบ JSON โดยมีคีย์เป็น 'keywords'\n",
        "เช่น {{\"keywords\": \"กาแฟ, บรรยากาศ, ราคา\"}\n",
        "\n",
        "[5. Constraints ข้อจำกัดหรือเงื่อนไข]\n",
        "- ต้องเป็นคำภาษาไทย\n",
        "- คั่นด้วย comma\n",
        "- หากไม่พบให้ตอบ 'ไม่ระบุ'\n",
        "\n",
        "[6. Examples (optional) ตัวอย่าง input/output]\n",
        "ตัวอย่าง\n",
        "Input: \"กาแฟอร่อย บรรยากาศดี ราคาแพง\"\n",
        "Output: {\"keywords\": \"กาแฟ, บรรยากาศ, ราคา\"}\n",
        "\"\"\""
      ],
      "metadata": {
        "id": "M4KGXnhFz1P3"
      },
      "execution_count": 62,
      "outputs": []
    },
    {
      "cell_type": "code",
      "source": [
        "prompt = \"\"\"\n",
        "Extract keywords from this review\n",
        "{review}\n",
        "\"\"\"\n",
        "\n",
        "# Pros Simple, fast\n",
        "# Cons อาจได้ผลไม่ดีกับ Tasks ซับซ้อน"
      ],
      "metadata": {
        "id": "LslHEnun5LiP"
      },
      "execution_count": 63,
      "outputs": []
    },
    {
      "cell_type": "code",
      "source": [
        "prompt = \"\"\"\n",
        "Extract keywords from reviews.\n",
        "\n",
        "Example 1\n",
        "Review: \"กาแฟอร่อย บริการดี\"\n",
        "Keywords: กาแฟ, บริการ\n",
        "\n",
        "Example 2\n",
        "Review: \"ราคาแพง แต่คุ้มค่า\"\n",
        "Keywords: ราคา, คุณภาพ\n",
        "\n",
        "Now extract from this review\n",
        "Review: {review}\n",
        "Keywords:\n",
        "\"\"\"\n",
        "\n",
        "# Pros ได้ผลดีกว่า Zero-shot\n",
        "# Cons Prompt ใช้ Tokens มากขึ้น"
      ],
      "metadata": {
        "id": "iMoMudd_5NNa"
      },
      "execution_count": 64,
      "outputs": []
    },
    {
      "cell_type": "code",
      "source": [
        "prompt = \"\"\"\n",
        "Review: {review}\n",
        "\n",
        "ขั้นตอนการ Extract keywords\n",
        "1. อ่านรีวิวและเข้าใจความหมาย\n",
        "2. ระบุหัวข้อหลักที่กล่าวถึง\n",
        "3. เลือก 3 keywords ที่สำคัญที่สุด\n",
        "4. ตอบในรูปแบบ JSON: {{\"keywords\": \"คำ1, คำ2, คำ3\"}}\n",
        "\n",
        "ให้ทำทีละขั้นตอน\n",
        "\"\"\"\n",
        "\n",
        "# Pros ได้ผลดีกับ Reasoning tasks\n",
        "# Cons ใช้ Tokens มากกว่า ช้ากว่า"
      ],
      "metadata": {
        "id": "EpJwzplv5PO3"
      },
      "execution_count": 65,
      "outputs": []
    },
    {
      "cell_type": "code",
      "source": [
        "keyword_prompt = PromptTemplate(\n",
        "template = \"\"\"\n",
        "จาก Review ต่อไปนี้\n",
        "Extract 3 keywords ที่เป็นตัวแทนของ Review นี้\n",
        "\n",
        "Review: {review}\n",
        "\n",
        "ขั้นตอนการ Extract keywords\n",
        "1. อ่านรีวิวและเข้าใจความหมาย\n",
        "2. ระบุหัวข้อหลักที่กล่าวถึง\n",
        "3. เลือก 3 keywords ที่สำคัญที่สุด\n",
        "4. ตอบในรูปแบบ JSON: {{\"keywords\": \"คำ1, คำ2, คำ3\"}}\n",
        "\n",
        "ให้ทำทีละขั้นตอน\n",
        "\"\"\")"
      ],
      "metadata": {
        "id": "pfW8in_k5Qth"
      },
      "execution_count": 66,
      "outputs": []
    },
    {
      "cell_type": "code",
      "source": [
        "sample_reviews = coffee_reviews_df['column0'].head(2)\n",
        "sample_reviews"
      ],
      "metadata": {
        "colab": {
          "base_uri": "https://localhost:8080/",
          "height": 147
        },
        "id": "-d59kCHq5Ski",
        "outputId": "ba9c5669-4e07-44b7-98d9-79300ebb4da2"
      },
      "execution_count": 67,
      "outputs": [
        {
          "output_type": "execute_result",
          "data": {
            "text/plain": [
              "0    ร้านอาหารใหญ่มากกกกกกก \\nเลี้ยวเข้ามาเจอห้องน้...\n",
              "1    วันนี้ได้มีโอกาสไปนั่งซดกาแฟที่ร้านวาวี แถวๆอา...\n",
              "Name: column0, dtype: object"
            ],
            "text/html": [
              "<div>\n",
              "<style scoped>\n",
              "    .dataframe tbody tr th:only-of-type {\n",
              "        vertical-align: middle;\n",
              "    }\n",
              "\n",
              "    .dataframe tbody tr th {\n",
              "        vertical-align: top;\n",
              "    }\n",
              "\n",
              "    .dataframe thead th {\n",
              "        text-align: right;\n",
              "    }\n",
              "</style>\n",
              "<table border=\"1\" class=\"dataframe\">\n",
              "  <thead>\n",
              "    <tr style=\"text-align: right;\">\n",
              "      <th></th>\n",
              "      <th>column0</th>\n",
              "    </tr>\n",
              "  </thead>\n",
              "  <tbody>\n",
              "    <tr>\n",
              "      <th>0</th>\n",
              "      <td>ร้านอาหารใหญ่มากกกกกกก \\nเลี้ยวเข้ามาเจอห้องน้...</td>\n",
              "    </tr>\n",
              "    <tr>\n",
              "      <th>1</th>\n",
              "      <td>วันนี้ได้มีโอกาสไปนั่งซดกาแฟที่ร้านวาวี แถวๆอา...</td>\n",
              "    </tr>\n",
              "  </tbody>\n",
              "</table>\n",
              "</div><br><label><b>dtype:</b> object</label>"
            ]
          },
          "metadata": {},
          "execution_count": 67
        }
      ]
    },
    {
      "cell_type": "code",
      "source": [
        "sample_reviews.to_csv('/content/sample_reviews.csv', index=False)"
      ],
      "metadata": {
        "id": "ri63wvLn5T5g"
      },
      "execution_count": 68,
      "outputs": []
    },
    {
      "cell_type": "code",
      "source": [
        "keyword_extract = keyword_prompt | llm | StrOutputParser()"
      ],
      "metadata": {
        "id": "sNUxf7cN5VPA"
      },
      "execution_count": 69,
      "outputs": []
    },
    {
      "cell_type": "code",
      "source": [
        "%%time\n",
        "results = []\n",
        "for review in sample_reviews:\n",
        "    text = keyword_extract.invoke({\"review\": review})\n",
        "    cleaned = (text).replace(\"**\", \"\").strip()\n",
        "    results.append({\"review\": review, \"text\": cleaned})"
      ],
      "metadata": {
        "colab": {
          "base_uri": "https://localhost:8080/"
        },
        "id": "131s62Nh5Wy2",
        "outputId": "18c5650d-8fee-4b0d-e540-fd3e75e9aa4b"
      },
      "execution_count": 70,
      "outputs": [
        {
          "output_type": "stream",
          "name": "stdout",
          "text": [
            "CPU times: user 74.7 ms, sys: 7.68 ms, total: 82.4 ms\n",
            "Wall time: 9.98 s\n"
          ]
        }
      ]
    },
    {
      "cell_type": "code",
      "source": [
        "for result in results:\n",
        "    print(f\"Review {result['review'][:100]}...\")\n",
        "    print(f\"text {result['text']}\\n\")"
      ],
      "metadata": {
        "colab": {
          "base_uri": "https://localhost:8080/"
        },
        "id": "fSRQhDEj5YG5",
        "outputId": "542a6066-46a6-4184-fdf0-5e7ad479defd"
      },
      "execution_count": 71,
      "outputs": [
        {
          "output_type": "stream",
          "name": "stdout",
          "text": [
            "Review ร้านอาหารใหญ่มากกกกกกก \n",
            "เลี้ยวเข้ามาเจอห้องน้ำก่อนเลย เออแปลกดี \n",
            "ห้องทานหลักๆอยู่ชั้น 2 มีกาแฟ น้ำผึ...\n",
            "text ```json\n",
            "{\"keywords\": [\"ร้านอาหาร\", \"ห้องน้ำ\", \"กาแฟ\", \"น้ำผึ้ง\", \"น้ำผึ้ง\", \"ลาบไข่ต้ม\", \"ไข่มัน\", \"ขนมไทย\", \"ขนมหวาน\", \"ฟรี\", \"ราคา\", \"กินไม่ไหว\", \"ขนมไทย\", \"ไข่อร่อย\", \"เห้ย\", \"แต่ราคา\", \"เกินไป\", \"รับไม่ไหว\", \"ว\", \"ไม่ไปซ้ำ\", \"แพงเกิน\"]}\n",
            "```\n",
            "\n",
            "Review วันนี้ได้มีโอกาสไปนั่งซดกาแฟที่ร้านวาวี แถวๆอารีย์\n",
            "\n",
            "ก็ได้ยินมาบ่อยๆละ จากหลายที่ แต่ที่บ่อยสุดก็จาก ...\n",
            "text ```json\n",
            "{\n",
            "  \"keywords\": [\n",
            "    \"กาแฟ\",\n",
            "    \"ร้านวาวี\",\n",
            "    \"อารีย์\",\n",
            "    \"Starbuck\",\n",
            "    \"แฟนๆ Starbuck\",\n",
            "    \"กาแฟ\",\n",
            "    \"อร่อย\",\n",
            "    \"ระดับแฟนๆ Starbuck\",\n",
            "    \"ดอง\",\n",
            "    \"มาหา\",\n",
            "    \"จิบ\",\n",
            "    \"ฟังเพลง\",\n",
            "    \"พักผ่อน\",\n",
            "    \"ดี\",\n",
            "    \"ราคาไม่แพง\",\n",
            "    \"กินบ่อย\",\n",
            "    \"กินกาแฟ\",\n",
            "    \"จุใจ\",\n",
            "    \"อร่อย\",\n",
            "    \"มี\",\n",
            "    \"แกล้ง\",\n",
            "    \"จุกได้\",\n",
            "    \"แกล้ง\",\n",
            "    \"บ่อยๆ\",\n",
            "    \"ตาม\",\n",
            "    \"รอ\",\n",
            "    \"โต๊ะ\",\n",
            "    \"เสริฟ\",\n",
            "    \"คน\",\n",
            "    \"หลุดริน\",\n",
            "    \"สตาฟーム\",\n",
            "    \"อาหาร\",\n",
            "    \"อาหาร\",\n",
            "    \"ราคา\",\n",
            "    \"กินบ่อยๆ\",\n",
            "    \"จุก\",\n",
            "    \"แกล้ง\",\n",
            "    \"กินกาแฟ\",\n",
            "    \"แกล้ง\",\n",
            "    \"กินกาแฟ\",\n",
            "    \"กินบ่อยๆ\",\n",
            "    \"กินกาแฟ\",\n",
            "    \"กินกาแฟ\",\n",
            "    \"กินกาแฟ\",\n",
            "    \"กินกาแฟ\",\n",
            "    \"กินกาแฟ\",\n",
            "    \"กินกาแฟ\",\n",
            "    \"กินกาแฟ\"\n",
            "  ]\n",
            "}\n",
            "```\n",
            "\n"
          ]
        }
      ]
    },
    {
      "cell_type": "code",
      "source": [
        "!ollama pull scb10x/typhoon2.1-gemma3-4b"
      ],
      "metadata": {
        "colab": {
          "base_uri": "https://localhost:8080/"
        },
        "id": "IRNGaUxs5dcz",
        "outputId": "0cfe2fa5-e468-497b-a086-70dd379c2d28"
      },
      "execution_count": 72,
      "outputs": [
        {
          "output_type": "stream",
          "name": "stdout",
          "text": [
            "\u001b[?2026h\u001b[?25l\u001b[1G\u001b[?25h\u001b[?2026l\u001b[?2026h\u001b[?25l\u001b[1G\u001b[?25h\u001b[?2026l\u001b[?2026h\u001b[?25l\u001b[1G\u001b[?25h\u001b[?2026l\u001b[?2026h\u001b[?25l\u001b[1G\u001b[?25h\u001b[?2026l\u001b[?2026h\u001b[?25l\u001b[1G\u001b[?25h\u001b[?2026l\u001b[?2026h\u001b[?25l\u001b[1G\u001b[?25h\u001b[?2026l\u001b[?2026h\u001b[?25l\u001b[1G\u001b[?25h\u001b[?2026l\u001b[?2026h\u001b[?25l\u001b[A\u001b[1G\u001b[?25h\u001b[?2026l\u001b[?2026h\u001b[?25l\u001b[A\u001b[1G\u001b[?25h\u001b[?2026l\u001b[?2026h\u001b[?25l\u001b[A\u001b[1G\u001b[?25h\u001b[?2026l\u001b[?2026h\u001b[?25l\u001b[A\u001b[1G\u001b[?25h\u001b[?2026l\u001b[?2026h\u001b[?25l\u001b[A\u001b[1G\u001b[?25h\u001b[?2026l\u001b[?2026h\u001b[?25l\u001b[A\u001b[1G\u001b[?25h\u001b[?2026l\u001b[?2026h\u001b[?25l\u001b[A\u001b[1G\u001b[?25h\u001b[?2026l\u001b[?2026h\u001b[?25l\u001b[A\u001b[1G\u001b[?25h\u001b[?2026l\u001b[?2026h\u001b[?25l\u001b[A\u001b[1G\u001b[?25h\u001b[?2026l\u001b[?2026h\u001b[?25l\u001b[A\u001b[1G\u001b[?25h\u001b[?2026l\u001b[?2026h\u001b[?25l\u001b[A\u001b[1G\u001b[?25h\u001b[?2026l\u001b[?2026h\u001b[?25l\u001b[A\u001b[1G\u001b[?25h\u001b[?2026l\u001b[?2026h\u001b[?25l\u001b[A\u001b[1G\u001b[?25h\u001b[?2026l\u001b[?2026h\u001b[?25l\u001b[A\u001b[1G\u001b[?25h\u001b[?2026l\u001b[?2026h\u001b[?25l\u001b[A\u001b[1G\u001b[?25h\u001b[?2026l\u001b[?2026h\u001b[?25l\u001b[A\u001b[1G\u001b[?25h\u001b[?2026l\u001b[?2026h\u001b[?25l\u001b[A\u001b[1G\u001b[?25h\u001b[?2026l\u001b[?2026h\u001b[?25l\u001b[A\u001b[1G\u001b[?25h\u001b[?2026l\u001b[?2026h\u001b[?25l\u001b[A\u001b[1G\u001b[?25h\u001b[?2026l\u001b[?2026h\u001b[?25l\u001b[A\u001b[1G\u001b[?25h\u001b[?2026l\u001b[?2026h\u001b[?25l\u001b[A\u001b[1G\u001b[?25h\u001b[?2026l\u001b[?2026h\u001b[?25l\u001b[A\u001b[1G\u001b[?25h\u001b[?2026l\u001b[?2026h\u001b[?25l\u001b[A\u001b[1G\u001b[?25h\u001b[?2026l\u001b[?2026h\u001b[?25l\u001b[A\u001b[1G\u001b[?25h\u001b[?2026l\u001b[?2026h\u001b[?25l\u001b[A\u001b[1G\u001b[?25h\u001b[?2026l\u001b[?2026h\u001b[?25l\u001b[A\u001b[1G\u001b[?25h\u001b[?2026l\u001b[?2026h\u001b[?25l\u001b[A\u001b[1G\u001b[?25h\u001b[?2026l\u001b[?2026h\u001b[?25l\u001b[A\u001b[1G\u001b[?25h\u001b[?2026l\u001b[?2026h\u001b[?25l\u001b[A\u001b[1G\u001b[?25h\u001b[?2026l\u001b[?2026h\u001b[?25l\u001b[A\u001b[1G\u001b[?25h\u001b[?2026l\u001b[?2026h\u001b[?25l\u001b[A\u001b[1G\u001b[?25h\u001b[?2026l\u001b[?2026h\u001b[?25l\u001b[A\u001b[1G\u001b[?25h\u001b[?2026l\u001b[?2026h\u001b[?25l\u001b[A\u001b[1G\u001b[?25h\u001b[?2026l\u001b[?2026h\u001b[?25l\u001b[A\u001b[1G\u001b[?25h\u001b[?2026l\u001b[?2026h\u001b[?25l\u001b[A\u001b[1G\u001b[?25h\u001b[?2026l\u001b[?2026h\u001b[?25l\u001b[A\u001b[1G\u001b[?25h\u001b[?2026l\u001b[?2026h\u001b[?25l\u001b[A\u001b[1G\u001b[?25h\u001b[?2026l\u001b[?2026h\u001b[?25l\u001b[A\u001b[1G\u001b[?25h\u001b[?2026l\u001b[?2026h\u001b[?25l\u001b[A\u001b[1G\u001b[?25h\u001b[?2026l\u001b[?2026h\u001b[?25l\u001b[A\u001b[1G\u001b[?25h\u001b[?2026l\u001b[?2026h\u001b[?25l\u001b[A\u001b[1G\u001b[?25h\u001b[?2026l\u001b[?2026h\u001b[?25l\u001b[A\u001b[1G\u001b[?25h\u001b[?2026l\u001b[?2026h\u001b[?25l\u001b[A\u001b[1G\u001b[?25h\u001b[?2026l\u001b[?2026h\u001b[?25l\u001b[A\u001b[1G\u001b[?25h\u001b[?2026l\u001b[?2026h\u001b[?25l\u001b[A\u001b[1G\u001b[?25h\u001b[?2026l\u001b[?2026h\u001b[?25l\u001b[A\u001b[1G\u001b[?25h\u001b[?2026l\u001b[?2026h\u001b[?25l\u001b[A\u001b[1G\u001b[?25h\u001b[?2026l\u001b[?2026h\u001b[?25l\u001b[A\u001b[1G\u001b[?25h\u001b[?2026l\u001b[?2026h\u001b[?25l\u001b[A\u001b[1G\u001b[?25h\u001b[?2026l\u001b[?2026h\u001b[?25l\u001b[A\u001b[1G\u001b[?25h\u001b[?2026l\u001b[?2026h\u001b[?25l\u001b[A\u001b[1G\u001b[?25h\u001b[?2026l\u001b[?2026h\u001b[?25l\u001b[A\u001b[1G\u001b[?25h\u001b[?2026l\u001b[?2026h\u001b[?25l\u001b[A\u001b[1G\u001b[?25h\u001b[?2026l\u001b[?2026h\u001b[?25l\u001b[A\u001b[1G\u001b[?25h\u001b[?2026l\u001b[?2026h\u001b[?25l\u001b[A\u001b[1G\u001b[?25h\u001b[?2026l\u001b[?2026h\u001b[?25l\u001b[A\u001b[1G\u001b[?25h\u001b[?2026l\u001b[?2026h\u001b[?25l\u001b[A\u001b[1G\u001b[?25h\u001b[?2026l\u001b[?2026h\u001b[?25l\u001b[A\u001b[1G\u001b[?25h\u001b[?2026l\u001b[?2026h\u001b[?25l\u001b[A\u001b[1G\u001b[?25h\u001b[?2026l\u001b[?2026h\u001b[?25l\u001b[A\u001b[1G\u001b[?25h\u001b[?2026l\u001b[?2026h\u001b[?25l\u001b[A\u001b[1G\u001b[?25h\u001b[?2026l\u001b[?2026h\u001b[?25l\u001b[A\u001b[1G\u001b[?25h\u001b[?2026l\u001b[?2026h\u001b[?25l\u001b[A\u001b[1G\u001b[?25h\u001b[?2026l\u001b[?2026h\u001b[?25l\u001b[A\u001b[1G\u001b[?25h\u001b[?2026l\u001b[?2026h\u001b[?25l\u001b[A\u001b[1G\u001b[?25h\u001b[?2026l\u001b[?2026h\u001b[?25l\u001b[A\u001b[1G\u001b[?25h\u001b[?2026l\u001b[?2026h\u001b[?25l\u001b[A\u001b[1G\u001b[?25h\u001b[?2026l\u001b[?2026h\u001b[?25l\u001b[A\u001b[1G\u001b[?25h\u001b[?2026l\u001b[?2026h\u001b[?25l\u001b[A\u001b[1G\u001b[?25h\u001b[?2026l\u001b[?2026h\u001b[?25l\u001b[A\u001b[1G\u001b[?25h\u001b[?2026l\u001b[?2026h\u001b[?25l\u001b[A\u001b[1G\u001b[?25h\u001b[?2026l\u001b[?2026h\u001b[?25l\u001b[A\u001b[1G\u001b[?25h\u001b[?2026l\u001b[?2026h\u001b[?25l\u001b[A\u001b[1G\u001b[?25h\u001b[?2026l\u001b[?2026h\u001b[?25l\u001b[A\u001b[1G\u001b[?25h\u001b[?2026l\u001b[?2026h\u001b[?25l\u001b[A\u001b[1G\u001b[?25h\u001b[?2026l\u001b[?2026h\u001b[?25l\u001b[A\u001b[1G\u001b[?25h\u001b[?2026l\u001b[?2026h\u001b[?25l\u001b[A\u001b[1G\u001b[?25h\u001b[?2026l\u001b[?2026h\u001b[?25l\u001b[A\u001b[1G\u001b[?25h\u001b[?2026l\u001b[?2026h\u001b[?25l\u001b[A\u001b[1G\u001b[?25h\u001b[?2026l\u001b[?2026h\u001b[?25l\u001b[A\u001b[1G\u001b[?25h\u001b[?2026l\u001b[?2026h\u001b[?25l\u001b[A\u001b[1G\u001b[?25h\u001b[?2026l\u001b[?2026h\u001b[?25l\u001b[A\u001b[1G\u001b[?25h\u001b[?2026l\u001b[?2026h\u001b[?25l\u001b[A\u001b[1G\u001b[?25h\u001b[?2026l\u001b[?2026h\u001b[?25l\u001b[A\u001b[1G\u001b[?25h\u001b[?2026l\u001b[?2026h\u001b[?25l\u001b[A\u001b[1G\u001b[?25h\u001b[?2026l\u001b[?2026h\u001b[?25l\u001b[A\u001b[1G\u001b[?25h\u001b[?2026l\u001b[?2026h\u001b[?25l\u001b[A\u001b[1G\u001b[?25h\u001b[?2026l\u001b[?2026h\u001b[?25l\u001b[A\u001b[1G\u001b[?25h\u001b[?2026l\u001b[?2026h\u001b[?25l\u001b[A\u001b[1G\u001b[?25h\u001b[?2026l\u001b[?2026h\u001b[?25l\u001b[A\u001b[1G\u001b[?25h\u001b[?2026l\u001b[?2026h\u001b[?25l\u001b[A\u001b[1G\u001b[?25h\u001b[?2026l\u001b[?2026h\u001b[?25l\u001b[A\u001b[1G\u001b[?25h\u001b[?2026l\u001b[?2026h\u001b[?25l\u001b[A\u001b[1G\u001b[?25h\u001b[?2026l\u001b[?2026h\u001b[?25l\u001b[A\u001b[1G\u001b[?25h\u001b[?2026l\u001b[?2026h\u001b[?25l\u001b[A\u001b[1G\u001b[?25h\u001b[?2026l\u001b[?2026h\u001b[?25l\u001b[A\u001b[1G\u001b[?25h\u001b[?2026l\u001b[?2026h\u001b[?25l\u001b[A\u001b[1G\u001b[?25h\u001b[?2026l\u001b[?2026h\u001b[?25l\u001b[A\u001b[1G\u001b[?25h\u001b[?2026l\u001b[?2026h\u001b[?25l\u001b[A\u001b[1G\u001b[?25h\u001b[?2026l\u001b[?2026h\u001b[?25l\u001b[A\u001b[1G\u001b[?25h\u001b[?2026l\u001b[?2026h\u001b[?25l\u001b[A\u001b[1G\u001b[?25h\u001b[?2026l\u001b[?2026h\u001b[?25l\u001b[A\u001b[1G\u001b[?25h\u001b[?2026l\u001b[?2026h\u001b[?25l\u001b[A\u001b[1G\u001b[?25h\u001b[?2026l\u001b[?2026h\u001b[?25l\u001b[A\u001b[1G\u001b[?25h\u001b[?2026l\u001b[?2026h\u001b[?25l\u001b[A\u001b[1G\u001b[?25h\u001b[?2026l\u001b[?2026h\u001b[?25l\u001b[A\u001b[1G\u001b[?25h\u001b[?2026l\u001b[?2026h\u001b[?25l\u001b[A\u001b[1G\u001b[?25h\u001b[?2026l\u001b[?2026h\u001b[?25l\u001b[A\u001b[1G\u001b[?25h\u001b[?2026l\u001b[?2026h\u001b[?25l\u001b[A\u001b[1G\u001b[?25h\u001b[?2026l\u001b[?2026h\u001b[?25l\u001b[A\u001b[1G\u001b[?25h\u001b[?2026l\u001b[?2026h\u001b[?25l\u001b[A\u001b[1G\u001b[?25h\u001b[?2026l\u001b[?2026h\u001b[?25l\u001b[A\u001b[1G\u001b[?25h\u001b[?2026l\u001b[?2026h\u001b[?25l\u001b[A\u001b[1G\u001b[?25h\u001b[?2026l\u001b[?2026h\u001b[?25l\u001b[A\u001b[1G\u001b[?25h\u001b[?2026l\u001b[?2026h\u001b[?25l\u001b[A\u001b[1G\u001b[?25h\u001b[?2026l\u001b[?2026h\u001b[?25l\u001b[A\u001b[1G\u001b[?25h\u001b[?2026l\u001b[?2026h\u001b[?25l\u001b[A\u001b[1G\u001b[?25h\u001b[?2026l\u001b[?2026h\u001b[?25l\u001b[A\u001b[1G\u001b[?25h\u001b[?2026l\u001b[?2026h\u001b[?25l\u001b[A\u001b[1G\u001b[?25h\u001b[?2026l\u001b[?2026h\u001b[?25l\u001b[A\u001b[1G\u001b[?25h\u001b[?2026l\u001b[?2026h\u001b[?25l\u001b[A\u001b[1G\u001b[?25h\u001b[?2026l\u001b[?2026h\u001b[?25l\u001b[A\u001b[1G\u001b[?25h\u001b[?2026l\u001b[?2026h\u001b[?25l\u001b[A\u001b[1G\u001b[?25h\u001b[?2026l\u001b[?2026h\u001b[?25l\u001b[A\u001b[1G\u001b[?25h\u001b[?2026l\u001b[?2026h\u001b[?25l\u001b[A\u001b[1G\u001b[?25h\u001b[?2026l\u001b[?2026h\u001b[?25l\u001b[A\u001b[1G\u001b[?25h\u001b[?2026l\u001b[?2026h\u001b[?25l\u001b[A\u001b[1G\u001b[?25h\u001b[?2026l\u001b[?2026h\u001b[?25l\u001b[A\u001b[1G\u001b[?25h\u001b[?2026l\u001b[?2026h\u001b[?25l\u001b[A\u001b[1G\u001b[?25h\u001b[?2026l\u001b[?2026h\u001b[?25l\u001b[A\u001b[1G\u001b[?25h\u001b[?2026l\u001b[?2026h\u001b[?25l\u001b[A\u001b[1G\u001b[?25h\u001b[?2026l\u001b[?2026h\u001b[?25l\u001b[A\u001b[1G\u001b[?25h\u001b[?2026l\u001b[?2026h\u001b[?25l\u001b[A\u001b[1G\u001b[?25h\u001b[?2026l\u001b[?2026h\u001b[?25l\u001b[A\u001b[1G\u001b[?25h\u001b[?2026l\u001b[?2026h\u001b[?25l\u001b[A\u001b[1G\u001b[?25h\u001b[?2026l\u001b[?2026h\u001b[?25l\u001b[A\u001b[1G\u001b[?25h\u001b[?2026l\u001b[?2026h\u001b[?25l\u001b[A\u001b[1G\u001b[?25h\u001b[?2026l\u001b[?2026h\u001b[?25l\u001b[A\u001b[1G\u001b[?25h\u001b[?2026l\u001b[?2026h\u001b[?25l\u001b[A\u001b[1G\u001b[?25h\u001b[?2026l\u001b[?2026h\u001b[?25l\u001b[A\u001b[1G\u001b[?25h\u001b[?2026l\u001b[?2026h\u001b[?25l\u001b[A\u001b[1G\u001b[?25h\u001b[?2026l\u001b[?2026h\u001b[?25l\u001b[A\u001b[1G\u001b[?25h\u001b[?2026l\u001b[?2026h\u001b[?25l\u001b[A\u001b[1G\u001b[?25h\u001b[?2026l\u001b[?2026h\u001b[?25l\u001b[A\u001b[1G\u001b[?25h\u001b[?2026l\u001b[?2026h\u001b[?25l\u001b[A\u001b[1G\u001b[?25h\u001b[?2026l\u001b[?2026h\u001b[?25l\u001b[A\u001b[1G\u001b[?25h\u001b[?2026l\u001b[?2026h\u001b[?25l\u001b[A\u001b[1G\u001b[?25h\u001b[?2026l\u001b[?2026h\u001b[?25l\u001b[A\u001b[1G\u001b[?25h\u001b[?2026l\u001b[?2026h\u001b[?25l\u001b[A\u001b[1G\u001b[?25h\u001b[?2026l\u001b[?2026h\u001b[?25l\u001b[A\u001b[1G\u001b[?25h\u001b[?2026l\u001b[?2026h\u001b[?25l\u001b[A\u001b[1G\u001b[?25h\u001b[?2026l\u001b[?2026h\u001b[?25l\u001b[A\u001b[1G\u001b[?25h\u001b[?2026l\u001b[?2026h\u001b[?25l\u001b[A\u001b[1G\u001b[?25h\u001b[?2026l\u001b[?2026h\u001b[?25l\u001b[A\u001b[1G\u001b[?25h\u001b[?2026l\u001b[?2026h\u001b[?25l\u001b[A\u001b[1G\u001b[?25h\u001b[?2026l\u001b[?2026h\u001b[?25l\u001b[A\u001b[1G\u001b[?25h\u001b[?2026l\u001b[?2026h\u001b[?25l\u001b[A\u001b[1G\u001b[?25h\u001b[?2026l\u001b[?2026h\u001b[?25l\u001b[A\u001b[1G\u001b[?25h\u001b[?2026l\u001b[?2026h\u001b[?25l\u001b[A\u001b[1G\u001b[?25h\u001b[?2026l\u001b[?2026h\u001b[?25l\u001b[A\u001b[1G\u001b[?25h\u001b[?2026l\u001b[?2026h\u001b[?25l\u001b[A\u001b[1G\u001b[?25h\u001b[?2026l\u001b[?2026h\u001b[?25l\u001b[A\u001b[1G\u001b[?25h\u001b[?2026l\u001b[?2026h\u001b[?25l\u001b[A\u001b[1G\u001b[?25h\u001b[?2026l\u001b[?2026h\u001b[?25l\u001b[A\u001b[1G\u001b[?25h\u001b[?2026l\u001b[?2026h\u001b[?25l\u001b[A\u001b[1G\u001b[?25h\u001b[?2026l\u001b[?2026h\u001b[?25l\u001b[A\u001b[1G\u001b[?25h\u001b[?2026l\u001b[?2026h\u001b[?25l\u001b[A\u001b[1G\u001b[?25h\u001b[?2026l\u001b[?2026h\u001b[?25l\u001b[A\u001b[1G\u001b[?25h\u001b[?2026l\u001b[?2026h\u001b[?25l\u001b[A\u001b[1G\u001b[?25h\u001b[?2026l\u001b[?2026h\u001b[?25l\u001b[A\u001b[1G\u001b[?25h\u001b[?2026l\u001b[?2026h\u001b[?25l\u001b[A\u001b[1G\u001b[?25h\u001b[?2026l\u001b[?2026h\u001b[?25l\u001b[A\u001b[1G\u001b[?25h\u001b[?2026l\u001b[?2026h\u001b[?25l\u001b[A\u001b[1G\u001b[?25h\u001b[?2026l\u001b[?2026h\u001b[?25l\u001b[A\u001b[1G\u001b[?25h\u001b[?2026l\u001b[?2026h\u001b[?25l\u001b[A\u001b[1G\u001b[?25h\u001b[?2026l\u001b[?2026h\u001b[?25l\u001b[A\u001b[1G\u001b[?25h\u001b[?2026l\u001b[?2026h\u001b[?25l\u001b[A\u001b[1G\u001b[?25h\u001b[?2026l\u001b[?2026h\u001b[?25l\u001b[A\u001b[1G\u001b[?25h\u001b[?2026l\u001b[?2026h\u001b[?25l\u001b[A\u001b[1G\u001b[?25h\u001b[?2026l\u001b[?2026h\u001b[?25l\u001b[A\u001b[1G\u001b[?25h\u001b[?2026l\u001b[?2026h\u001b[?25l\u001b[A\u001b[1G\u001b[?25h\u001b[?2026l\u001b[?2026h\u001b[?25l\u001b[A\u001b[1G\u001b[?25h\u001b[?2026l\u001b[?2026h\u001b[?25l\u001b[A\u001b[1G\u001b[?25h\u001b[?2026l\u001b[?2026h\u001b[?25l\u001b[A\u001b[1G\u001b[?25h\u001b[?2026l\u001b[?2026h\u001b[?25l\u001b[A\u001b[1G\u001b[?25h\u001b[?2026l\u001b[?2026h\u001b[?25l\u001b[A\u001b[1G\u001b[?25h\u001b[?2026l\u001b[?2026h\u001b[?25l\u001b[A\u001b[1G\u001b[?25h\u001b[?2026l\u001b[?2026h\u001b[?25l\u001b[A\u001b[1G\u001b[?25h\u001b[?2026l\u001b[?2026h\u001b[?25l\u001b[A\u001b[1G\u001b[?25h\u001b[?2026l\u001b[?2026h\u001b[?25l\u001b[A\u001b[1G\u001b[?25h\u001b[?2026l\u001b[?2026h\u001b[?25l\u001b[A\u001b[1G\u001b[?25h\u001b[?2026l\u001b[?2026h\u001b[?25l\u001b[A\u001b[1G\u001b[?25h\u001b[?2026l\u001b[?2026h\u001b[?25l\u001b[A\u001b[1G\u001b[?25h\u001b[?2026l\u001b[?2026h\u001b[?25l\u001b[A\u001b[1G\u001b[?25h\u001b[?2026l\u001b[?2026h\u001b[?25l\u001b[A\u001b[1G\u001b[?25h\u001b[?2026l\u001b[?2026h\u001b[?25l\u001b[A\u001b[1G\u001b[?25h\u001b[?2026l\u001b[?2026h\u001b[?25l\u001b[A\u001b[1G\u001b[?25h\u001b[?2026l\u001b[?2026h\u001b[?25l\u001b[A\u001b[1G\u001b[?25h\u001b[?2026l\u001b[?2026h\u001b[?25l\u001b[A\u001b[1G\u001b[?25h\u001b[?2026l\u001b[?2026h\u001b[?25l\u001b[A\u001b[1G\u001b[?25h\u001b[?2026l\u001b[?2026h\u001b[?25l\u001b[A\u001b[1G\u001b[?25h\u001b[?2026l\u001b[?2026h\u001b[?25l\u001b[A\u001b[1G\u001b[?25h\u001b[?2026l\u001b[?2026h\u001b[?25l\u001b[A\u001b[1G\u001b[?25h\u001b[?2026l\u001b[?2026h\u001b[?25l\u001b[A\u001b[1G\u001b[?25h\u001b[?2026l\u001b[?2026h\u001b[?25l\u001b[A\u001b[1G\u001b[?25h\u001b[?2026l\u001b[?2026h\u001b[?25l\u001b[A\u001b[1G\u001b[?25h\u001b[?2026l\u001b[?2026h\u001b[?25l\u001b[A\u001b[1G\u001b[?25h\u001b[?2026l\u001b[?2026h\u001b[?25l\u001b[A\u001b[1G\u001b[?25h\u001b[?2026l\u001b[?2026h\u001b[?25l\u001b[A\u001b[1G\u001b[?25h\u001b[?2026l\u001b[?2026h\u001b[?25l\u001b[A\u001b[1G\u001b[?25h\u001b[?2026l\u001b[?2026h\u001b[?25l\u001b[A\u001b[1G\u001b[?25h\u001b[?2026l\u001b[?2026h\u001b[?25l\u001b[A\u001b[1G\u001b[?25h\u001b[?2026l\u001b[?2026h\u001b[?25l\u001b[A\u001b[1G\u001b[?25h\u001b[?2026l\u001b[?2026h\u001b[?25l\u001b[A\u001b[1G\u001b[?25h\u001b[?2026l\u001b[?2026h\u001b[?25l\u001b[A\u001b[1G\u001b[?25h\u001b[?2026l\u001b[?2026h\u001b[?25l\u001b[A\u001b[1G\u001b[?25h\u001b[?2026l\u001b[?2026h\u001b[?25l\u001b[A\u001b[1G\u001b[?25h\u001b[?2026l\u001b[?2026h\u001b[?25l\u001b[A\u001b[1G\u001b[?25h\u001b[?2026l\u001b[?2026h\u001b[?25l\u001b[A\u001b[1G\u001b[?25h\u001b[?2026l\u001b[?2026h\u001b[?25l\u001b[A\u001b[1G\u001b[?25h\u001b[?2026l\u001b[?2026h\u001b[?25l\u001b[A\u001b[1G\u001b[?25h\u001b[?2026l\u001b[?2026h\u001b[?25l\u001b[A\u001b[1G\u001b[?25h\u001b[?2026l\u001b[?2026h\u001b[?25l\u001b[A\u001b[1G\u001b[?25h\u001b[?2026l\u001b[?2026h\u001b[?25l\u001b[A\u001b[1G\u001b[?25h\u001b[?2026l\u001b[?2026h\u001b[?25l\u001b[A\u001b[1G\u001b[?25h\u001b[?2026l\u001b[?2026h\u001b[?25l\u001b[A\u001b[1G\u001b[?25h\u001b[?2026l\u001b[?2026h\u001b[?25l\u001b[A\u001b[1G\u001b[?25h\u001b[?2026l\u001b[?2026h\u001b[?25l\u001b[A\u001b[1G\u001b[?25h\u001b[?2026l\u001b[?2026h\u001b[?25l\u001b[A\u001b[1G\u001b[?25h\u001b[?2026l\u001b[?2026h\u001b[?25l\u001b[A\u001b[1G\u001b[?25h\u001b[?2026l\u001b[?2026h\u001b[?25l\u001b[A\u001b[1G\u001b[?25h\u001b[?2026l\u001b[?2026h\u001b[?25l\u001b[A\u001b[1G\u001b[?25h\u001b[?2026l\u001b[?2026h\u001b[?25l\u001b[A\u001b[1G\u001b[?25h\u001b[?2026l\u001b[?2026h\u001b[?25l\u001b[A\u001b[1G\u001b[?25h\u001b[?2026l\u001b[?2026h\u001b[?25l\u001b[A\u001b[1G\u001b[?25h\u001b[?2026l\u001b[?2026h\u001b[?25l\u001b[A\u001b[1G\u001b[?25h\u001b[?2026l\u001b[?2026h\u001b[?25l\u001b[A\u001b[1G\u001b[?25h\u001b[?2026l\u001b[?2026h\u001b[?25l\u001b[A\u001b[1G\u001b[?25h\u001b[?2026l\u001b[?2026h\u001b[?25l\u001b[A\u001b[1G\u001b[?25h\u001b[?2026l\u001b[?2026h\u001b[?25l\u001b[A\u001b[1G\u001b[?25h\u001b[?2026l\u001b[?2026h\u001b[?25l\u001b[A\u001b[1G\u001b[?25h\u001b[?2026l\u001b[?2026h\u001b[?25l\u001b[A\u001b[1G\u001b[?25h\u001b[?2026l\u001b[?2026h\u001b[?25l\u001b[A\u001b[1G\u001b[?25h\u001b[?2026l\u001b[?2026h\u001b[?25l\u001b[A\u001b[1G\u001b[?25h\u001b[?2026l\u001b[?2026h\u001b[?25l\u001b[A\u001b[1G\u001b[?25h\u001b[?2026l\u001b[?2026h\u001b[?25l\u001b[A\u001b[1G\u001b[?25h\u001b[?2026l\u001b[?2026h\u001b[?25l\u001b[A\u001b[1G\u001b[?25h\u001b[?2026l\u001b[?2026h\u001b[?25l\u001b[A\u001b[1G\u001b[?25h\u001b[?2026l\u001b[?2026h\u001b[?25l\u001b[A\u001b[1G\u001b[?25h\u001b[?2026l\u001b[?2026h\u001b[?25l\u001b[A\u001b[1G\u001b[?25h\u001b[?2026l\u001b[?2026h\u001b[?25l\u001b[A\u001b[1G\u001b[?25h\u001b[?2026l\u001b[?2026h\u001b[?25l\u001b[A\u001b[1G\u001b[?25h\u001b[?2026l\u001b[?2026h\u001b[?25l\u001b[A\u001b[1G\u001b[?25h\u001b[?2026l\u001b[?2026h\u001b[?25l\u001b[A\u001b[1G\u001b[?25h\u001b[?2026l\u001b[?2026h\u001b[?25l\u001b[A\u001b[1G\u001b[?25h\u001b[?2026l\u001b[?2026h\u001b[?25l\u001b[A\u001b[1G\u001b[?25h\u001b[?2026l\u001b[?2026h\u001b[?25l\u001b[A\u001b[1G\u001b[?25h\u001b[?2026l\u001b[?2026h\u001b[?25l\u001b[A\u001b[1G\u001b[?25h\u001b[?2026l\u001b[?2026h\u001b[?25l\u001b[A\u001b[1G\u001b[?25h\u001b[?2026l\u001b[?2026h\u001b[?25l\u001b[A\u001b[1G\u001b[?25h\u001b[?2026l\u001b[?2026h\u001b[?25l\u001b[A\u001b[1G\u001b[?25h\u001b[?2026l\u001b[?2026h\u001b[?25l\u001b[A\u001b[1G\u001b[?25h\u001b[?2026l\u001b[?2026h\u001b[?25l\u001b[A\u001b[1G\u001b[?25h\u001b[?2026l\u001b[?2026h\u001b[?25l\u001b[A\u001b[1G\u001b[?25h\u001b[?2026l\u001b[?2026h\u001b[?25l\u001b[A\u001b[1G\u001b[?25h\u001b[?2026l\u001b[?2026h\u001b[?25l\u001b[A\u001b[1G\u001b[?25h\u001b[?2026l\u001b[?2026h\u001b[?25l\u001b[A\u001b[1G\u001b[?25h\u001b[?2026l\u001b[?2026h\u001b[?25l\u001b[A\u001b[1G\u001b[?25h\u001b[?2026l\u001b[?2026h\u001b[?25l\u001b[A\u001b[1G\u001b[?25h\u001b[?2026l\u001b[?2026h\u001b[?25l\u001b[A\u001b[1G\u001b[?25h\u001b[?2026l\u001b[?2026h\u001b[?25l\u001b[A\u001b[1G\u001b[?25h\u001b[?2026l\u001b[?2026h\u001b[?25l\u001b[A\u001b[1G\u001b[?25h\u001b[?2026l\u001b[?2026h\u001b[?25l\u001b[A\u001b[1G\u001b[?25h\u001b[?2026l\u001b[?2026h\u001b[?25l\u001b[A\u001b[1G\u001b[?25h\u001b[?2026l\u001b[?2026h\u001b[?25l\u001b[A\u001b[1G\u001b[?25h\u001b[?2026l\u001b[?2026h\u001b[?25l\u001b[A\u001b[1G\u001b[?25h\u001b[?2026l\u001b[?2026h\u001b[?25l\u001b[A\u001b[1G\u001b[?25h\u001b[?2026l\u001b[?2026h\u001b[?25l\u001b[A\u001b[1G\u001b[?25h\u001b[?2026l\u001b[?2026h\u001b[?25l\u001b[A\u001b[1G\u001b[?25h\u001b[?2026l\u001b[?2026h\u001b[?25l\u001b[A\u001b[1G\u001b[?25h\u001b[?2026l\u001b[?2026h\u001b[?25l\u001b[A\u001b[1G\u001b[?25h\u001b[?2026l\u001b[?2026h\u001b[?25l\u001b[A\u001b[1G\u001b[?25h\u001b[?2026l\u001b[?2026h\u001b[?25l\u001b[A\u001b[1G\u001b[?25h\u001b[?2026l\u001b[?2026h\u001b[?25l\u001b[A\u001b[1G\u001b[?25h\u001b[?2026l\u001b[?2026h\u001b[?25l\u001b[A\u001b[1G\u001b[?25h\u001b[?2026l\u001b[?2026h\u001b[?25l\u001b[A\u001b[1G\u001b[?25h\u001b[?2026l\u001b[?2026h\u001b[?25l\u001b[A\u001b[1G\u001b[?25h\u001b[?2026l\u001b[?2026h\u001b[?25l\u001b[A\u001b[1G\u001b[?25h\u001b[?2026l\u001b[?2026h\u001b[?25l\u001b[A\u001b[1G\u001b[?25h\u001b[?2026l\u001b[?2026h\u001b[?25l\u001b[A\u001b[1G\u001b[?25h\u001b[?2026l\u001b[?2026h\u001b[?25l\u001b[A\u001b[1G\u001b[?25h\u001b[?2026l\u001b[?2026h\u001b[?25l\u001b[A\u001b[1G\u001b[?25h\u001b[?2026l\u001b[?2026h\u001b[?25l\u001b[A\u001b[1G\u001b[?25h\u001b[?2026l\u001b[?2026h\u001b[?25l\u001b[A\u001b[1G\u001b[?25h\u001b[?2026l\u001b[?2026h\u001b[?25l\u001b[A\u001b[1G\u001b[?25h\u001b[?2026l\u001b[?2026h\u001b[?25l\u001b[A\u001b[1G\u001b[?25h\u001b[?2026l\u001b[?2026h\u001b[?25l\u001b[A\u001b[1G\u001b[?25h\u001b[?2026l\u001b[?2026h\u001b[?25l\u001b[A\u001b[1G\u001b[?25h\u001b[?2026l\u001b[?2026h\u001b[?25l\u001b[A\u001b[1G\u001b[?25h\u001b[?2026l\u001b[?2026h\u001b[?25l\u001b[A\u001b[1G\u001b[?25h\u001b[?2026l\u001b[?2026h\u001b[?25l\u001b[A\u001b[1G\u001b[?25h\u001b[?2026l\u001b[?2026h\u001b[?25l\u001b[A\u001b[1G\u001b[?25h\u001b[?2026l\u001b[?2026h\u001b[?25l\u001b[A\u001b[1G\u001b[?25h\u001b[?2026l\u001b[?2026h\u001b[?25l\u001b[A\u001b[1G\u001b[?25h\u001b[?2026l\u001b[?2026h\u001b[?25l\u001b[A\u001b[1G\u001b[?25h\u001b[?2026l\u001b[?2026h\u001b[?25l\u001b[A\u001b[1G\u001b[?25h\u001b[?2026l\u001b[?2026h\u001b[?25l\u001b[A\u001b[1G\u001b[?25h\u001b[?2026l\u001b[?2026h\u001b[?25l\u001b[A\u001b[1G\u001b[?25h\u001b[?2026l\u001b[?2026h\u001b[?25l\u001b[A\u001b[1G\u001b[?25h\u001b[?2026l\u001b[?2026h\u001b[?25l\u001b[A\u001b[1G\u001b[?25h\u001b[?2026l\u001b[?2026h\u001b[?25l\u001b[A\u001b[1G\u001b[?25h\u001b[?2026l\u001b[?2026h\u001b[?25l\u001b[A\u001b[1G\u001b[?25h\u001b[?2026l\u001b[?2026h\u001b[?25l\u001b[A\u001b[1G\u001b[?25h\u001b[?2026l\u001b[?2026h\u001b[?25l\u001b[A\u001b[1G\u001b[?25h\u001b[?2026l\u001b[?2026h\u001b[?25l\u001b[A\u001b[1G\u001b[?25h\u001b[?2026l\u001b[?2026h\u001b[?25l\u001b[A\u001b[1G\u001b[?25h\u001b[?2026l\u001b[?2026h\u001b[?25l\u001b[A\u001b[1G\u001b[?25h\u001b[?2026l\u001b[?2026h\u001b[?25l\u001b[A\u001b[1G\u001b[?25h\u001b[?2026l\u001b[?2026h\u001b[?25l\u001b[A\u001b[1G\u001b[?25h\u001b[?2026l\u001b[?2026h\u001b[?25l\u001b[A\u001b[1G\u001b[?25h\u001b[?2026l\u001b[?2026h\u001b[?25l\u001b[A\u001b[1G\u001b[?25h\u001b[?2026l\u001b[?2026h\u001b[?25l\u001b[A\u001b[1G\u001b[?25h\u001b[?2026l\u001b[?2026h\u001b[?25l\u001b[A\u001b[1G\u001b[?25h\u001b[?2026l\u001b[?2026h\u001b[?25l\u001b[A\u001b[1G\u001b[?25h\u001b[?2026l\u001b[?2026h\u001b[?25l\u001b[A\u001b[1G\u001b[?25h\u001b[?2026l\u001b[?2026h\u001b[?25l\u001b[A\u001b[1G\u001b[?25h\u001b[?2026l\u001b[?2026h\u001b[?25l\u001b[A\u001b[1G\u001b[?25h\u001b[?2026l\u001b[?2026h\u001b[?25l\u001b[A\u001b[1G\u001b[?25h\u001b[?2026l\u001b[?2026h\u001b[?25l\u001b[A\u001b[1G\u001b[?25h\u001b[?2026l\u001b[?2026h\u001b[?25l\u001b[A\u001b[1G\u001b[?25h\u001b[?2026l\u001b[?2026h\u001b[?25l\u001b[A\u001b[1G\u001b[?25h\u001b[?2026l\u001b[?2026h\u001b[?25l\u001b[A\u001b[1G\u001b[?25h\u001b[?2026l\u001b[?2026h\u001b[?25l\u001b[A\u001b[1G\u001b[?25h\u001b[?2026l\u001b[?2026h\u001b[?25l\u001b[A\u001b[1G\u001b[?25h\u001b[?2026l\u001b[?2026h\u001b[?25l\u001b[A\u001b[1G\u001b[?25h\u001b[?2026l\u001b[?2026h\u001b[?25l\u001b[A\u001b[1G\u001b[?25h\u001b[?2026l\u001b[?2026h\u001b[?25l\u001b[A\u001b[1G\u001b[?25h\u001b[?2026l\u001b[?2026h\u001b[?25l\u001b[A\u001b[1G\u001b[?25h\u001b[?2026l\u001b[?2026h\u001b[?25l\u001b[A\u001b[1G\u001b[?25h\u001b[?2026l\u001b[?2026h\u001b[?25l\u001b[A\u001b[1G\u001b[?25h\u001b[?2026l\u001b[?2026h\u001b[?25l\u001b[A\u001b[1G\u001b[?25h\u001b[?2026l\u001b[?2026h\u001b[?25l\u001b[A\u001b[1G\u001b[?25h\u001b[?2026l\u001b[?2026h\u001b[?25l\u001b[A\u001b[1G\u001b[?25h\u001b[?2026l\u001b[?2026h\u001b[?25l\u001b[A\u001b[1G\u001b[?25h\u001b[?2026l\u001b[?2026h\u001b[?25l\u001b[A\u001b[1G\u001b[?25h\u001b[?2026l\u001b[?2026h\u001b[?25l\u001b[A\u001b[1G\u001b[?25h\u001b[?2026l\u001b[?2026h\u001b[?25l\u001b[A\u001b[1G\u001b[?25h\u001b[?2026l\u001b[?2026h\u001b[?25l\u001b[A\u001b[1G\u001b[?25h\u001b[?2026l\u001b[?2026h\u001b[?25l\u001b[A\u001b[1G\u001b[?25h\u001b[?2026l\u001b[?2026h\u001b[?25l\u001b[A\u001b[1G\u001b[?25h\u001b[?2026l\u001b[?2026h\u001b[?25l\u001b[A\u001b[1G\u001b[?25h\u001b[?2026l\u001b[?2026h\u001b[?25l\u001b[A\u001b[1G\u001b[?25h\u001b[?2026l\u001b[?2026h\u001b[?25l\u001b[A\u001b[1G\u001b[?25h\u001b[?2026l\u001b[?2026h\u001b[?25l\u001b[A\u001b[1G\u001b[?25h\u001b[?2026l\u001b[?2026h\u001b[?25l\u001b[A\u001b[1G\u001b[?25h\u001b[?2026l\u001b[?2026h\u001b[?25l\u001b[A\u001b[1G\u001b[?25h\u001b[?2026l\u001b[?2026h\u001b[?25l\u001b[A\u001b[1G\u001b[?25h\u001b[?2026l\u001b[?2026h\u001b[?25l\u001b[A\u001b[1G\u001b[?25h\u001b[?2026l\u001b[?2026h\u001b[?25l\u001b[A\u001b[1G\u001b[?25h\u001b[?2026l\u001b[?2026h\u001b[?25l\u001b[A\u001b[1G\u001b[?25h\u001b[?2026l\u001b[?2026h\u001b[?25l\u001b[A\u001b[1G\u001b[?25h\u001b[?2026l\u001b[?2026h\u001b[?25l\u001b[A\u001b[1G\u001b[?25h\u001b[?2026l\u001b[?2026h\u001b[?25l\u001b[A\u001b[1G\u001b[?25h\u001b[?2026l\u001b[?2026h\u001b[?25l\u001b[A\u001b[1G\u001b[?25h\u001b[?2026l\u001b[?2026h\u001b[?25l\u001b[A\u001b[1G\u001b[?25h\u001b[?2026l\u001b[?2026h\u001b[?25l\u001b[A\u001b[1G\u001b[?25h\u001b[?2026l\u001b[?2026h\u001b[?25l\u001b[A\u001b[1G\u001b[?25h\u001b[?2026l\u001b[?2026h\u001b[?25l\u001b[A\u001b[1G\u001b[?25h\u001b[?2026l\u001b[?2026h\u001b[?25l\u001b[A\u001b[1G\u001b[?25h\u001b[?2026l\u001b[?2026h\u001b[?25l\u001b[A\u001b[1G\u001b[?25h\u001b[?2026l\u001b[?2026h\u001b[?25l\u001b[A\u001b[1G\u001b[?25h\u001b[?2026l\u001b[?2026h\u001b[?25l\u001b[A\u001b[1G\u001b[?25h\u001b[?2026l\u001b[?2026h\u001b[?25l\u001b[A\u001b[1G\u001b[?25h\u001b[?2026l\u001b[?2026h\u001b[?25l\u001b[A\u001b[1G\u001b[?25h\u001b[?2026l\u001b[?2026h\u001b[?25l\u001b[A\u001b[1G\u001b[?25h\u001b[?2026l\u001b[?2026h\u001b[?25l\u001b[A\u001b[1G\u001b[?25h\u001b[?2026l\u001b[?2026h\u001b[?25l\u001b[A\u001b[1G\u001b[?25h\u001b[?2026l\u001b[?2026h\u001b[?25l\u001b[A\u001b[1G\u001b[?25h\u001b[?2026l\u001b[?2026h\u001b[?25l\u001b[A\u001b[1G\u001b[?25h\u001b[?2026l\u001b[?2026h\u001b[?25l\u001b[A\u001b[1G\u001b[?25h\u001b[?2026l\u001b[?2026h\u001b[?25l\u001b[A\u001b[1G\u001b[?25h\u001b[?2026l\u001b[?2026h\u001b[?25l\u001b[A\u001b[1G\u001b[?25h\u001b[?2026l\u001b[?2026h\u001b[?25l\u001b[A\u001b[1G\u001b[?25h\u001b[?2026l\u001b[?2026h\u001b[?25l\u001b[A\u001b[1G\u001b[?25h\u001b[?2026l\u001b[?2026h\u001b[?25l\u001b[A\u001b[1G\u001b[?25h\u001b[?2026l\u001b[?2026h\u001b[?25l\u001b[A\u001b[1G\u001b[?25h\u001b[?2026l\u001b[?2026h\u001b[?25l\u001b[A\u001b[1G\u001b[?25h\u001b[?2026l\u001b[?2026h\u001b[?25l\u001b[A\u001b[1G\u001b[?25h\u001b[?2026l\u001b[?2026h\u001b[?25l\u001b[A\u001b[1G\u001b[?25h\u001b[?2026l\u001b[?2026h\u001b[?25l\u001b[A\u001b[1G\u001b[?25h\u001b[?2026l\u001b[?2026h\u001b[?25l\u001b[A\u001b[1G\u001b[?25h\u001b[?2026l\u001b[?2026h\u001b[?25l\u001b[A\u001b[1G\u001b[?25h\u001b[?2026l\u001b[?2026h\u001b[?25l\u001b[A\u001b[1G\u001b[?25h\u001b[?2026l\u001b[?2026h\u001b[?25l\u001b[A\u001b[1G\u001b[?25h\u001b[?2026l\u001b[?2026h\u001b[?25l\u001b[A\u001b[1G\u001b[?25h\u001b[?2026l\u001b[?2026h\u001b[?25l\u001b[A\u001b[1G\u001b[?25h\u001b[?2026l\u001b[?2026h\u001b[?25l\u001b[A\u001b[1G\u001b[?25h\u001b[?2026l\u001b[?2026h\u001b[?25l\u001b[A\u001b[1G\u001b[?25h\u001b[?2026l\u001b[?2026h\u001b[?25l\u001b[A\u001b[1G\u001b[?25h\u001b[?2026l\u001b[?2026h\u001b[?25l\u001b[A\u001b[1G\u001b[?25h\u001b[?2026l\u001b[?2026h\u001b[?25l\u001b[A\u001b[1G\u001b[?25h\u001b[?2026l\u001b[?2026h\u001b[?25l\u001b[A\u001b[1G\u001b[?25h\u001b[?2026l\u001b[?2026h\u001b[?25l\u001b[A\u001b[1G\u001b[?25h\u001b[?2026l\u001b[?2026h\u001b[?25l\u001b[A\u001b[1G\u001b[?25h\u001b[?2026l\u001b[?2026h\u001b[?25l\u001b[A\u001b[1G\u001b[?25h\u001b[?2026l\u001b[?2026h\u001b[?25l\u001b[A\u001b[1G\u001b[?25h\u001b[?2026l\u001b[?2026h\u001b[?25l\u001b[A\u001b[1G\u001b[?25h\u001b[?2026l\u001b[?2026h\u001b[?25l\u001b[A\u001b[1G\u001b[?25h\u001b[?2026l\u001b[?2026h\u001b[?25l\u001b[A\u001b[1G\u001b[?25h\u001b[?2026l\u001b[?2026h\u001b[?25l\u001b[A\u001b[1G\u001b[?25h\u001b[?2026l\u001b[?2026h\u001b[?25l\u001b[A\u001b[1G\u001b[?25h\u001b[?2026l\u001b[?2026h\u001b[?25l\u001b[A\u001b[1G\u001b[?25h\u001b[?2026l\u001b[?2026h\u001b[?25l\u001b[A\u001b[1G\u001b[?25h\u001b[?2026l\u001b[?2026h\u001b[?25l\u001b[A\u001b[1G\u001b[?25h\u001b[?2026l\u001b[?2026h\u001b[?25l\u001b[A\u001b[1G\u001b[?25h\u001b[?2026l\u001b[?2026h\u001b[?25l\u001b[A\u001b[1G\u001b[?25h\u001b[?2026l\u001b[?2026h\u001b[?25l\u001b[A\u001b[1G\u001b[?25h\u001b[?2026l\u001b[?2026h\u001b[?25l\u001b[A\u001b[1G\u001b[?25h\u001b[?2026l\u001b[?2026h\u001b[?25l\u001b[A\u001b[1G\u001b[?25h\u001b[?2026l\u001b[?2026h\u001b[?25l\u001b[A\u001b[1G\u001b[?25h\u001b[?2026l\u001b[?2026h\u001b[?25l\u001b[A\u001b[1G\u001b[?25h\u001b[?2026l\u001b[?2026h\u001b[?25l\u001b[A\u001b[1G\u001b[?25h\u001b[?2026l\u001b[?2026h\u001b[?25l\u001b[A\u001b[1G\u001b[?25h\u001b[?2026l\u001b[?2026h\u001b[?25l\u001b[A\u001b[1G\u001b[?25h\u001b[?2026l\u001b[?2026h\u001b[?25l\u001b[A\u001b[1G\u001b[?25h\u001b[?2026l\u001b[?2026h\u001b[?25l\u001b[A\u001b[1G\u001b[?25h\u001b[?2026l\u001b[?2026h\u001b[?25l\u001b[A\u001b[1G\u001b[?25h\u001b[?2026l\u001b[?2026h\u001b[?25l\u001b[A\u001b[1G\u001b[?25h\u001b[?2026l\u001b[?2026h\u001b[?25l\u001b[A\u001b[1G\u001b[?25h\u001b[?2026l\u001b[?2026h\u001b[?25l\u001b[A\u001b[1G\u001b[?25h\u001b[?2026l\u001b[?2026h\u001b[?25l\u001b[A\u001b[1G\u001b[?25h\u001b[?2026l\u001b[?2026h\u001b[?25l\u001b[A\u001b[1G\u001b[?25h\u001b[?2026l\u001b[?2026h\u001b[?25l\u001b[A\u001b[1G\u001b[?25h\u001b[?2026l\u001b[?2026h\u001b[?25l\u001b[A\u001b[1G\u001b[?25h\u001b[?2026l\u001b[?2026h\u001b[?25l\u001b[A\u001b[1G\u001b[?25h\u001b[?2026l\u001b[?2026h\u001b[?25l\u001b[A\u001b[1G\u001b[?25h\u001b[?2026l\u001b[?2026h\u001b[?25l\u001b[A\u001b[1G\u001b[?25h\u001b[?2026l\u001b[?2026h\u001b[?25l\u001b[A\u001b[1G\u001b[?25h\u001b[?2026l\u001b[?2026h\u001b[?25l\u001b[A\u001b[1G\u001b[?25h\u001b[?2026l\u001b[?2026h\u001b[?25l\u001b[A\u001b[1G\u001b[?25h\u001b[?2026l\u001b[?2026h\u001b[?25l\u001b[A\u001b[1G\u001b[?25h\u001b[?2026l\u001b[?2026h\u001b[?25l\u001b[A\u001b[1G\u001b[?25h\u001b[?2026l\u001b[?2026h\u001b[?25l\u001b[A\u001b[1G\u001b[?25h\u001b[?2026l\u001b[?2026h\u001b[?25l\u001b[A\u001b[1G\u001b[?25h\u001b[?2026l\u001b[?2026h\u001b[?25l\u001b[A\u001b[1G\u001b[?25h\u001b[?2026l\u001b[?2026h\u001b[?25l\u001b[A\u001b[1G\u001b[?25h\u001b[?2026l\u001b[?2026h\u001b[?25l\u001b[A\u001b[1G\u001b[?25h\u001b[?2026l\u001b[?2026h\u001b[?25l\u001b[A\u001b[1G\u001b[?25h\u001b[?2026l\u001b[?2026h\u001b[?25l\u001b[A\u001b[1G\u001b[?25h\u001b[?2026l\u001b[?2026h\u001b[?25l\u001b[A\u001b[1G\u001b[?25h\u001b[?2026l\u001b[?2026h\u001b[?25l\u001b[A\u001b[1G\u001b[?25h\u001b[?2026l\u001b[?2026h\u001b[?25l\u001b[A\u001b[1G\u001b[?25h\u001b[?2026l\u001b[?2026h\u001b[?25l\u001b[A\u001b[1G\u001b[?25h\u001b[?2026l\u001b[?2026h\u001b[?25l\u001b[A\u001b[1G\u001b[?25h\u001b[?2026l\u001b[?2026h\u001b[?25l\u001b[A\u001b[1G\u001b[?25h\u001b[?2026l\u001b[?2026h\u001b[?25l\u001b[A\u001b[1G\u001b[?25h\u001b[?2026l\u001b[?2026h\u001b[?25l\u001b[A\u001b[1G\u001b[?25h\u001b[?2026l\u001b[?2026h\u001b[?25l\u001b[A\u001b[1G\u001b[?25h\u001b[?2026l\u001b[?2026h\u001b[?25l\u001b[A\u001b[1G\u001b[?25h\u001b[?2026l\u001b[?2026h\u001b[?25l\u001b[A\u001b[1G\u001b[?25h\u001b[?2026l\u001b[?2026h\u001b[?25l\u001b[A\u001b[1G\u001b[?25h\u001b[?2026l\u001b[?2026h\u001b[?25l\u001b[A\u001b[1G\u001b[?25h\u001b[?2026l\u001b[?2026h\u001b[?25l\u001b[A\u001b[1G\u001b[?25h\u001b[?2026l\u001b[?2026h\u001b[?25l\u001b[A\u001b[1G\u001b[?25h\u001b[?2026l\u001b[?2026h\u001b[?25l\u001b[A\u001b[1G\u001b[?25h\u001b[?2026l\u001b[?2026h\u001b[?25l\u001b[A\u001b[1G\u001b[?25h\u001b[?2026l\u001b[?2026h\u001b[?25l\u001b[A\u001b[1G\u001b[?25h\u001b[?2026l\u001b[?2026h\u001b[?25l\u001b[A\u001b[1G\u001b[?25h\u001b[?2026l\u001b[?2026h\u001b[?25l\u001b[A\u001b[1G\u001b[?25h\u001b[?2026l\u001b[?2026h\u001b[?25l\u001b[A\u001b[1G\u001b[?25h\u001b[?2026l\u001b[?2026h\u001b[?25l\u001b[A\u001b[1G\u001b[?25h\u001b[?2026l\u001b[?2026h\u001b[?25l\u001b[A\u001b[1G\u001b[?25h\u001b[?2026l\u001b[?2026h\u001b[?25l\u001b[A\u001b[1G\u001b[?25h\u001b[?2026l\u001b[?2026h\u001b[?25l\u001b[A\u001b[1G\u001b[?25h\u001b[?2026l\u001b[?2026h\u001b[?25l\u001b[A\u001b[1G\u001b[?25h\u001b[?2026l\u001b[?2026h\u001b[?25l\u001b[A\u001b[1G\u001b[?25h\u001b[?2026l\u001b[?2026h\u001b[?25l\u001b[A\u001b[1G\u001b[?25h\u001b[?2026l\u001b[?2026h\u001b[?25l\u001b[A\u001b[1G\u001b[?25h\u001b[?2026l\u001b[?2026h\u001b[?25l\u001b[A\u001b[1G\u001b[?25h\u001b[?2026l\u001b[?2026h\u001b[?25l\u001b[A\u001b[1G\u001b[?25h\u001b[?2026l\u001b[?2026h\u001b[?25l\u001b[A\u001b[1G\u001b[?25h\u001b[?2026l\u001b[?2026h\u001b[?25l\u001b[A\u001b[1G\u001b[?25h\u001b[?2026l\u001b[?2026h\u001b[?25l\u001b[A\u001b[1G\u001b[?25h\u001b[?2026l\u001b[?2026h\u001b[?25l\u001b[A\u001b[1G\u001b[?25h\u001b[?2026l\u001b[?2026h\u001b[?25l\u001b[A\u001b[1G\u001b[?25h\u001b[?2026l\u001b[?2026h\u001b[?25l\u001b[A\u001b[1G\u001b[?25h\u001b[?2026l\u001b[?2026h\u001b[?25l\u001b[A\u001b[1G\u001b[?25h\u001b[?2026l\u001b[?2026h\u001b[?25l\u001b[A\u001b[1G\u001b[?25h\u001b[?2026l\u001b[?2026h\u001b[?25l\u001b[A\u001b[1G\u001b[?25h\u001b[?2026l\u001b[?2026h\u001b[?25l\u001b[A\u001b[1G\u001b[?25h\u001b[?2026l\u001b[?2026h\u001b[?25l\u001b[A\u001b[1G\u001b[?25h\u001b[?2026l\u001b[?2026h\u001b[?25l\u001b[A\u001b[1G\u001b[?25h\u001b[?2026l\u001b[?2026h\u001b[?25l\u001b[A\u001b[1G\u001b[?25h\u001b[?2026l\u001b[?2026h\u001b[?25l\u001b[A\u001b[1G\u001b[?25h\u001b[?2026l\u001b[?2026h\u001b[?25l\u001b[A\u001b[1G\u001b[?25h\u001b[?2026l\u001b[?2026h\u001b[?25l\u001b[A\u001b[1G\u001b[?25h\u001b[?2026l\u001b[?2026h\u001b[?25l\u001b[A\u001b[1G\u001b[?25h\u001b[?2026l\u001b[?2026h\u001b[?25l\u001b[A\u001b[1G\u001b[?25h\u001b[?2026l\u001b[?2026h\u001b[?25l\u001b[A\u001b[1G\u001b[?25h\u001b[?2026l\u001b[?2026h\u001b[?25l\u001b[A\u001b[1G\u001b[?25h\u001b[?2026l\u001b[?2026h\u001b[?25l\u001b[A\u001b[1G\u001b[?25h\u001b[?2026l\u001b[?2026h\u001b[?25l\u001b[A\u001b[1G\u001b[?25h\u001b[?2026l\u001b[?2026h\u001b[?25l\u001b[A\u001b[1G\u001b[?25h\u001b[?2026l\u001b[?2026h\u001b[?25l\u001b[A\u001b[A\u001b[1G\u001b[?25h\u001b[?2026l\u001b[?2026h\u001b[?25l\u001b[A\u001b[A\u001b[1G\u001b[?25h\u001b[?2026l\u001b[?2026h\u001b[?25l\u001b[A\u001b[A\u001b[1G\u001b[?25h\u001b[?2026l\u001b[?2026h\u001b[?25l\u001b[A\u001b[A\u001b[1G\u001b[?25h\u001b[?2026l\u001b[?2026h\u001b[?25l\u001b[A\u001b[A\u001b[1G\u001b[?25h\u001b[?2026l\u001b[?2026h\u001b[?25l\u001b[A\u001b[A\u001b[1G\u001b[?25h\u001b[?2026l\u001b[?2026h\u001b[?25l\u001b[A\u001b[A\u001b[1G\u001b[?25h\u001b[?2026l\u001b[?2026h\u001b[?25l\u001b[A\u001b[A\u001b[1G\u001b[?25h\u001b[?2026l\u001b[?2026h\u001b[?25l\u001b[A\u001b[A\u001b[1G\u001b[?25h\u001b[?2026l\u001b[?2026h\u001b[?25l\u001b[A\u001b[A\u001b[1G\u001b[?25h\u001b[?2026l\u001b[?2026h\u001b[?25l\u001b[A\u001b[A\u001b[1G\u001b[?25h\u001b[?2026l\u001b[?2026h\u001b[?25l\u001b[A\u001b[A\u001b[A\u001b[1G\u001b[?25h\u001b[?2026l\u001b[?2026h\u001b[?25l\u001b[A\u001b[A\u001b[A\u001b[1G\u001b[?25h\u001b[?2026l\u001b[?2026h\u001b[?25l\u001b[A\u001b[A\u001b[A\u001b[1G\u001b[?25h\u001b[?2026l\u001b[?2026h\u001b[?25l\u001b[A\u001b[A\u001b[A\u001b[1G\u001b[?25h\u001b[?2026l\u001b[?2026h\u001b[?25l\u001b[A\u001b[A\u001b[A\u001b[1G\u001b[?25h\u001b[?2026l\u001b[?2026h\u001b[?25l\u001b[A\u001b[A\u001b[A\u001b[1G\u001b[?25h\u001b[?2026l\u001b[?2026h\u001b[?25l\u001b[A\u001b[A\u001b[A\u001b[1G\u001b[?25h\u001b[?2026l\u001b[?2026h\u001b[?25l\u001b[A\u001b[A\u001b[A\u001b[1G\u001b[?25h\u001b[?2026l\u001b[?2026h\u001b[?25l\u001b[A\u001b[A\u001b[A\u001b[1G\u001b[?25h\u001b[?2026l\u001b[?2026h\u001b[?25l\u001b[A\u001b[A\u001b[A\u001b[1G\u001b[?25h\u001b[?2026l\u001b[?2026h\u001b[?25l\u001b[A\u001b[A\u001b[A\u001b[1G\u001b[?25h\u001b[?2026l\u001b[?2026h\u001b[?25l\u001b[A\u001b[A\u001b[A\u001b[1G\u001b[?25h\u001b[?2026l\u001b[?2026h\u001b[?25l\u001b[A\u001b[A\u001b[A\u001b[A\u001b[1G\u001b[?25h\u001b[?2026l\u001b[?2026h\u001b[?25l\u001b[A\u001b[A\u001b[A\u001b[A\u001b[1G\u001b[?25h\u001b[?2026l\u001b[?2026h\u001b[?25l\u001b[A\u001b[A\u001b[A\u001b[A\u001b[1G\u001b[?25h\u001b[?2026l\u001b[?2026h\u001b[?25l\u001b[A\u001b[A\u001b[A\u001b[A\u001b[1G\u001b[?25h\u001b[?2026l\u001b[?2026h\u001b[?25l\u001b[A\u001b[A\u001b[A\u001b[A\u001b[1G\u001b[?25h\u001b[?2026l\u001b[?2026h\u001b[?25l\u001b[A\u001b[A\u001b[A\u001b[A\u001b[1G\u001b[?25h\u001b[?2026l\u001b[?2026h\u001b[?25l\u001b[A\u001b[A\u001b[A\u001b[A\u001b[1G\u001b[?25h\u001b[?2026l\u001b[?2026h\u001b[?25l\u001b[A\u001b[A\u001b[A\u001b[A\u001b[1G\u001b[?25h\u001b[?2026l\u001b[?2026h\u001b[?25l\u001b[A\u001b[A\u001b[A\u001b[A\u001b[1G\u001b[?25h\u001b[?2026l\u001b[?2026h\u001b[?25l\u001b[A\u001b[A\u001b[A\u001b[A\u001b[1G\u001b[?25h\u001b[?2026l\u001b[?2026h\u001b[?25l\u001b[A\u001b[A\u001b[A\u001b[A\u001b[1G\u001b[?25h\u001b[?2026l\u001b[?2026h\u001b[?25l\u001b[A\u001b[A\u001b[A\u001b[A\u001b[1G\u001b[?25h\u001b[?2026l\u001b[?2026h\u001b[?25l\u001b[A\u001b[A\u001b[A\u001b[A\u001b[A\u001b[1G\u001b[?25h\u001b[?2026l\u001b[?2026h\u001b[?25l\u001b[A\u001b[A\u001b[A\u001b[A\u001b[A\u001b[1G\u001b[?25h\u001b[?2026l\u001b[?2026h\u001b[?25l\u001b[A\u001b[A\u001b[A\u001b[A\u001b[A\u001b[1G\u001b[?25h\u001b[?2026l\u001b[?2026h\u001b[?25l\u001b[A\u001b[A\u001b[A\u001b[A\u001b[A\u001b[1G\u001b[?25h\u001b[?2026l\u001b[?2026h\u001b[?25l\u001b[A\u001b[A\u001b[A\u001b[A\u001b[A\u001b[1G\u001b[?25h\u001b[?2026l\u001b[?2026h\u001b[?25l\u001b[A\u001b[A\u001b[A\u001b[A\u001b[A\u001b[1G\u001b[?25h\u001b[?2026l\u001b[?2026h\u001b[?25l\u001b[A\u001b[A\u001b[A\u001b[A\u001b[A\u001b[1G\u001b[?25h\u001b[?2026l\u001b[?2026h\u001b[?25l\u001b[A\u001b[A\u001b[A\u001b[A\u001b[A\u001b[1G\u001b[?25h\u001b[?2026l\u001b[?2026h\u001b[?25l\u001b[A\u001b[A\u001b[A\u001b[A\u001b[A\u001b[1G\u001b[?25h\u001b[?2026l\u001b[?2026h\u001b[?25l\u001b[A\u001b[A\u001b[A\u001b[A\u001b[A\u001b[1G\u001b[?25h\u001b[?2026l\u001b[?2026h\u001b[?25l\u001b[A\u001b[A\u001b[A\u001b[A\u001b[A\u001b[1G\u001b[?25h\u001b[?2026l\u001b[?2026h\u001b[?25l\u001b[A\u001b[A\u001b[A\u001b[A\u001b[A\u001b[1G\u001b[?25h\u001b[?2026l\u001b[?2026h\u001b[?25l\u001b[A\u001b[A\u001b[A\u001b[A\u001b[A\u001b[1G\u001b[?25h\u001b[?2026l\u001b[?2026h\u001b[?25l\u001b[A\u001b[A\u001b[A\u001b[A\u001b[A\u001b[A\u001b[1G\u001b[?25h\u001b[?2026l\u001b[?2026h\u001b[?25l\u001b[A\u001b[A\u001b[A\u001b[A\u001b[A\u001b[A\u001b[1G\u001b[?25h\u001b[?2026l\u001b[?2026h\u001b[?25l\u001b[A\u001b[A\u001b[A\u001b[A\u001b[A\u001b[A\u001b[1G\u001b[?25h\u001b[?2026l\u001b[?2026h\u001b[?25l\u001b[A\u001b[A\u001b[A\u001b[A\u001b[A\u001b[A\u001b[1G\u001b[?25h\u001b[?2026l\u001b[?2026h\u001b[?25l\u001b[A\u001b[A\u001b[A\u001b[A\u001b[A\u001b[A\u001b[1G\u001b[?25h\u001b[?2026l\u001b[?2026h\u001b[?25l\u001b[A\u001b[A\u001b[A\u001b[A\u001b[A\u001b[A\u001b[1G\u001b[?25h\u001b[?2026l\u001b[?2026h\u001b[?25l\u001b[A\u001b[A\u001b[A\u001b[A\u001b[A\u001b[A\u001b[1G\u001b[?25h\u001b[?2026l\u001b[?2026h\u001b[?25l\u001b[A\u001b[A\u001b[A\u001b[A\u001b[A\u001b[A\u001b[1G\u001b[?25h\u001b[?2026l\u001b[?2026h\u001b[?25l\u001b[A\u001b[A\u001b[A\u001b[A\u001b[A\u001b[A\u001b[1G\u001b[?25h\u001b[?2026l\u001b[?2026h\u001b[?25l\u001b[A\u001b[A\u001b[A\u001b[A\u001b[A\u001b[A\u001b[A\u001b[1G\u001b[?25h\u001b[?2026l\u001b[?2026h\u001b[?25l\u001b[A\u001b[A\u001b[A\u001b[A\u001b[A\u001b[A\u001b[A\u001b[1G\u001b[?25h\u001b[?2026l\u001b[?2026h\u001b[?25l\u001b[A\u001b[A\u001b[A\u001b[A\u001b[A\u001b[A\u001b[A\u001b[1G\u001b[?25h\u001b[?2026l\u001b[?2026h\u001b[?25l\u001b[A\u001b[A\u001b[A\u001b[A\u001b[A\u001b[A\u001b[A\u001b[1G\u001b[?25h\u001b[?2026l\u001b[?2026h\u001b[?25l\u001b[A\u001b[A\u001b[A\u001b[A\u001b[A\u001b[A\u001b[A\u001b[1G\u001b[?25h\u001b[?2026l\u001b[?2026h\u001b[?25l\u001b[A\u001b[A\u001b[A\u001b[A\u001b[A\u001b[A\u001b[A\u001b[1G\u001b[?25h\u001b[?2026l\u001b[?2026h\u001b[?25l\u001b[A\u001b[A\u001b[A\u001b[A\u001b[A\u001b[A\u001b[A\u001b[1G\u001b[?25h\u001b[?2026l\u001b[?2026h\u001b[?25l\u001b[A\u001b[A\u001b[A\u001b[A\u001b[A\u001b[A\u001b[A\u001b[1G\u001b[?25h\u001b[?2026l\u001b[?2026h\u001b[?25l\u001b[A\u001b[A\u001b[A\u001b[A\u001b[A\u001b[A\u001b[A\u001b[1G\u001b[?25h\u001b[?2026l\u001b[?2026h\u001b[?25l\u001b[A\u001b[A\u001b[A\u001b[A\u001b[A\u001b[A\u001b[A\u001b[1G\u001b[?25h\u001b[?2026l\u001b[?2026h\u001b[?25l\u001b[A\u001b[A\u001b[A\u001b[A\u001b[A\u001b[A\u001b[A\u001b[1G\u001b[?25h\u001b[?2026l\u001b[?2026h\u001b[?25l\u001b[A\u001b[A\u001b[A\u001b[A\u001b[A\u001b[A\u001b[A\u001b[1G\u001b[?25h\u001b[?2026l\u001b[?2026h\u001b[?25l\u001b[A\u001b[A\u001b[A\u001b[A\u001b[A\u001b[A\u001b[A\u001b[1G\u001b[?25h\u001b[?2026l\u001b[?2026h\u001b[?25l\u001b[A\u001b[A\u001b[A\u001b[A\u001b[A\u001b[A\u001b[A\u001b[1G\u001b[?25h\u001b[?2026l\u001b[?2026h\u001b[?25l\u001b[A\u001b[A\u001b[A\u001b[A\u001b[A\u001b[A\u001b[A\u001b[1G\u001b[?25h\u001b[?2026l\u001b[?2026h\u001b[?25l\u001b[A\u001b[A\u001b[A\u001b[A\u001b[A\u001b[A\u001b[A\u001b[1G\u001b[?25h\u001b[?2026l\u001b[?2026h\u001b[?25l\u001b[A\u001b[A\u001b[A\u001b[A\u001b[A\u001b[A\u001b[A\u001b[1G\u001b[?25h\u001b[?2026l\u001b[?2026h\u001b[?25l\u001b[A\u001b[A\u001b[A\u001b[A\u001b[A\u001b[A\u001b[A\u001b[1G\u001b[?25h\u001b[?2026l\u001b[?2026h\u001b[?25l\u001b[A\u001b[A\u001b[A\u001b[A\u001b[A\u001b[A\u001b[A\u001b[1G\u001b[?25h\u001b[?2026l\u001b[?2026h\u001b[?25l\u001b[A\u001b[A\u001b[A\u001b[A\u001b[A\u001b[A\u001b[A\u001b[1G\u001b[?25h\u001b[?2026l\u001b[?2026h\u001b[?25l\u001b[A\u001b[A\u001b[A\u001b[A\u001b[A\u001b[A\u001b[A\u001b[1G\u001b[?25h\u001b[?2026l\u001b[?2026h\u001b[?25l\u001b[A\u001b[A\u001b[A\u001b[A\u001b[A\u001b[A\u001b[A\u001b[1G\u001b[?25h\u001b[?2026l\u001b[?2026h\u001b[?25l\u001b[A\u001b[A\u001b[A\u001b[A\u001b[A\u001b[A\u001b[A\u001b[1G\u001b[?25h\u001b[?2026l\u001b[?2026h\u001b[?25l\u001b[A\u001b[A\u001b[A\u001b[A\u001b[A\u001b[A\u001b[A\u001b[1G\u001b[?25h\u001b[?2026l\u001b[?2026h\u001b[?25l\u001b[A\u001b[A\u001b[A\u001b[A\u001b[A\u001b[A\u001b[A\u001b[1G\u001b[?25h\u001b[?2026l\u001b[?2026h\u001b[?25l\u001b[A\u001b[A\u001b[A\u001b[A\u001b[A\u001b[A\u001b[A\u001b[1G\u001b[?25h\u001b[?2026l\u001b[?2026h\u001b[?25l\u001b[A\u001b[A\u001b[A\u001b[A\u001b[A\u001b[A\u001b[A\u001b[1G\u001b[?25h\u001b[?2026l\u001b[?2026h\u001b[?25l\u001b[A\u001b[A\u001b[A\u001b[A\u001b[A\u001b[A\u001b[A\u001b[1G\u001b[?25h\u001b[?2026l\u001b[?2026h\u001b[?25l\u001b[A\u001b[A\u001b[A\u001b[A\u001b[A\u001b[A\u001b[A\u001b[1G\u001b[?25h\u001b[?2026l\u001b[?2026h\u001b[?25l\u001b[A\u001b[A\u001b[A\u001b[A\u001b[A\u001b[A\u001b[A\u001b[1G\u001b[?25h\u001b[?2026l\u001b[?2026h\u001b[?25l\u001b[A\u001b[A\u001b[A\u001b[A\u001b[A\u001b[A\u001b[A\u001b[1G\u001b[?25h\u001b[?2026l\u001b[?2026h\u001b[?25l\u001b[A\u001b[A\u001b[A\u001b[A\u001b[A\u001b[A\u001b[A\u001b[1G\u001b[?25h\u001b[?2026l\u001b[?2026h\u001b[?25l\u001b[A\u001b[A\u001b[A\u001b[A\u001b[A\u001b[A\u001b[A\u001b[1G\u001b[?25h\u001b[?2026l\u001b[?2026h\u001b[?25l\u001b[A\u001b[A\u001b[A\u001b[A\u001b[A\u001b[A\u001b[A\u001b[1G\u001b[?25h\u001b[?2026l\u001b[?2026h\u001b[?25l\u001b[A\u001b[A\u001b[A\u001b[A\u001b[A\u001b[A\u001b[A\u001b[1G\u001b[?25h\u001b[?2026l\u001b[?2026h\u001b[?25l\u001b[A\u001b[A\u001b[A\u001b[A\u001b[A\u001b[A\u001b[A\u001b[1G\u001b[?25h\u001b[?2026l\u001b[?2026h\u001b[?25l\u001b[A\u001b[A\u001b[A\u001b[A\u001b[A\u001b[A\u001b[A\u001b[1G\u001b[?25h\u001b[?2026l\u001b[?2026h\u001b[?25l\u001b[A\u001b[A\u001b[A\u001b[A\u001b[A\u001b[A\u001b[A\u001b[1G\u001b[?25h\u001b[?2026l\u001b[?2026h\u001b[?25l\u001b[A\u001b[A\u001b[A\u001b[A\u001b[A\u001b[A\u001b[A\u001b[1G\u001b[?25h\u001b[?2026l\u001b[?2026h\u001b[?25l\u001b[A\u001b[A\u001b[A\u001b[A\u001b[A\u001b[A\u001b[A\u001b[1G\u001b[?25h\u001b[?2026l\u001b[?2026h\u001b[?25l\u001b[A\u001b[A\u001b[A\u001b[A\u001b[A\u001b[A\u001b[A\u001b[1G\u001b[?25h\u001b[?2026l\u001b[?2026h\u001b[?25l\u001b[A\u001b[A\u001b[A\u001b[A\u001b[A\u001b[A\u001b[A\u001b[1G\u001b[?25h\u001b[?2026l\u001b[?2026h\u001b[?25l\u001b[A\u001b[A\u001b[A\u001b[A\u001b[A\u001b[A\u001b[A\u001b[1G\u001b[?25h\u001b[?2026l\u001b[?2026h\u001b[?25l\u001b[A\u001b[A\u001b[A\u001b[A\u001b[A\u001b[A\u001b[A\u001b[1G\u001b[?25h\u001b[?2026l\u001b[?2026h\u001b[?25l\u001b[A\u001b[A\u001b[A\u001b[A\u001b[A\u001b[A\u001b[A\u001b[1G\u001b[?25h\u001b[?2026l\u001b[?2026h\u001b[?25l\u001b[A\u001b[A\u001b[A\u001b[A\u001b[A\u001b[A\u001b[A\u001b[1G\u001b[?25h\u001b[?2026l\u001b[?2026h\u001b[?25l\u001b[A\u001b[A\u001b[A\u001b[A\u001b[A\u001b[A\u001b[A\u001b[1G\u001b[?25h\u001b[?2026l\u001b[?2026h\u001b[?25l\u001b[A\u001b[A\u001b[A\u001b[A\u001b[A\u001b[A\u001b[A\u001b[1G\u001b[?25h\u001b[?2026l\u001b[?2026h\u001b[?25l\u001b[A\u001b[A\u001b[A\u001b[A\u001b[A\u001b[A\u001b[A\u001b[1G\u001b[?25h\u001b[?2026l\u001b[?2026h\u001b[?25l\u001b[A\u001b[A\u001b[A\u001b[A\u001b[A\u001b[A\u001b[A\u001b[1G\u001b[?25h\u001b[?2026l\u001b[?2026h\u001b[?25l\u001b[A\u001b[A\u001b[A\u001b[A\u001b[A\u001b[A\u001b[A\u001b[1G\u001b[?25h\u001b[?2026l\u001b[?2026h\u001b[?25l\u001b[A\u001b[A\u001b[A\u001b[A\u001b[A\u001b[A\u001b[A\u001b[1G\u001b[?25h\u001b[?2026l\u001b[?2026h\u001b[?25l\u001b[A\u001b[A\u001b[A\u001b[A\u001b[A\u001b[A\u001b[A\u001b[1G\u001b[?25h\u001b[?2026l\u001b[?2026h\u001b[?25l\u001b[A\u001b[A\u001b[A\u001b[A\u001b[A\u001b[A\u001b[A\u001b[1G\u001b[?25h\u001b[?2026l\u001b[?2026h\u001b[?25l\u001b[A\u001b[A\u001b[A\u001b[A\u001b[A\u001b[A\u001b[A\u001b[1G\u001b[?25h\u001b[?2026l\u001b[?2026h\u001b[?25l\u001b[A\u001b[A\u001b[A\u001b[A\u001b[A\u001b[A\u001b[A\u001b[1G\u001b[?25h\u001b[?2026l\u001b[?2026h\u001b[?25l\u001b[A\u001b[A\u001b[A\u001b[A\u001b[A\u001b[A\u001b[A\u001b[1G\u001b[?25h\u001b[?2026l\u001b[?2026h\u001b[?25l\u001b[A\u001b[A\u001b[A\u001b[A\u001b[A\u001b[A\u001b[A\u001b[1G\u001b[?25h\u001b[?2026l\u001b[?2026h\u001b[?25l\u001b[A\u001b[A\u001b[A\u001b[A\u001b[A\u001b[A\u001b[A\u001b[1G\u001b[?25h\u001b[?2026l\u001b[?2026h\u001b[?25l\u001b[A\u001b[A\u001b[A\u001b[A\u001b[A\u001b[A\u001b[A\u001b[1G\u001b[?25h\u001b[?2026l\u001b[?2026h\u001b[?25l\u001b[A\u001b[A\u001b[A\u001b[A\u001b[A\u001b[A\u001b[A\u001b[1G\u001b[?25h\u001b[?2026l\u001b[?2026h\u001b[?25l\u001b[A\u001b[A\u001b[A\u001b[A\u001b[A\u001b[A\u001b[A\u001b[1G\u001b[?25h\u001b[?2026l\u001b[?2026h\u001b[?25l\u001b[A\u001b[A\u001b[A\u001b[A\u001b[A\u001b[A\u001b[A\u001b[1G\u001b[?25h\u001b[?2026l\u001b[?2026h\u001b[?25l\u001b[A\u001b[A\u001b[A\u001b[A\u001b[A\u001b[A\u001b[A\u001b[1G\u001b[?25h\u001b[?2026l\u001b[?2026h\u001b[?25l\u001b[A\u001b[A\u001b[A\u001b[A\u001b[A\u001b[A\u001b[A\u001b[1G\u001b[?25h\u001b[?2026l\u001b[?2026h\u001b[?25l\u001b[A\u001b[A\u001b[A\u001b[A\u001b[A\u001b[A\u001b[A\u001b[1G\u001b[?25h\u001b[?2026l\u001b[?2026h\u001b[?25l\u001b[A\u001b[A\u001b[A\u001b[A\u001b[A\u001b[A\u001b[A\u001b[1G\u001b[?25h\u001b[?2026l\u001b[?2026h\u001b[?25l\u001b[A\u001b[A\u001b[A\u001b[A\u001b[A\u001b[A\u001b[A\u001b[1G\u001b[?25h\u001b[?2026l\u001b[?2026h\u001b[?25l\u001b[A\u001b[A\u001b[A\u001b[A\u001b[A\u001b[A\u001b[A\u001b[1G\u001b[?25h\u001b[?2026l\u001b[?2026h\u001b[?25l\u001b[A\u001b[A\u001b[A\u001b[A\u001b[A\u001b[A\u001b[A\u001b[1G\u001b[?25h\u001b[?2026l\u001b[?2026h\u001b[?25l\u001b[A\u001b[A\u001b[A\u001b[A\u001b[A\u001b[A\u001b[A\u001b[1G\u001b[?25h\u001b[?2026l\u001b[?2026h\u001b[?25l\u001b[A\u001b[A\u001b[A\u001b[A\u001b[A\u001b[A\u001b[A\u001b[1G\u001b[?25h\u001b[?2026l\u001b[?2026h\u001b[?25l\u001b[A\u001b[A\u001b[A\u001b[A\u001b[A\u001b[A\u001b[A\u001b[1G\u001b[?25h\u001b[?2026l\u001b[?2026h\u001b[?25l\u001b[A\u001b[A\u001b[A\u001b[A\u001b[A\u001b[A\u001b[A\u001b[1G\u001b[?25h\u001b[?2026l\u001b[?2026h\u001b[?25l\u001b[A\u001b[A\u001b[A\u001b[A\u001b[A\u001b[A\u001b[A\u001b[1G\u001b[?25h\u001b[?2026l\u001b[?2026h\u001b[?25l\u001b[A\u001b[A\u001b[A\u001b[A\u001b[A\u001b[A\u001b[A\u001b[1G\u001b[?25h\u001b[?2026l\u001b[?2026h\u001b[?25l\u001b[A\u001b[A\u001b[A\u001b[A\u001b[A\u001b[A\u001b[A\u001b[1G\u001b[?25h\u001b[?2026l\u001b[?2026h\u001b[?25l\u001b[A\u001b[A\u001b[A\u001b[A\u001b[A\u001b[A\u001b[A\u001b[1G\u001b[?25h\u001b[?2026l\u001b[?2026h\u001b[?25l\u001b[A\u001b[A\u001b[A\u001b[A\u001b[A\u001b[A\u001b[A\u001b[1G\u001b[?25h\u001b[?2026l\u001b[?2026h\u001b[?25l\u001b[A\u001b[A\u001b[A\u001b[A\u001b[A\u001b[A\u001b[A\u001b[1G\u001b[?25h\u001b[?2026l\u001b[?2026h\u001b[?25l\u001b[A\u001b[A\u001b[A\u001b[A\u001b[A\u001b[A\u001b[A\u001b[1G\u001b[?25h\u001b[?2026l\u001b[?2026h\u001b[?25l\u001b[A\u001b[A\u001b[A\u001b[A\u001b[A\u001b[A\u001b[A\u001b[1G\u001b[?25h\u001b[?2026l\u001b[?2026h\u001b[?25l\u001b[A\u001b[A\u001b[A\u001b[A\u001b[A\u001b[A\u001b[A\u001b[1G\u001b[?25h\u001b[?2026l\u001b[?2026h\u001b[?25l\u001b[A\u001b[A\u001b[A\u001b[A\u001b[A\u001b[A\u001b[A\u001b[1G\u001b[?25h\u001b[?2026l\u001b[?2026h\u001b[?25l\u001b[A\u001b[A\u001b[A\u001b[A\u001b[A\u001b[A\u001b[A\u001b[1G\u001b[?25h\u001b[?2026l\u001b[?2026h\u001b[?25l\u001b[A\u001b[A\u001b[A\u001b[A\u001b[A\u001b[A\u001b[A\u001b[1G\u001b[?25h\u001b[?2026l\u001b[?2026h\u001b[?25l\u001b[A\u001b[A\u001b[A\u001b[A\u001b[A\u001b[A\u001b[A\u001b[1G\u001b[?25h\u001b[?2026l\u001b[?2026h\u001b[?25l\u001b[A\u001b[A\u001b[A\u001b[A\u001b[A\u001b[A\u001b[A\u001b[1G\u001b[?25h\u001b[?2026l\u001b[?2026h\u001b[?25l\u001b[A\u001b[A\u001b[A\u001b[A\u001b[A\u001b[A\u001b[A\u001b[1G\u001b[?25h\u001b[?2026l\u001b[?2026h\u001b[?25l\u001b[A\u001b[A\u001b[A\u001b[A\u001b[A\u001b[A\u001b[A\u001b[1G\u001b[?25h\u001b[?2026l\u001b[?2026h\u001b[?25l\u001b[A\u001b[A\u001b[A\u001b[A\u001b[A\u001b[A\u001b[A\u001b[1G\u001b[?25h\u001b[?2026l\u001b[?2026h\u001b[?25l\u001b[A\u001b[A\u001b[A\u001b[A\u001b[A\u001b[A\u001b[A\u001b[1G\u001b[?25h\u001b[?2026l\u001b[?2026h\u001b[?25l\u001b[A\u001b[A\u001b[A\u001b[A\u001b[A\u001b[A\u001b[A\u001b[1G\u001b[?25h\u001b[?2026l\u001b[?2026h\u001b[?25l\u001b[A\u001b[A\u001b[A\u001b[A\u001b[A\u001b[A\u001b[A\u001b[1G\u001b[?25h\u001b[?2026l\u001b[?2026h\u001b[?25l\u001b[A\u001b[A\u001b[A\u001b[A\u001b[A\u001b[A\u001b[A\u001b[1G\u001b[?25h\u001b[?2026l\u001b[?2026h\u001b[?25l\u001b[A\u001b[A\u001b[A\u001b[A\u001b[A\u001b[A\u001b[A\u001b[1G\u001b[?25h\u001b[?2026l\u001b[?2026h\u001b[?25l\u001b[A\u001b[A\u001b[A\u001b[A\u001b[A\u001b[A\u001b[A\u001b[1G\u001b[?25h\u001b[?2026l\u001b[?2026h\u001b[?25l\u001b[A\u001b[A\u001b[A\u001b[A\u001b[A\u001b[A\u001b[A\u001b[1G\u001b[?25h\u001b[?2026l\u001b[?2026h\u001b[?25l\u001b[A\u001b[A\u001b[A\u001b[A\u001b[A\u001b[A\u001b[A\u001b[1G\u001b[?25h\u001b[?2026l\u001b[?2026h\u001b[?25l\u001b[A\u001b[A\u001b[A\u001b[A\u001b[A\u001b[A\u001b[A\u001b[1G\u001b[?25h\u001b[?2026l\u001b[?2026h\u001b[?25l\u001b[A\u001b[A\u001b[A\u001b[A\u001b[A\u001b[A\u001b[A\u001b[1G\u001b[?25h\u001b[?2026l\u001b[?2026h\u001b[?25l\u001b[A\u001b[A\u001b[A\u001b[A\u001b[A\u001b[A\u001b[A\u001b[1G\u001b[?25h\u001b[?2026l\n"
          ]
        }
      ]
    },
    {
      "cell_type": "code",
      "source": [
        "!ollama list"
      ],
      "metadata": {
        "colab": {
          "base_uri": "https://localhost:8080/"
        },
        "id": "tpese2R06Ajx",
        "outputId": "71b6b128-e6d4-452c-c0b5-65e3d1d1679e"
      },
      "execution_count": 73,
      "outputs": [
        {
          "output_type": "stream",
          "name": "stdout",
          "text": [
            "NAME                                  ID              SIZE      MODIFIED               \n",
            "scb10x/typhoon2.1-gemma3-4b:latest    8cfab9097c9d    2.6 GB    Less than a second ago    \n",
            "gemma3:270m                           e7d36fb2c3b3    291 MB    About a minute ago        \n"
          ]
        }
      ]
    },
    {
      "cell_type": "code",
      "metadata": {
        "id": "106fa03b"
      },
      "source": [
        "llm3 = OllamaLLM(model=\"scb10x/typhoon2.1-gemma3-4b\")"
      ],
      "execution_count": 74,
      "outputs": []
    },
    {
      "cell_type": "code",
      "source": [
        "keyword_extract = keyword_prompt | llm3 | StrOutputParser()"
      ],
      "metadata": {
        "id": "geSXEM-W6O_D"
      },
      "execution_count": 75,
      "outputs": []
    },
    {
      "cell_type": "code",
      "source": [
        "%%time\n",
        "results = []\n",
        "for review in sample_reviews:\n",
        "    text = keyword_extract.invoke({\"review\": review})\n",
        "    cleaned = (text).replace(\"**\", \"\").strip()\n",
        "    results.append({\"review\": review, \"text\": cleaned})"
      ],
      "metadata": {
        "colab": {
          "base_uri": "https://localhost:8080/"
        },
        "id": "FJx7xIMN6xx1",
        "outputId": "fa08af1a-fafe-4ee8-9214-679362bede26"
      },
      "execution_count": 76,
      "outputs": [
        {
          "output_type": "stream",
          "name": "stdout",
          "text": [
            "CPU times: user 101 ms, sys: 15.2 ms, total: 116 ms\n",
            "Wall time: 17.8 s\n"
          ]
        }
      ]
    },
    {
      "cell_type": "code",
      "source": [
        "for result in results:\n",
        "    print(f\"Review {result['review'][:100]}...\")\n",
        "    print(f\"text {result['text']}\\n\")"
      ],
      "metadata": {
        "colab": {
          "base_uri": "https://localhost:8080/"
        },
        "id": "IhbFtNxY6zTI",
        "outputId": "a9ef5791-f451-4acd-e14d-9ac9f99b0503"
      },
      "execution_count": 77,
      "outputs": [
        {
          "output_type": "stream",
          "name": "stdout",
          "text": [
            "Review ร้านอาหารใหญ่มากกกกกกก \n",
            "เลี้ยวเข้ามาเจอห้องน้ำก่อนเลย เออแปลกดี \n",
            "ห้องทานหลักๆอยู่ชั้น 2 มีกาแฟ น้ำผึ...\n",
            "text แน่นอนครับ ผมจะทำตามขั้นตอนที่คุณระบุมาเพื่อดึงคำสำคัญจากรีวิวนี้ และนำเสนอในรูปแบบ JSON ดังนี้ครับ\n",
            "\n",
            "ขั้นตอนที่ 1: อ่านรีวิวและเข้าใจความหมาย\n",
            "\n",
            "รีวิวนี้เป็นการรีวิวร้านอาหารที่มีขนาดใหญ่ มีข้อดีและข้อเสียหลายอย่าง เช่น อาหารบางอย่างอร่อย (ทอดมันหัวปลี, พะแนงห่อไข่) แต่มีข้อเสียคือราคาสูงเกินไป และอาหารบางอย่างไม่ถูกใจ (ลาบไข่ต้ม)\n",
            "\n",
            "ขั้นตอนที่ 2: ระบุหัวข้อหลักที่กล่าวถึง\n",
            "\n",
            "*   ขนาดร้าน\n",
            "*   ราคา\n",
            "*   รสชาติอาหาร (โดยเฉพาะทอดมันหัวปลีและพะแนงห่อไข่)\n",
            "*   ขนมหวานฟรี\n",
            "\n",
            "ขั้นตอนที่ 3: เลือก 3 keywords ที่สำคัญที่สุด\n",
            "\n",
            "1.  ราคา\n",
            "2.  รสชาติ\n",
            "3.  ขนาด\n",
            "\n",
            "ขั้นตอนที่ 4: ตอบในรูปแบบ JSON\n",
            "\n",
            "```json\n",
            "{\n",
            "  \"keywords\": [\"ราคา\", \"รสชาติ\", \"ขนาด\"]\n",
            "}\n",
            "```\n",
            "\n",
            "หวังว่าคำตอบนี้จะเป็นประโยชน์นะครับ หากคุณมีคำถามเพิ่มเติม หรือต้องการให้ผมช่วยอะไรอีก สามารถบอกได้เลยครับ\n",
            "\n",
            "Review วันนี้ได้มีโอกาสไปนั่งซดกาแฟที่ร้านวาวี แถวๆอารีย์\n",
            "\n",
            "ก็ได้ยินมาบ่อยๆละ จากหลายที่ แต่ที่บ่อยสุดก็จาก ...\n",
            "text แน่นอนครับ ผมจะทำตามขั้นตอนที่คุณแนะนำมาเพื่อดึงคำหลักจากรีวิวนี้ครับ\n",
            "\n",
            "ขั้นตอนที่ 1: อ่านรีวิวและเข้าใจความหมาย\n",
            "\n",
            "รีวิวนี้พูดถึงประสบการณ์การไปดื่มกาแฟที่ร้าน \"วาวี\" ในย่านอารีย์ โดยเน้นไปที่รสชาติ กาแฟ บรรยากาศ บริการ และความคุ้มค่า\n",
            "\n",
            "ขั้นตอนที่ 2: ระบุหัวข้อหลักที่กล่าวถึง\n",
            "\n",
            "หัวข้อหลักที่กล่าวถึงในรีวิวนี้ ได้แก่:\n",
            "*   รสชาติกาแฟ (ลาเต้, กาแฟวาวี, Coco ปั่น)\n",
            "*   บรรยากาศร้าน\n",
            "*   บริการ\n",
            "*   ราคา\n",
            "\n",
            "ขั้นตอนที่ 3: เลือก 3 keywords ที่สำคัญที่สุด\n",
            "\n",
            "จากหัวข้อหลักที่กล่าวถึง ผมเลือกคำหลัก 3 คำที่สำคัญที่สุดดังนี้:\n",
            "\n",
            "1.  กาแฟ\n",
            "2.  วาวี\n",
            "3.  บรรยากาศ\n",
            "\n",
            "ขั้นตอนที่ 4: ตอบในรูปแบบ JSON\n",
            "\n",
            "```json\n",
            "{\n",
            "  \"keywords\": [\"กาแฟ\", \"วาวี\", \"บรรยากาศ\"]\n",
            "}\n",
            "```\n",
            "\n",
            "หวังว่าคำตอบนี้จะเป็นประโยชน์นะครับ หากคุณมีคำถามเพิ่มเติมหรือต้องการให้ผมช่วยอะไรอีก โปรดแจ้งให้ทราบได้เลยครับ\n",
            "\n"
          ]
        }
      ]
    },
    {
      "cell_type": "code",
      "source": [
        "from pydantic import BaseModel, Field\n",
        "from langchain_core.output_parsers import JsonOutputParser\n",
        "\n",
        "class ReviewKeywords(BaseModel):\n",
        "    keywords: str = Field(\n",
        "        ...,  # Required field\n",
        "        description=\"3 keywords separated by comma\",\n",
        "        examples=[\"กาแฟ, บรรยากาศ, ราคา\"]\n",
        "    )\n",
        "\n",
        "class KeywordsExtraction(BaseModel):\n",
        "    extracted_qualities: ReviewKeywords"
      ],
      "metadata": {
        "id": "8gv_Gi3O7FpG"
      },
      "execution_count": 78,
      "outputs": []
    },
    {
      "cell_type": "code",
      "source": [
        "keywords_parser = JsonOutputParser(pydantic_object=KeywordsExtraction)"
      ],
      "metadata": {
        "id": "Nm0fvM1w7caA"
      },
      "execution_count": 79,
      "outputs": []
    },
    {
      "cell_type": "code",
      "source": [
        "keyword_extract = keyword_prompt | llm3 | keywords_parser"
      ],
      "metadata": {
        "id": "85Pmz1es7d2a"
      },
      "execution_count": 80,
      "outputs": []
    },
    {
      "cell_type": "code",
      "source": [
        "%%time\n",
        "results = []\n",
        "for review in sample_reviews:\n",
        "    text = keyword_extract.invoke({\"review\": review})\n",
        "    results.append({\"review\": review, \"text\": text})"
      ],
      "metadata": {
        "colab": {
          "base_uri": "https://localhost:8080/"
        },
        "id": "ATndJAGZ7fKI",
        "outputId": "253f662d-2ffc-40bd-cdd7-bbe777da04ad"
      },
      "execution_count": 81,
      "outputs": [
        {
          "output_type": "stream",
          "name": "stdout",
          "text": [
            "CPU times: user 142 ms, sys: 11.7 ms, total: 154 ms\n",
            "Wall time: 13 s\n"
          ]
        }
      ]
    },
    {
      "cell_type": "code",
      "source": [
        "results[0]['text']['keywords']"
      ],
      "metadata": {
        "colab": {
          "base_uri": "https://localhost:8080/"
        },
        "id": "M7VYn58P7ggG",
        "outputId": "3f4d04dd-e264-4a23-fcbf-c3af9a93419e"
      },
      "execution_count": 82,
      "outputs": [
        {
          "output_type": "execute_result",
          "data": {
            "text/plain": [
              "['ราคา', 'อาหาร', 'ขนาด']"
            ]
          },
          "metadata": {},
          "execution_count": 82
        }
      ]
    },
    {
      "cell_type": "code",
      "source": [
        "results[1]['text']['keywords']"
      ],
      "metadata": {
        "colab": {
          "base_uri": "https://localhost:8080/"
        },
        "id": "vZvxoVDF7kCh",
        "outputId": "8eefa19d-8805-4305-d544-808465306b7f"
      },
      "execution_count": 83,
      "outputs": [
        {
          "output_type": "execute_result",
          "data": {
            "text/plain": [
              "['วาวี', 'กาแฟ', 'อารีย์']"
            ]
          },
          "metadata": {},
          "execution_count": 83
        }
      ]
    },
    {
      "cell_type": "code",
      "source": [
        "llm3 = OllamaLLM(\n",
        "    model=\"scb10x/typhoon2.1-gemma3-4b\",\n",
        "    temperature=0.05\n",
        ")\n",
        "\n",
        "keyword_extract = keyword_prompt | llm3 | keywords_parser"
      ],
      "metadata": {
        "id": "sAldfWxs7lsP"
      },
      "execution_count": 84,
      "outputs": []
    },
    {
      "cell_type": "code",
      "source": [
        "%%time\n",
        "results = []\n",
        "for review in sample_reviews:\n",
        "    text = keyword_extract.invoke({\"review\": review})\n",
        "    results.append({\"review\": review, \"text\": text})"
      ],
      "metadata": {
        "colab": {
          "base_uri": "https://localhost:8080/"
        },
        "id": "_Xf9zpNf7ngp",
        "outputId": "d4450c50-ffd7-4796-ca08-14284b302a26"
      },
      "execution_count": 85,
      "outputs": [
        {
          "output_type": "stream",
          "name": "stdout",
          "text": [
            "CPU times: user 137 ms, sys: 6.5 ms, total: 143 ms\n",
            "Wall time: 12.9 s\n"
          ]
        }
      ]
    },
    {
      "cell_type": "code",
      "source": [
        "results[0]['text']['keywords'], results[1]['text']['keywords']"
      ],
      "metadata": {
        "colab": {
          "base_uri": "https://localhost:8080/"
        },
        "id": "6ggvHBFa7pJg",
        "outputId": "a18ccbfe-0465-4a4a-8237-661b3b549d2f"
      },
      "execution_count": 86,
      "outputs": [
        {
          "output_type": "execute_result",
          "data": {
            "text/plain": [
              "(['ราคา', 'อาหาร', 'ขนาด'], ['กาแฟ', 'บรรยากาศ', 'รสชาติ'])"
            ]
          },
          "metadata": {},
          "execution_count": 86
        }
      ]
    },
    {
      "cell_type": "code",
      "source": [
        "keyword_prompt = PromptTemplate(\n",
        "    template=\"\"\"จาก Review ต่อไปนี้\n",
        "    Extract keywords 3 keywords เท่านั้น ที่เป็นตัวแทนของ Review นี้ได้ดีที่สุด\n",
        "\n",
        "    Review: {review}\n",
        "\n",
        "    ตอบในรูปแบบ JSON โดยมีคีย์เป็น 'keywords'\n",
        "    และค่าเป็นข้อความที่ดึงได้คั่นด้วย comma\n",
        "    เช่น {{\"keywords\": \"กาแฟ, บรรยากาศ, ราคา\"}}\n",
        "\n",
        "    หากไม่พบข้อมูลให้ตอบ 'ไม่ระบุ'\n",
        "    \"\"\"\n",
        ")"
      ],
      "metadata": {
        "id": "T8IacU0Z7r7K"
      },
      "execution_count": 87,
      "outputs": []
    },
    {
      "cell_type": "code",
      "source": [
        "keyword_extract = keyword_prompt | llm3 | keywords_parser"
      ],
      "metadata": {
        "id": "X0xkWujd7utA"
      },
      "execution_count": 88,
      "outputs": []
    },
    {
      "cell_type": "code",
      "source": [
        "inputs = [{\"review\": r} for r in sample_reviews]"
      ],
      "metadata": {
        "id": "Y1y2Y76f7wFT"
      },
      "execution_count": 89,
      "outputs": []
    },
    {
      "cell_type": "code",
      "source": [
        "%%time\n",
        "results = keyword_extract.batch(inputs)"
      ],
      "metadata": {
        "colab": {
          "base_uri": "https://localhost:8080/"
        },
        "id": "b4X7nnWa7xgn",
        "outputId": "00e3c8a6-e340-4b54-bc29-c04d7e1d0b4b"
      },
      "execution_count": 90,
      "outputs": [
        {
          "output_type": "stream",
          "name": "stdout",
          "text": [
            "CPU times: user 17.9 ms, sys: 3.12 ms, total: 21.1 ms\n",
            "Wall time: 2.4 s\n"
          ]
        }
      ]
    },
    {
      "cell_type": "code",
      "source": [
        "results"
      ],
      "metadata": {
        "colab": {
          "base_uri": "https://localhost:8080/"
        },
        "id": "HYNUdKF67zBI",
        "outputId": "27d54718-ce4f-4815-d31d-1b45f77a8f81"
      },
      "execution_count": 91,
      "outputs": [
        {
          "output_type": "execute_result",
          "data": {
            "text/plain": [
              "[{'keywords': 'ราคา, บรรยากาศ, ไข่ต้ม'},\n",
              " {'keywords': 'กาแฟ, บรรยากาศ, รสชาติ'}]"
            ]
          },
          "metadata": {},
          "execution_count": 91
        }
      ]
    },
    {
      "cell_type": "code",
      "source": [
        "sample_reviews_100 = coffee_reviews_df['column0'].iloc[0:200].tolist()\n",
        "inputs_100 = [{\"review\": r} for r in sample_reviews_100]\n",
        "\n",
        "BATCH_SIZE = 8\n",
        "\n",
        "results_100 = []"
      ],
      "metadata": {
        "id": "RkOrcZlL70te"
      },
      "execution_count": 92,
      "outputs": []
    },
    {
      "cell_type": "code",
      "source": [
        "from tqdm import tqdm\n",
        "\n",
        "for i in tqdm(range(0, len(inputs_100), BATCH_SIZE), desc=\"Extracting keywords\"):\n",
        "    batch = inputs_100[i:i+BATCH_SIZE]\n",
        "    outputs = keyword_extract.batch(batch)\n",
        "    for inp, out in zip(batch, outputs):\n",
        "        results_100.append({\"review\": inp[\"review\"], \"text\": out})"
      ],
      "metadata": {
        "colab": {
          "base_uri": "https://localhost:8080/"
        },
        "id": "P7QhJ9y2qufe",
        "outputId": "5f3eb2bd-4021-498c-ea5a-24580a6ded77"
      },
      "execution_count": 95,
      "outputs": [
        {
          "output_type": "stream",
          "name": "stderr",
          "text": [
            "Extracting keywords: 100%|██████████| 25/25 [04:26<00:00, 10.68s/it]\n"
          ]
        }
      ]
    },
    {
      "cell_type": "code",
      "source": [
        "import pandas as pd\n",
        "df = pd.DataFrame(results_100)\n",
        "df.to_csv(\"results_part1.csv\", index=False, encoding='utf-8-sig')"
      ],
      "metadata": {
        "id": "AkbB4k85qBHv"
      },
      "execution_count": 96,
      "outputs": []
    },
    {
      "cell_type": "code",
      "source": [
        "sample_reviews_100 = coffee_reviews_df['column0'].iloc[200:400].tolist()\n",
        "inputs_100 = [{\"review\": r} for r in sample_reviews_100]\n",
        "BATCH_SIZE = 8\n",
        "results_100 = []"
      ],
      "metadata": {
        "id": "dBzonU3ums1Y"
      },
      "execution_count": 97,
      "outputs": []
    },
    {
      "cell_type": "code",
      "source": [
        "for i in tqdm(range(0, len(inputs_100), BATCH_SIZE), desc=\"Extracting keywords\"):\n",
        "    batch = inputs_100[i:i+BATCH_SIZE]\n",
        "    outputs = keyword_extract.batch(batch)\n",
        "    for inp, out in zip(batch, outputs):\n",
        "        results_100.append({\"review\": inp[\"review\"], \"text\": out})\n"
      ],
      "metadata": {
        "colab": {
          "base_uri": "https://localhost:8080/"
        },
        "id": "8Hj-woXnqwwY",
        "outputId": "e20f4b6b-f291-4f52-f16d-21bf366afd05"
      },
      "execution_count": 98,
      "outputs": [
        {
          "output_type": "stream",
          "name": "stderr",
          "text": [
            "Extracting keywords: 100%|██████████| 25/25 [04:12<00:00, 10.11s/it]\n"
          ]
        }
      ]
    },
    {
      "cell_type": "code",
      "source": [
        "import pandas as pd\n",
        "df = pd.DataFrame(results_100)\n",
        "df.to_csv(\"results_part2.csv\", index=False, encoding='utf-8-sig')"
      ],
      "metadata": {
        "id": "fHfjd2zzqDC6"
      },
      "execution_count": 99,
      "outputs": []
    },
    {
      "cell_type": "code",
      "source": [
        "sample_reviews_100 = coffee_reviews_df['column0'].iloc[400:600].tolist()\n",
        "inputs_100 = [{\"review\": r} for r in sample_reviews_100]\n",
        "BATCH_SIZE = 8\n",
        "results_100 = []"
      ],
      "metadata": {
        "id": "PzTOKbZKrpAO"
      },
      "execution_count": 100,
      "outputs": []
    },
    {
      "cell_type": "code",
      "source": [
        "for i in tqdm(range(0, len(inputs_100), BATCH_SIZE), desc=\"Extracting keywords\"):\n",
        "    batch = inputs_100[i:i+BATCH_SIZE]\n",
        "    outputs = keyword_extract.batch(batch)\n",
        "    for inp, out in zip(batch, outputs):\n",
        "        results_100.append({\"review\": inp[\"review\"], \"text\": out})\n"
      ],
      "metadata": {
        "colab": {
          "base_uri": "https://localhost:8080/"
        },
        "id": "3u_7V8oVrurm",
        "outputId": "645e4016-14a0-4774-bb4f-73acbaaa7814"
      },
      "execution_count": 101,
      "outputs": [
        {
          "output_type": "stream",
          "name": "stderr",
          "text": [
            "Extracting keywords: 100%|██████████| 25/25 [04:05<00:00,  9.84s/it]\n"
          ]
        }
      ]
    },
    {
      "cell_type": "code",
      "source": [
        "import pandas as pd\n",
        "df = pd.DataFrame(results_100)\n",
        "df.to_csv(\"results_part3.csv\", index=False, encoding='utf-8-sig')"
      ],
      "metadata": {
        "id": "V4iQqGP7rwm1"
      },
      "execution_count": 102,
      "outputs": []
    },
    {
      "cell_type": "code",
      "source": [
        "sample_reviews_100 = coffee_reviews_df['column0'].iloc[600:800].tolist()\n",
        "inputs_100 = [{\"review\": r} for r in sample_reviews_100]\n",
        "BATCH_SIZE = 8\n",
        "results_100 = []"
      ],
      "metadata": {
        "id": "qLQEFuXmms9p"
      },
      "execution_count": 103,
      "outputs": []
    },
    {
      "cell_type": "code",
      "source": [
        "for i in tqdm(range(0, len(inputs_100), BATCH_SIZE), desc=\"Extracting keywords\"):\n",
        "    batch = inputs_100[i:i+BATCH_SIZE]\n",
        "    outputs = keyword_extract.batch(batch)\n",
        "    for inp, out in zip(batch, outputs):\n",
        "        results_100.append({\"review\": inp[\"review\"], \"text\": out})\n"
      ],
      "metadata": {
        "colab": {
          "base_uri": "https://localhost:8080/"
        },
        "id": "aKg679WtqynX",
        "outputId": "cb79a829-e751-404e-f9a7-e1ac2f43aec0"
      },
      "execution_count": 104,
      "outputs": [
        {
          "output_type": "stream",
          "name": "stderr",
          "text": [
            "Extracting keywords: 100%|██████████| 25/25 [04:09<00:00,  9.98s/it]\n"
          ]
        }
      ]
    },
    {
      "cell_type": "code",
      "source": [
        "import pandas as pd\n",
        "df = pd.DataFrame(results_100)\n",
        "df.to_csv(\"results_part4.csv\", index=False, encoding='utf-8-sig')"
      ],
      "metadata": {
        "id": "kfSLeBFdqFXO"
      },
      "execution_count": 105,
      "outputs": []
    },
    {
      "cell_type": "code",
      "source": [
        "sample_reviews_100 = coffee_reviews_df['column0'].iloc[800:1000].tolist()\n",
        "inputs_100 = [{\"review\": r} for r in sample_reviews_100]\n",
        "BATCH_SIZE = 8\n",
        "results_100 = []"
      ],
      "metadata": {
        "id": "moQBfeuumtFQ"
      },
      "execution_count": 106,
      "outputs": []
    },
    {
      "cell_type": "code",
      "source": [
        "for i in tqdm(range(0, len(inputs_100), BATCH_SIZE), desc=\"Extracting keywords\"):\n",
        "    batch = inputs_100[i:i+BATCH_SIZE]\n",
        "    outputs = keyword_extract.batch(batch)\n",
        "    for inp, out in zip(batch, outputs):\n",
        "        results_100.append({\"review\": inp[\"review\"], \"text\": out})\n"
      ],
      "metadata": {
        "colab": {
          "base_uri": "https://localhost:8080/"
        },
        "id": "nM3VaNgqq0F_",
        "outputId": "c2a32c4e-5841-4f6c-c9e7-6e4f3f29681b"
      },
      "execution_count": 107,
      "outputs": [
        {
          "output_type": "stream",
          "name": "stderr",
          "text": [
            "Extracting keywords: 100%|██████████| 25/25 [03:59<00:00,  9.59s/it]\n"
          ]
        }
      ]
    },
    {
      "cell_type": "code",
      "source": [
        "import pandas as pd\n",
        "df = pd.DataFrame(results_100)\n",
        "df.to_csv(\"results_part5.csv\", index=False, encoding='utf-8-sig')"
      ],
      "metadata": {
        "id": "i9XGPzhfqHjU"
      },
      "execution_count": 108,
      "outputs": []
    },
    {
      "cell_type": "code",
      "source": [
        "#from tqdm import tqdm"
      ],
      "metadata": {
        "id": "DDICM4pz72E2"
      },
      "execution_count": 94,
      "outputs": []
    },
    {
      "cell_type": "code",
      "source": [
        "for i in tqdm(range(0, len(inputs_100), BATCH_SIZE), desc=\"Extracting keywords\"):\n",
        "    batch = inputs_100[i:i+BATCH_SIZE]\n",
        "    outputs = keyword_extract.batch(batch)\n",
        "    for inp, out in zip(batch, outputs):\n",
        "        results_100.append({\"review\": inp[\"review\"], \"text\": out})"
      ],
      "metadata": {
        "colab": {
          "base_uri": "https://localhost:8080/"
        },
        "id": "vjXvNL7S73R2",
        "outputId": "1d26cbad-cd6f-42a7-d106-044acef13eda"
      },
      "execution_count": 109,
      "outputs": [
        {
          "output_type": "stream",
          "name": "stderr",
          "text": [
            "Extracting keywords: 100%|██████████| 25/25 [03:59<00:00,  9.58s/it]\n"
          ]
        }
      ]
    },
    {
      "cell_type": "code",
      "source": [
        "for result in results_100[0:10]:\n",
        "    print(result['text']['keywords'])"
      ],
      "metadata": {
        "colab": {
          "base_uri": "https://localhost:8080/"
        },
        "id": "envcf_qX74ck",
        "outputId": "5a4c654c-990b-4500-83e3-3228d0953aac"
      },
      "execution_count": 110,
      "outputs": [
        {
          "output_type": "stream",
          "name": "stdout",
          "text": [
            "ช็อกโกแลต, เค้ก, ขนมหวาน\n",
            "สนามบิน, ร้านอาหาร, บรรยากาศ\n",
            "กาแฟ, เค้ก, บรรยากาศ\n",
            "อาหารอิตาเลียน, บรรยากาศ, พิซซ่า\n",
            "บรรยากาศ, ฟิวชั่น, ราคา\n",
            "บรรยากาศ, ส้มตำ, รสชาติ\n",
            "กาแฟ, เอ็กซ์เพรสโซ่, กลิ่น\n",
            "วาฟเฟิล, กาแฟ, ไซรัป\n",
            "กาแฟ, โปรโมชั่น, คนเยอะ\n",
            "อาหารฝรั่ง, ชีสทอด, ฮันนี่โทส\n"
          ]
        }
      ]
    },
    {
      "cell_type": "code",
      "source": [
        "context_prompt = PromptTemplate(\n",
        "    template=\"\"\"จาก Review ต่อไปนี้\n",
        "    Extract context ใน Review ที่เป็นตัวแทนที่บรรยายคำว่า {keyword} ได้ดีที่สุด\n",
        "\n",
        "    Review: {review}\n",
        "\n",
        "    ตอบผลลัพธ์ในรูปแบบ JSON โดยมีคีย์เป็น 'context'\n",
        "    และค่าเป็นข้อความที่ดึงได้จาก Review\n",
        "\n",
        "    ตัวอย่าง\n",
        "    keyword คือ \"กาแฟ\"\n",
        "    context: \"กาแฟที่นี่อร่อยมาก หอมกลิ่นกาแฟคั่วสด\"\n",
        "\n",
        "    หากไม่พบข้อมูลให้ตอบ 'ไม่ระบุ'\n",
        "    \"\"\"\n",
        ")"
      ],
      "metadata": {
        "id": "b39uuDDd8vzL"
      },
      "execution_count": 111,
      "outputs": []
    },
    {
      "cell_type": "code",
      "source": [
        "sentiment_prompt = PromptTemplate(\n",
        "    template=\"\"\"จากข้อความต่อไปนี้ ให้วิเคราะห์ว่าเป็น sentiment แบบไหน\n",
        "    เลือกจากตัวเลือกเหล่านี้เท่านั้น: \"positive\", \"negative\", \"neutral\"\n",
        "\n",
        "    ข้อความ: {message}\n",
        "\n",
        "    ตอบในรูปแบบ JSON โดยมีคีย์เป็น 'sentiment'\n",
        "    และค่าเป็นหนึ่งใน list ต่อไปนี้ [positive, negative, neutral]\n",
        "\n",
        "    คำแนะนำ\n",
        "    - positive คือ ข้อความที่แสดงความพอใจ ชอบ ดี\n",
        "    - negative คือ ข้อความที่แสดงความไม่พอใจ ไม่ชอบ แย่\n",
        "    - neutral คือ ข้อความที่ไม่แสดงความรู้สึกชัดเจน เป็นกลาง\n",
        "\n",
        "    # ตัวอย่าง\n",
        "    # ข้อความ \"อร่อยมาก\" → {{\"sentiment\": \"positive\"}}\n",
        "    # ข้อความ \"แพงไป\" → {{\"sentiment\": \"negative\"}}\n",
        "    # ข้อความ \"ปกติ\" → {{\"sentiment\": \"neutral\"}}\n",
        "    \"\"\"\n",
        ")\n"
      ],
      "metadata": {
        "id": "GESaDv6B82DP"
      },
      "execution_count": 112,
      "outputs": []
    },
    {
      "cell_type": "code",
      "source": [
        "class ContextKeyword(BaseModel):\n",
        "    context: str = Field(..., description=\"context that best represent this keyword\")\n",
        "\n",
        "class ContexExtraction(BaseModel):\n",
        "    extracted: ContextKeyword\n",
        "\n",
        "context_parser = JsonOutputParser(pydantic_object=ContexExtraction)"
      ],
      "metadata": {
        "id": "Atc14ggl84PJ"
      },
      "execution_count": 113,
      "outputs": []
    },
    {
      "cell_type": "code",
      "source": [
        "context_extract = context_prompt | llm3 | context_parser"
      ],
      "metadata": {
        "id": "FWv9d2vL852X"
      },
      "execution_count": 114,
      "outputs": []
    },
    {
      "cell_type": "code",
      "source": [
        "class Sentiment(BaseModel):\n",
        "    sentiment: str = Field(..., description=\"sentiment of review\")\n",
        "\n",
        "class SentimentExtraction(BaseModel):\n",
        "    extracted: Sentiment\n",
        "\n",
        "\n",
        "sentiment_parser = JsonOutputParser(pydantic_object=SentimentExtraction)"
      ],
      "metadata": {
        "id": "02Y1yWbw87Yx"
      },
      "execution_count": 115,
      "outputs": []
    },
    {
      "cell_type": "code",
      "source": [
        "sentiment_extract = sentiment_prompt | llm3 | sentiment_parser"
      ],
      "metadata": {
        "id": "OgQCVBNe88yu"
      },
      "execution_count": 116,
      "outputs": []
    },
    {
      "cell_type": "code",
      "source": [
        "results_100[0]['text']['keywords'].split(',')"
      ],
      "metadata": {
        "colab": {
          "base_uri": "https://localhost:8080/"
        },
        "id": "O61TEYc189_q",
        "outputId": "3d367785-0a84-4a0a-d74a-41c09c2a535e"
      },
      "execution_count": 117,
      "outputs": [
        {
          "output_type": "execute_result",
          "data": {
            "text/plain": [
              "['ช็อกโกแลต', ' เค้ก', ' ขนมหวาน']"
            ]
          },
          "metadata": {},
          "execution_count": 117
        }
      ]
    },
    {
      "cell_type": "code",
      "source": [
        "context_inputs = []\n",
        "\n",
        "for review_data in tqdm(results_100, desc=\"Preparing context inputs\"):\n",
        "    review = review_data['review']\n",
        "    keywords = review_data['text']['keywords'].split(',')\n",
        "    for keyword in keywords:\n",
        "        context_inputs.append({\"review\": review, \"keyword\": keyword.strip()})"
      ],
      "metadata": {
        "colab": {
          "base_uri": "https://localhost:8080/"
        },
        "id": "6uHystoW8_Kr",
        "outputId": "2a0e69ac-da14-4a1b-c4f2-f2c16aaea86f"
      },
      "execution_count": 118,
      "outputs": [
        {
          "output_type": "stream",
          "name": "stderr",
          "text": [
            "Preparing context inputs: 100%|██████████| 400/400 [00:00<00:00, 168835.83it/s]\n"
          ]
        }
      ]
    },
    {
      "cell_type": "code",
      "source": [
        "len(context_inputs)"
      ],
      "metadata": {
        "colab": {
          "base_uri": "https://localhost:8080/"
        },
        "id": "gojS1V5v9FO9",
        "outputId": "e1e05a4f-781f-40ea-ae6a-69f6353db6b3"
      },
      "execution_count": 119,
      "outputs": [
        {
          "output_type": "execute_result",
          "data": {
            "text/plain": [
              "1200"
            ]
          },
          "metadata": {},
          "execution_count": 119
        }
      ]
    },
    {
      "cell_type": "code",
      "source": [
        "context_results = []\n",
        "for i in tqdm(range(len(results_100)), desc=\"Extracting contexts\"):\n",
        "   result = context_extract.batch(context_inputs[i*3:(i*3)+3])\n",
        "   contexts_list = [d['context'] for d in result]\n",
        "   results_100[i]['contexts'] = contexts_list"
      ],
      "metadata": {
        "colab": {
          "base_uri": "https://localhost:8080/"
        },
        "id": "r3XkW4T_9K1-",
        "outputId": "1f199095-e307-4bb0-d54c-7d70b41a0dad"
      },
      "execution_count": 120,
      "outputs": [
        {
          "output_type": "stream",
          "name": "stderr",
          "text": [
            "Extracting contexts: 100%|██████████| 400/400 [28:40<00:00,  4.30s/it]\n"
          ]
        }
      ]
    },
    {
      "cell_type": "code",
      "source": [
        "results_100[:2]"
      ],
      "metadata": {
        "colab": {
          "base_uri": "https://localhost:8080/"
        },
        "id": "UUwufyj99M3i",
        "outputId": "d7c486b8-ab29-4120-cba6-b87aef459936"
      },
      "execution_count": 121,
      "outputs": [
        {
          "output_type": "execute_result",
          "data": {
            "text/plain": [
              "[{'review': 'Chocolate crape cake with strawberry 145฿\\nDark chocolate Ganache cake 145฿\\n\\nบริการแบบ งงๆ แบบมีหลายเคาร์เตอร์ \\n\\nขนมอร่อย ร้านตกแต่งสวย มีทั้งอาหาร ขนม กาแฟ มีของ grocery ให้ซื้อไป cook เองที่บ้านได้ \\n\\nอิ่มคาวมาจากร้านข้างบนแล้ว มาต่อแค่ขนมหวาน 2 ชิ้นเท่านั้น แต่ฟินง่ะ\\n\\nแอบอ่านรีวิวก่อนหน้า ส่วนใหญ่จะ complain อาหารคาว',\n",
              "  'text': {'keywords': 'ช็อกโกแลต, เค้ก, ขนมหวาน'},\n",
              "  'contexts': ['ช็อกโกแลต', 'เค้กช็อกโกแลตครีมเค้กช็อกโกแลตดำ', 'ขนมอร่อย']},\n",
              " {'review': 'ถ้ามีโอกาสมาสนามบิน ห้ามพลาด ร้านอาหารเล็กๆ มีให้เลือกทั้งก๋วยเตี๋ยว ส้มตำ น้ำตก อาหารจานเดียว หรือกาแฟสด น้ำผลไม้ต่างๆ ให้เลือกหลากหลาย อีกทั้งบรรยากาศดีเหมือนอยู่ในท้องนา ภายในสนามบินยังมีสินค้าจำหน่ายย่อมๆ ให้ซื้อเป็นที่ระลึก และยังมีสวนสัตว์ย่อมๆ ไว้ให้เพลิดเพลินด้วย',\n",
              "  'text': {'keywords': 'สนามบิน, ร้านอาหาร, บรรยากาศ'},\n",
              "  'contexts': ['สนามบิน', 'ร้านอาหารเล็กๆ', 'บรรยากาศดีเหมือนอยู่ในท้องนา']}]"
            ]
          },
          "metadata": {},
          "execution_count": 121
        }
      ]
    },
    {
      "cell_type": "code",
      "source": [
        "sentiment_inputs = []\n",
        "\n",
        "for review_data in tqdm(results_100, desc=\"Preparing sentiment inputs\"):\n",
        "    contexts = review_data['contexts']\n",
        "    for context in contexts:\n",
        "        sentiment_inputs.append({\"message\": context})"
      ],
      "metadata": {
        "colab": {
          "base_uri": "https://localhost:8080/"
        },
        "id": "aIkF6Kiy_EvI",
        "outputId": "65604252-3b46-41a2-824d-c34dfe601cf1"
      },
      "execution_count": 122,
      "outputs": [
        {
          "output_type": "stream",
          "name": "stderr",
          "text": [
            "Preparing sentiment inputs: 100%|██████████| 400/400 [00:00<00:00, 256101.60it/s]\n"
          ]
        }
      ]
    },
    {
      "cell_type": "code",
      "source": [
        "len(sentiment_inputs)"
      ],
      "metadata": {
        "colab": {
          "base_uri": "https://localhost:8080/"
        },
        "id": "p337CXLw_Hoe",
        "outputId": "0a1d35c4-94e0-4061-cc2d-f4476156374d"
      },
      "execution_count": 123,
      "outputs": [
        {
          "output_type": "execute_result",
          "data": {
            "text/plain": [
              "1200"
            ]
          },
          "metadata": {},
          "execution_count": 123
        }
      ]
    },
    {
      "cell_type": "code",
      "source": [
        "sentiment_inputs[:6]"
      ],
      "metadata": {
        "colab": {
          "base_uri": "https://localhost:8080/"
        },
        "id": "ZrymTARi_I_b",
        "outputId": "d1d7ad61-f6bd-498d-8020-bb229a1c2323"
      },
      "execution_count": 124,
      "outputs": [
        {
          "output_type": "execute_result",
          "data": {
            "text/plain": [
              "[{'message': 'ช็อกโกแลต'},\n",
              " {'message': 'เค้กช็อกโกแลตครีมเค้กช็อกโกแลตดำ'},\n",
              " {'message': 'ขนมอร่อย'},\n",
              " {'message': 'สนามบิน'},\n",
              " {'message': 'ร้านอาหารเล็กๆ'},\n",
              " {'message': 'บรรยากาศดีเหมือนอยู่ในท้องนา'}]"
            ]
          },
          "metadata": {},
          "execution_count": 124
        }
      ]
    },
    {
      "cell_type": "code",
      "source": [
        "for i in tqdm(range(len(results_100)), desc=\"Extracting sentiment\"):\n",
        "   result = sentiment_extract.batch(sentiment_inputs[i*3:(i*3)+3])\n",
        "   sentiment_list = [d['sentiment'] for d in result]\n",
        "   results_100[i]['sentiment'] = sentiment_list"
      ],
      "metadata": {
        "colab": {
          "base_uri": "https://localhost:8080/"
        },
        "id": "-LZ-EQDh_KJQ",
        "outputId": "4145f176-aeb1-4f37-da71-ec9d5aefad8f"
      },
      "execution_count": 125,
      "outputs": [
        {
          "output_type": "stream",
          "name": "stderr",
          "text": [
            "Extracting sentiment: 100%|██████████| 400/400 [18:46<00:00,  2.82s/it]\n"
          ]
        }
      ]
    },
    {
      "cell_type": "code",
      "source": [
        "results_100[0:2]"
      ],
      "metadata": {
        "colab": {
          "base_uri": "https://localhost:8080/"
        },
        "id": "fQFcgCbK_MU6",
        "outputId": "ff814c73-2580-45f8-e3a1-47a9707ee597"
      },
      "execution_count": 126,
      "outputs": [
        {
          "output_type": "execute_result",
          "data": {
            "text/plain": [
              "[{'review': 'Chocolate crape cake with strawberry 145฿\\nDark chocolate Ganache cake 145฿\\n\\nบริการแบบ งงๆ แบบมีหลายเคาร์เตอร์ \\n\\nขนมอร่อย ร้านตกแต่งสวย มีทั้งอาหาร ขนม กาแฟ มีของ grocery ให้ซื้อไป cook เองที่บ้านได้ \\n\\nอิ่มคาวมาจากร้านข้างบนแล้ว มาต่อแค่ขนมหวาน 2 ชิ้นเท่านั้น แต่ฟินง่ะ\\n\\nแอบอ่านรีวิวก่อนหน้า ส่วนใหญ่จะ complain อาหารคาว',\n",
              "  'text': {'keywords': 'ช็อกโกแลต, เค้ก, ขนมหวาน'},\n",
              "  'contexts': ['ช็อกโกแลต', 'เค้กช็อกโกแลตครีมเค้กช็อกโกแลตดำ', 'ขนมอร่อย'],\n",
              "  'sentiment': ['neutral', 'neutral', 'positive']},\n",
              " {'review': 'ถ้ามีโอกาสมาสนามบิน ห้ามพลาด ร้านอาหารเล็กๆ มีให้เลือกทั้งก๋วยเตี๋ยว ส้มตำ น้ำตก อาหารจานเดียว หรือกาแฟสด น้ำผลไม้ต่างๆ ให้เลือกหลากหลาย อีกทั้งบรรยากาศดีเหมือนอยู่ในท้องนา ภายในสนามบินยังมีสินค้าจำหน่ายย่อมๆ ให้ซื้อเป็นที่ระลึก และยังมีสวนสัตว์ย่อมๆ ไว้ให้เพลิดเพลินด้วย',\n",
              "  'text': {'keywords': 'สนามบิน, ร้านอาหาร, บรรยากาศ'},\n",
              "  'contexts': ['สนามบิน', 'ร้านอาหารเล็กๆ', 'บรรยากาศดีเหมือนอยู่ในท้องนา'],\n",
              "  'sentiment': ['neutral', 'neutral', 'positive']}]"
            ]
          },
          "metadata": {},
          "execution_count": 126
        }
      ]
    },
    {
      "cell_type": "code",
      "source": [
        "import pandas as pd\n",
        "\n",
        "df = pd.DataFrame([\n",
        "    {\n",
        "        'review': r['review'],\n",
        "        **{f'keyword{i+1}': k.strip() for i, k in enumerate(r['text']['keywords'])},\n",
        "        **{f'context{i+1}_keyword': c for i, c in enumerate(r['contexts'])},\n",
        "        **{f'sentiment{i+1}': s for i, s in enumerate(r['sentiment'])}\n",
        "    }\n",
        "    for r in results_100\n",
        "])"
      ],
      "metadata": {
        "id": "jCE18-LlAw2u"
      },
      "execution_count": 127,
      "outputs": []
    },
    {
      "cell_type": "code",
      "source": [
        "df.to_csv('results.csv', index=False, encoding='utf-8-sig')"
      ],
      "metadata": {
        "id": "g1uRa2fPAzDa"
      },
      "execution_count": 128,
      "outputs": []
    }
  ]
}